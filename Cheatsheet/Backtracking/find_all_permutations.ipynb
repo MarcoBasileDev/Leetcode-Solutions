{
 "cells": [
  {
   "cell_type": "markdown",
   "metadata": {},
   "source": [
    "# Find All Permutations\n",
    "Return all possible permutations of a given array of unique integers. They can be returned in any order.\n",
    "\n",
    "**Example:**\n",
    "```python\n",
    "Input: nums = [4, 5, 6]\n",
    "Output: [[4, 5, 6], [4, 6, 5], [5, 4, 6], [5, 6, 4],\n",
    "         [6, 4, 5], [6, 5, 4]]\n",
    "```"
   ]
  },
  {
   "cell_type": "markdown",
   "metadata": {},
   "source": [
    "## Intuition\n",
    "\n",
    "The key idea is to generate **all** possible permutations of a given array. To achieve this, we need an algorithm that systematically explores each permutation one at a time. **Backtracking** is a natural fit for this task since it allows us to explore all possibilities while pruning invalid paths efficiently. \n",
    "\n",
    "A useful first step in solving backtracking problems is to visualize the **state space tree**.\n",
    "\n",
    "---\n",
    "\n",
    "## State Space Tree\n",
    "\n",
    "To construct a permutation, we start by selecting one number from the array for the first position. Then, for each subsequent position, we pick a number that hasn't been used yet. We continue this process until all numbers are used. To track which numbers have already been used, we maintain a **hash set**.\n",
    "\n",
    "For example, given the array `[4, 5, 6]`, we build permutations as follows:\n",
    "\n",
    "nums = [4, 5, 6], used = {} choose 4 → [4], used = {4} choose 5 → [4, 5], used = {4, 5} choose 6 → [4, 5, 6], used = {4, 5, 6} → found a permutation.\n",
    "\n",
    "\n",
    "Once we form a complete permutation, we **backtrack** to explore other possibilities.\n",
    "\n",
    "1. Remove the most recently added number (`6`), returning to `[4, 5]`.\n",
    "2. Since `6` was the only remaining option, backtrack again by removing `5`, returning to `[4]`.\n",
    "3. Now, instead of `5`, try `6` → `[4, 6]` and explore further.\n",
    "4. Continue this process until all permutations are generated.\n",
    "\n",
    "---\n",
    "\n",
    "## Traversing the State Space Tree\n",
    "\n",
    "Each **node** in the state space tree represents a partially built permutation. The **root node** represents an empty permutation, and at each level, we add an unused number. The **leaf nodes** represent completed permutations.\n",
    "\n",
    "To generate all permutations using **backtracking**, follow these steps:\n",
    "\n",
    "1. **Choose** an unused number and add it to the current permutation. Mark it as used.\n",
    "2. **Recurse** by making a call to explore the next step.\n",
    "3. **Backtrack** by removing the last added number and unmarking it in the used set.\n",
    "\n",
    "Every time the permutation reaches a length of `n` (size of the input array), add it to the output."
   ]
  },
  {
   "cell_type": "code",
   "execution_count": 1,
   "metadata": {},
   "outputs": [],
   "source": [
    "from typing import List, Set\n",
    "\n",
    "def find_all_permutations(nums: List[int]) -> List[List[int]]:\n",
    "    res = []\n",
    "    backtrack(nums, [], set(), res)\n",
    "    return res\n",
    "\n",
    "def backtrack(nums: List[int], candidate: List[int], used: Set[int], res: List[List[int]]) -> None:\n",
    "    \n",
    "    if len(candidate) == len(nums):\n",
    "        res.append(candidate[:])\n",
    "        return\n",
    "    \n",
    "    for num in nums:\n",
    "        if num not in used:\n",
    "            candidate.append(num)\n",
    "            used.add(num)\n",
    "            backtrack(nums, candidate, used, res)\n",
    "            candidate.pop()\n",
    "            used.remove(num)"
   ]
  },
  {
   "cell_type": "markdown",
   "metadata": {},
   "source": [
    "## Complexity Analysis\n",
    "\n",
    "### Time Complexity\n",
    "\n",
    "The time complexity of generating all permutations is **O(n * n!)**. Let's break it down:\n",
    "\n",
    "1. At the root level, we have **n** choices.\n",
    "2. After selecting one number, we have **(n - 1)** choices.\n",
    "3. After selecting another number, we have **(n - 2)** choices.\n",
    "4. This continues until we construct a full permutation, leading to **n!** total permutations.\n",
    "5. For each permutation, we spend **O(n)** time copying it into the output.\n",
    "\n",
    "Thus, the total time complexity is:\n",
    "\n",
    "\n",
    "$$O(n!) \\times O(n) = O(n \\times n!)$$\n",
    "\n",
    "\n",
    "---\n",
    "\n",
    "### Space Complexity\n",
    "\n",
    "The space complexity is **O(n)**, considering:\n",
    "\n",
    "1. **Recursion depth**: The recursive call stack reaches a maximum depth of **n**.\n",
    "2. **Tracking permutations**: We maintain an array of size **n** for the current permutation.\n",
    "3. **Tracking used numbers**: A hash set (or boolean array) of size **n** tracks which numbers are used.\n",
    "\n",
    "Thus, the total auxiliary space is **O(n) (ignoring output storage)**.\n",
    "\n",
    "*Note:* The output storage itself requires **O(n!)** space, but it is not included in the complexity analysis as it's a required part of the problem output."
   ]
  }
 ],
 "metadata": {
  "kernelspec": {
   "display_name": "Python 3",
   "language": "python",
   "name": "python3"
  },
  "language_info": {
   "codemirror_mode": {
    "name": "ipython",
    "version": 3
   },
   "file_extension": ".py",
   "mimetype": "text/x-python",
   "name": "python",
   "nbconvert_exporter": "python",
   "pygments_lexer": "ipython3",
   "version": "3.11.9"
  }
 },
 "nbformat": 4,
 "nbformat_minor": 2
}
