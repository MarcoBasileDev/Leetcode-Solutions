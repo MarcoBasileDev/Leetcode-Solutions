{
 "cells": [
  {
   "cell_type": "markdown",
   "metadata": {},
   "source": [
    "# Find All Subsets\n",
    "Return all possible subsets of a given set of unique integers. Each subset can be ordered in any way, and the subsets can be returned in any order.\n",
    "\n",
    "**Example:**\n",
    "```python\n",
    "Input: nums = [4, 5, 6]\n",
    "Output: [[], [4], [4, 5], [4, 5, 6], [4, 6], [5], [5, 6], [6]]\n",
    "```"
   ]
  },
  {
   "cell_type": "markdown",
   "metadata": {},
   "source": [
    "## Intuition\n",
    "\n",
    "The key intuition for solving this problem lies in understanding that each subset is formed by making a specific decision for every number in the input array: **to include the number or exclude it**.\n",
    "\n",
    "---\n",
    "\n",
    "### State Space Tree\n",
    "\n",
    "Consider the input array **[4, 5, 6]**. Let's start with the root node of the tree, which is an empty subset: **[]**.\n",
    "\n",
    "To determine how we branch out from here, let's consider the decision process for each element:\n",
    "\n",
    "1. For the **first element (4)**, we can either:\n",
    "   - Include it → `[4]`\n",
    "   - Exclude it → `[]`\n",
    "\n",
    "2. For each of these subsets, we repeat the process for the **second element (5)**:\n",
    "   - Include it → `[4, 5]` or `[5]`\n",
    "   - Exclude it → `[4]` or `[]`\n",
    "\n",
    "3. Finally, for the **third element (6)**, we again decide:\n",
    "   - Include it → `[4, 5, 6]`, `[5, 6]`, `[4, 6]`, `[6]`\n",
    "   - Exclude it → `[4, 5]`, `[5]`, `[4]`, `[]`\n",
    "\n",
    "---\n",
    "\n",
    "### Using an Index to Track Elements\n",
    "\n",
    "To keep track of which element of the input array we are making a decision on at each node, we use an **index `i`**.\n",
    "\n",
    "The **final level** of the tree contains all possible subsets of the input array. To reach these subsets, we need to **traverse the tree** using **backtracking**, which systematically explores all possible choices and backtracks when necessary."
   ]
  },
  {
   "cell_type": "code",
   "execution_count": 1,
   "metadata": {},
   "outputs": [],
   "source": [
    "from typing import List\n",
    "\n",
    "def find_all_subsets(nums: List[int]) -> List[List[int]]:\n",
    "    res = []\n",
    "    backtrack(0, [], nums, res)\n",
    "    return res\n",
    "\n",
    "def backtrack(i: int, curr_subset: List[int], nums: List[int], res: List[List[int]]) -> None:\n",
    "    if i == len(nums):\n",
    "        res.append(curr_subset[:])\n",
    "        return\n",
    "\n",
    "    curr_subset.append(nums[i])\n",
    "    backtrack(i + 1, curr_subset, nums, res)\n",
    "    curr_subset.pop()\n",
    "    backtrack(i + 1, curr_subset, nums, res)"
   ]
  },
  {
   "cell_type": "markdown",
   "metadata": {},
   "source": [
    "## Complexity Analysis\n",
    "\n",
    "### Time Complexity\n",
    "\n",
    "The time complexity of generating all subsets is **O(n * 2ⁿ)**. Let's break it down:\n",
    "\n",
    "1. The state space tree has a depth of **n**, and at each step, we make two choices: include or exclude an element. This results in **2ⁿ** subsets.\n",
    "2. For each of the **2ⁿ** subsets, we make a copy and add it to the output, which takes **O(n)** time.\n",
    "\n",
    "Thus, the total time complexity is **O(n * 2ⁿ)**.\n",
    "\n",
    "---\n",
    "\n",
    "### Space Complexity\n",
    "\n",
    "The space complexity is **O(n)**:\n",
    "\n",
    "1. The recursion depth reaches at most **n**, requiring **O(n)** space for the call stack.\n",
    "2. We also maintain a **curr_subset** data structure that holds at most **n** elements at any given time, contributing **O(n)** additional space.\n",
    "\n",
    "Note: The output list of all subsets is not considered in space complexity calculations.\n"
   ]
  }
 ],
 "metadata": {
  "kernelspec": {
   "display_name": "Python 3",
   "language": "python",
   "name": "python3"
  },
  "language_info": {
   "codemirror_mode": {
    "name": "ipython",
    "version": 3
   },
   "file_extension": ".py",
   "mimetype": "text/x-python",
   "name": "python",
   "nbconvert_exporter": "python",
   "pygments_lexer": "ipython3",
   "version": "3.11.9"
  }
 },
 "nbformat": 4,
 "nbformat_minor": 2
}
