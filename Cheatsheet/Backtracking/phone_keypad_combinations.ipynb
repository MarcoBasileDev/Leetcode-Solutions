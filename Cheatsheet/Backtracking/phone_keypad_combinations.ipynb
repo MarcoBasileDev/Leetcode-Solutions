{
 "cells": [
  {
   "cell_type": "markdown",
   "id": "df0c3361",
   "metadata": {},
   "source": [
    "# Phone Keypad Combinations\n",
    "You are given a string containing digits from 2 to 9 inclusive. Each digit maps to a set of letters as on a traditional phone keypad. Return all possible letter combinations the input digits could represent.\n",
    "\n",
    "**Example:**\n",
    "```python\n",
    "Input: digits = '69'\n",
    "Output: ['mw', 'mx', 'my', 'mz', 'nw', 'nx', 'ny', 'nz', 'ow', 'ox', 'oy', 'oz']\n",
    "```"
   ]
  },
  {
   "cell_type": "markdown",
   "id": "87c229e1",
   "metadata": {},
   "source": [
    "## Intuition\n",
    "\n",
    "At each digit in the input string, we have a decision to make: **which letter will this digit represent?**  \n",
    "Each digit (from 2 to 9) maps to a fixed set of letters, similar to the letters on a classic phone keypad.\n",
    "\n",
    "To generate all possible letter combinations, we need to explore every combination of letters that could be formed by selecting one letter per digit. This makes the problem a good candidate for a **backtracking** approach.\n",
    "\n",
    "---\n",
    "\n",
    "## State Space Tree\n",
    "\n",
    "Let’s take the input string `'69'` as an example.\n",
    "\n",
    "- The root of the tree represents an empty string.\n",
    "- The first digit `'6'` maps to the letters `['m', 'n', 'o']`, so we create three branches: one for each of these letters.\n",
    "- For each branch (e.g., starting with `'m'`), the next digit `'9'` maps to `['w', 'x', 'y', 'z']`, so we again branch out by appending each of these letters to the current string (e.g., `'mw'`, `'mx'`, `'my'`, `'mz'`).\n",
    "\n",
    "To keep track of **which digit we’re currently processing**, we use an **index `i`**.  \n",
    "- At each node in the tree, `i` indicates the current position in the input string.\n",
    "- When `i` equals the length of the input string, we've reached a valid full combination and can add it to the result list.\n",
    "\n",
    "This recursive branching naturally fits a **backtracking** approach, where:\n",
    "- We explore a path by appending a letter.\n",
    "- Once we’ve processed all digits, we backtrack to explore other letter choices for previous digits.\n",
    "\n",
    "---\n",
    "\n",
    "## Mapping Digits to Letters\n",
    "\n",
    "To efficiently retrieve the letters associated with each digit, we use a **hash map (dictionary)**.\n",
    "- The keys are the digits as strings.\n",
    "- The values are the strings of letters corresponding to each digit.\n",
    "- This allows us to look up the possible letters for any digit in O(1) time."
   ]
  },
  {
   "cell_type": "code",
   "execution_count": 1,
   "id": "21d263c9",
   "metadata": {},
   "outputs": [],
   "source": [
    "from typing import List, Dict\n",
    "\n",
    "def phone_keypad_combinations(digits: str) -> List[str]:\n",
    "    keypad_map = {\n",
    "        '2': 'abc', '3': 'def', '4': 'ghi', '5': 'jkl',\n",
    "        '6': 'mno', '7': 'pqrs', '8': 'tuv', '9': 'wxyz'\n",
    "    }\n",
    "\n",
    "    res = []\n",
    "    backtrack(0, [], digits, keypad_map, res)\n",
    "\n",
    "    return res\n",
    "\n",
    "\n",
    "def backtrack(i: int, curr_combination: List[str], digits: str, keypad_map: Dict[str, str], res: List[str])-> None:\n",
    "    if len(curr_combination) == len(digits):\n",
    "        res.append(\"\".join(curr_combination))\n",
    "        return\n",
    "    \n",
    "    for letter in keypad_map[digits[i]]:\n",
    "        curr_combination.append(letter)\n",
    "        backtrack(i + 1, curr_combination, digits, keypad_map, res)\n",
    "        curr_combination.pop()"
   ]
  },
  {
   "cell_type": "markdown",
   "id": "be202c93",
   "metadata": {},
   "source": [
    "### Complexity Analysis\n",
    "\n",
    "- **Time Complexity:**  \n",
    "  The time complexity is **O(n × 4ⁿ)**, where `n` is the length of the input digit string.\n",
    "\n",
    "  - In the **worst case**, each digit maps to **4 letters** (e.g., digits '7' and '9').\n",
    "  - This creates a **decision tree** with a **branching factor of up to 4**, and a **depth of n** (one level per digit).\n",
    "  - The total number of combinations generated is therefore **at most 4ⁿ**.\n",
    "  - For each combination, we construct a string of length `n`, which takes **O(n)** time.\n",
    "\n",
    "  Hence, the total time complexity becomes:\n",
    "\n",
    "  $$O(n × 4^n)$$\n",
    "\n",
    "- **Space Complexity:**  \n",
    "  The space complexity is **O(n)** due to:\n",
    "  \n",
    "  - The **call stack** used by the backtracking algorithm, which has a **maximum depth of n** (one recursive call per digit).\n",
    "  - The **current path (partial combination)** being built at each recursive call also has a maximum length of `n`.\n",
    "\n",
    "  The digit-to-letter mapping (`keypad_map`) requires only **O(1)** space since it's a fixed-size hash map with a constant number of entries (digits 2–9).\n",
    "\n",
    "  \n",
    "  $$\\text{Space: } O(n)$$\n"
   ]
  }
 ],
 "metadata": {
  "kernelspec": {
   "display_name": "Python 3",
   "language": "python",
   "name": "python3"
  },
  "language_info": {
   "codemirror_mode": {
    "name": "ipython",
    "version": 3
   },
   "file_extension": ".py",
   "mimetype": "text/x-python",
   "name": "python",
   "nbconvert_exporter": "python",
   "pygments_lexer": "ipython3",
   "version": "3.12.6"
  }
 },
 "nbformat": 4,
 "nbformat_minor": 5
}
