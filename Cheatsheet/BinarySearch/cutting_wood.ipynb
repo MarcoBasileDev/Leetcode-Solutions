{
 "cells": [
  {
   "cell_type": "markdown",
   "metadata": {},
   "source": [
    "# Cutting Wood\n",
    "You are given an array representing the heights of trees, and an integer k representing the total length of wood that needs to be cut.\n",
    "\n",
    "For this task, a woodcutting machine is set to a certain height, H. The machine cuts off the top part of all trees taller than H, while trees shorter than H remain untouched. Determine the highest possible setting of the woodcutter (H) so that it cuts at least k meters of wood.\n",
    "\n",
    "Assume the woodcutter cannot be set higher than the height of the tallest tree in the array.\n",
    "\n",
    "**Example:**<br/>\n",
    "Input: heights = [2, 6, 3, 8], k = 7<br/>\n",
    "Output: 3\n",
    "\n",
    "Explanation: The highest possible height setting that yields at least k = 7 meters of wood is 3, which yields 8 meters of wood. Any height setting higher than this will yield less than 7 meters of wood.\n",
    "\n",
    "**Constraints:**<br/>\n",
    "- It's always possible to attain at least k meters of wood.\n",
    "- There's at least one tree."
   ]
  },
  {
   "cell_type": "markdown",
   "metadata": {},
   "source": [
    "## **Intuition**\n",
    "In this problem, the search space does not encompass the input array.  \n",
    "We need to **increase** the woodcutter's height setting (H) from **0 to the maximum tree height** to progressively **decrease** the amount of wood collected.  \n",
    "Our goal is to **find the highest value of H** that still allows us to collect **at least** `k` meters of wood.  \n",
    "\n",
    "## **Determining if a Height Setting Yields Enough Wood**\n",
    "We define a helper function `cuts_enough_wood(H, k)`, which checks whether a given height setting `H` allows us to collect **at least** `k` meters of wood.  \n",
    "\n",
    "- This function calculates the **total wood** obtained by cutting all trees **taller** than `H`.  \n",
    "- If the total **meets or exceeds** `k`, the function returns **true**; otherwise, it returns **false**.  \n",
    "\n",
    "A **brute-force** approach would involve calling `cuts_enough_wood` for each possible `H` from **0** to the maximum tree height. However, since the results of this function form a **monotonic sequence** (all `true` outcomes appear before all `false` ones), we can optimize the search using **binary search**.\n",
    "\n",
    "## **Binary Search**\n",
    "Our goal is to find the **largest value of H** that still cuts **at least** `k` meters of wood. This corresponds to finding the **upper bound** of `H` that satisfies this condition.  \n",
    "To achieve this, we perform an **upper-bound binary search**, where the midpoint is calculated using: **mid = (left + right) // 2 + 1**.\n",
    "\n",
    "### **Defining the Search Space**\n",
    "- The **search space** consists of all possible values of `H`, ranging from **0** to the **height of the tallest tree** in the array.  \n",
    "- This range represents all potential values of `H` that could yield `k` meters of wood.\n",
    "\n",
    "### **Narrowing the Search Space**\n",
    "1. **Case 1: The midpoint allows us to collect at least `k` meters of wood.**  \n",
    "   - This means the **upper bound** of `H` might be **further right**.  \n",
    "   - **Action:** Narrow the search space **to the right**, including the midpoint.  \n",
    "\n",
    "2. **Case 2: The midpoint does not allow us to collect enough wood.**  \n",
    "   - This means the **upper bound** of `H` is **to the left**.  \n",
    "   - **Action:** Narrow the search space **to the left**, excluding the midpoint.  \n"
   ]
  },
  {
   "cell_type": "code",
   "execution_count": 1,
   "metadata": {},
   "outputs": [],
   "source": [
    "from typing import List\n",
    "\n",
    "def cutting_wood(heights: List[int], k: int) -> int:\n",
    "    left, right = 0, max(heights)\n",
    "\n",
    "    while left < right:\n",
    "        mid = (left + right) // 2 + 1\n",
    "\n",
    "        if cuts_enough_wood(mid, k, heights):\n",
    "            left = mid\n",
    "        else:\n",
    "            right = mid - 1\n",
    "    \n",
    "    return right\n",
    "\n",
    "def cuts_enough_wood(H: int, k: int, heights: List[int]) -> bool:\n",
    "    wood_collected = 0\n",
    "    for height in heights:\n",
    "        if height > H:\n",
    "            wood_collected += (height - H)\n",
    "    \n",
    "    return wood_collected >= k"
   ]
  },
  {
   "cell_type": "markdown",
   "metadata": {},
   "source": [
    "The time complexity is O(n log(m)), where n denotes the number of trees, and m denotes the maximum height of trees. This is because we perform a binary search over the range [0, m]. Each iteration of the binary search calls cuts_enough_wood, which runs in O(n) time. So the overall time complexity of O(log m) * O(n) = O(n log(m)).\n",
    "\n",
    "The space complexity is O(1)."
   ]
  }
 ],
 "metadata": {
  "kernelspec": {
   "display_name": "Python 3",
   "language": "python",
   "name": "python3"
  },
  "language_info": {
   "codemirror_mode": {
    "name": "ipython",
    "version": 3
   },
   "file_extension": ".py",
   "mimetype": "text/x-python",
   "name": "python",
   "nbconvert_exporter": "python",
   "pygments_lexer": "ipython3",
   "version": "3.11.9"
  }
 },
 "nbformat": 4,
 "nbformat_minor": 2
}
