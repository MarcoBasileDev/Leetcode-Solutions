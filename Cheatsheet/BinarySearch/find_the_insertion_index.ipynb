{
 "cells": [
  {
   "cell_type": "markdown",
   "metadata": {},
   "source": [
    "# Find the Insertion Index\n",
    "You are given a sorted array that contains unique values, along with an integer target.\n",
    "- If the array contains the target value, return its index.\n",
    "- Otherwise, return the insertion index. This is the index where the target would be if it were inserted in order, maintaining the sorted sequence of the array.\n",
    "\n",
    "**Example 1:**<br/>\n",
    "Input: nums = [1, 2, 4, 5, 7, 8, 9], target = 4<br/>\n",
    "Output: 2\n",
    "\n",
    "**Example 2:**<br/>\n",
    "Input: nums = [1, 2, 4, 5, 7, 8, 9], target = 6<br/>\n",
    "Output: 4"
   ]
  },
  {
   "cell_type": "markdown",
   "metadata": {},
   "source": [
    "## **Intuition**\n",
    "The goal of this problem varies depending on whether the **sorted input array** contains the **target** value or not.  \n",
    "- **If the target exists**, return its **index**.  \n",
    "- **If the target does not exist**, return its **insertion index**, which is the first value in the array greater than the target.  \n",
    "\n",
    "Since we **don’t know** if the target exists beforehand, we can **combine both cases** by **finding the first value** greater than or equal to the target.  \n",
    "This gives us a **universal objective**, regardless of whether the target is in the array or not.  \n",
    "\n",
    "Because the array is **sorted**, we can use **Binary Search** to efficiently find the desired index.\n",
    "\n",
    "---\n",
    "\n",
    "## **Binary Search**\n",
    "In this **binary search**, we are effectively looking for **the first value** that matches a **condition**:  \n",
    "> The number is **greater than or equal** to the **target**.  \n",
    "\n",
    "This means we are **searching for the lower bound**, which is the **leftmost occurrence** of the condition.\n",
    "\n",
    "### **Defining the Search Space**\n",
    "- If the **target exists**, it could be found at **any index** within `[0, n - 1]`.  \n",
    "- If the **target is not in the array** and is **larger** than all elements, its **insertion index** is `n`.  \n",
    "\n",
    "Thus, our **search space** should cover **all indices** in the range **`[0, n]`**.\n",
    "\n",
    "---\n",
    "\n",
    "## **Summarizing the Cases**\n",
    "### **Case 1: `mid` value is `>=` target**\n",
    "- This means the **lower bound** is either at **`mid`** or to its **left**.  \n",
    "- **Action:** **Narrow the search space** toward the **left**, ensuring **`mid` is included**.\n",
    "\n",
    "### **Case 2: `mid` value is `<` target**\n",
    "- This means the **lower bound** is **somewhere to the right**.  \n",
    "- **Action:** **Narrow the search space** toward the **right**, ensuring **`mid` is excluded**."
   ]
  },
  {
   "cell_type": "code",
   "execution_count": 1,
   "metadata": {},
   "outputs": [],
   "source": [
    "from typing import List\n",
    "\n",
    "def find_the_insertion_index(nums: List[int], target: int) -> int:\n",
    "    left, right = 0, len(nums)\n",
    "\n",
    "    while left < right:\n",
    "        mid = (left + right) // 2\n",
    "        if nums[mid] >= target:\n",
    "            right = mid\n",
    "        \n",
    "        else:\n",
    "            left = mid + 1\n",
    "    \n",
    "    return left"
   ]
  },
  {
   "cell_type": "markdown",
   "metadata": {},
   "source": [
    "The time complexity is O(log (n)) because it performs a binary search over a search space of size n + 1.\n",
    "\n",
    "The space complexity is O(1)."
   ]
  }
 ],
 "metadata": {
  "kernelspec": {
   "display_name": "Python 3",
   "language": "python",
   "name": "python3"
  },
  "language_info": {
   "codemirror_mode": {
    "name": "ipython",
    "version": 3
   },
   "file_extension": ".py",
   "mimetype": "text/x-python",
   "name": "python",
   "nbconvert_exporter": "python",
   "pygments_lexer": "ipython3",
   "version": "3.12.6"
  }
 },
 "nbformat": 4,
 "nbformat_minor": 2
}
