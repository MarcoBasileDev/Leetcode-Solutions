{
 "cells": [
  {
   "cell_type": "markdown",
   "metadata": {},
   "source": [
    "# Find the Target in a Rotated Sorted Array\n",
    "A rotated sorted array is an array of numbers sorted in ascending order, in which a portion of the array is moved from the beginning to the end. For example, a possible rotation of [1, 2, 3, 4, 5] is [3, 4, 5, 1, 2] , where the first two numbers are moved to the end.\n",
    "\n",
    "Given a rotated sorted array of unique numbers, return the index of a target value. If the target value is not present, return -1.\n",
    "\n",
    "**Example:**<br/>\n",
    "Input: nums = [8, 9, 1, 2, 3, 4, 5, 6, 7], target = 1<br/>\n",
    "Output: 2"
   ]
  },
  {
   "cell_type": "markdown",
   "metadata": {},
   "source": [
    "## **Intuition**\n",
    "A naive solution would iterate through the input array until we find the target number.  \n",
    "This approach takes **O(n)** time and does **not** take advantage of the fact that the input is a **rotated sorted array**.  \n",
    "\n",
    "Since the array was originally sorted before being rotated, we should explore how **binary search** can be applied to efficiently locate the target.\n",
    "\n",
    "## **Search Space**\n",
    "Since the target value **could be anywhere** in the array, our **initial search space** should encompass the **entire array**.\n",
    "\n",
    "## **Narrowing the Search Space**\n",
    "To decide how to adjust our search space, we first compare the **target** with the value at the **midpoint** (`mid`).  \n",
    "\n",
    "- If `nums[mid] == target`, we have **found** our target at index `mid`.  \n",
    "- Otherwise, we determine **which subarray is sorted** and adjust our search accordingly.\n",
    "\n",
    "### **Case 1: The Left Subarray `[left : mid]` is Sorted**\n",
    "- If the **target falls within this subarray's range**, we **narrow the search space to the left**.\n",
    "- Otherwise, we **search in the right subarray**.\n",
    "\n",
    "### **Case 2: The Right Subarray `[mid : right]` is Sorted**\n",
    "- If the **target falls within this subarray's range**, we **narrow the search space to the right**.\n",
    "- Otherwise, we **search in the left subarray**.\n",
    "\n",
    "In some cases, **both subarrays may be sorted**. When this happens, we can use **either** subarray to determine where the target might be.\n",
    "\n",
    "## **Handling Missing Targets**\n",
    "If the **binary search terminates** and narrows down to a **single value**, we must **check whether this value is the target**.  \n",
    "- If it is, we return its **index**.  \n",
    "- If it is **not**, this means the target is **not present** in the array, so we return `-1`."
   ]
  },
  {
   "cell_type": "code",
   "execution_count": 1,
   "metadata": {},
   "outputs": [],
   "source": [
    "from typing import List\n",
    "\n",
    "def find_the_target_in_a_rotated_sorted_array(nums: List[int], target: int) -> int:\n",
    "    left, right = 0, len(nums) - 1\n",
    "\n",
    "    while left < right:\n",
    "        mid = (left + right) // 2\n",
    "\n",
    "        if nums[mid] == target:\n",
    "            return mid\n",
    "        \n",
    "        elif nums[left] <= nums[mid]:\n",
    "            if nums[left] <= target < nums[mid]:\n",
    "                right = mid - 1\n",
    "            else:\n",
    "                left = mid + 1\n",
    "        \n",
    "        else:\n",
    "            if nums[mid] < target <= nums[right]:\n",
    "                left = mid + 1\n",
    "            else:\n",
    "                right = mid - 1\n",
    "    \n",
    "    return left if nums and nums[left] == target else -1"
   ]
  },
  {
   "cell_type": "markdown",
   "metadata": {},
   "source": [
    "The time complexity is O(log n) because we're performing a binary search over an array of length n.\n",
    "\n",
    "The space complexity is O(1)."
   ]
  }
 ],
 "metadata": {
  "kernelspec": {
   "display_name": "Python 3",
   "language": "python",
   "name": "python3"
  },
  "language_info": {
   "codemirror_mode": {
    "name": "ipython",
    "version": 3
   },
   "file_extension": ".py",
   "mimetype": "text/x-python",
   "name": "python",
   "nbconvert_exporter": "python",
   "pygments_lexer": "ipython3",
   "version": "3.11.9"
  }
 },
 "nbformat": 4,
 "nbformat_minor": 2
}
