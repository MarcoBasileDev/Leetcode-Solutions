{
 "cells": [
  {
   "cell_type": "markdown",
   "metadata": {},
   "source": [
    "# Local Maxima in Array\n",
    "A local maxima is a value greater than both its immediate neighbors. Return any local maxima in an array.You may assume that an element is always considered to be strictly greater than a neighbor that is outside the array.\n",
    "\n",
    "**Example:**<br/>\n",
    "Input: nums = [1, 4, 3, 2, 3]<br/>\n",
    "Output: 1 (index 4 is also acceptable)\n",
    "\n",
    "**Constraints:**\n",
    "- No two adjacent elements in the array are equal."
   ]
  },
  {
   "cell_type": "markdown",
   "metadata": {},
   "source": [
    "## Intuition\n",
    "\n",
    "A **naive** approach is to **linearly scan** the array and check for a local maximum by comparing each value to its neighbors. This would take **O(n) time**, but since we can return **any** local maxima, a more efficient method is possible.\n",
    "\n",
    "### Key Observations\n",
    "\n",
    "1. The array has **no adjacent duplicates**, so it **always contains at least one local maximum**.\n",
    "2. If **i + 1 > i**, there must be a local maximum **somewhere to the right** (the slope is increasing).\n",
    "3. If **i + 1 < i**, there must be a local maximum **somewhere to the left** or at `i` itself (the slope is decreasing).\n",
    "\n",
    "### Binary Search Approach\n",
    "\n",
    "Since we can determine the **direction of a local maximum**, we can use **binary search** to efficiently narrow down the search space.\n",
    "\n",
    "---\n",
    "\n",
    "### Steps to Implement Binary Search\n",
    "\n",
    "1. **Define the search space**:  \n",
    "   - A local maximum can exist **at any index** of the array.\n",
    "   - Start with `left = 0` and `right = n - 1`.\n",
    "\n",
    "2. **Find the midpoint**:  \n",
    "   - Compute `mid = (left + right) // 2`.\n",
    "\n",
    "3. **Determine the slope at `mid`**:\n",
    "   - **Case 1 (Descending Slope)**:  \n",
    "     - If `arr[mid] > arr[mid + 1]`, there is a **local maximum on the left** (or at `mid`).\n",
    "     - Narrow search space to the **left**: `right = mid`.\n",
    "   - **Case 2 (Ascending Slope)**:  \n",
    "     - If `arr[mid] < arr[mid + 1]`, there is a **local maximum on the right**.\n",
    "     - Narrow search space to the **right**: `left = mid + 1`.\n",
    "\n",
    "4. **Exit Condition**:\n",
    "   - The loop continues while `left < right`.\n",
    "   - When `left == right`, we have found the local maximum.\n"
   ]
  },
  {
   "cell_type": "code",
   "execution_count": 1,
   "metadata": {},
   "outputs": [],
   "source": [
    "from typing import List\n",
    "\n",
    "def local_maxima_in_array(nums: List[int]) -> int:\n",
    "    left, right = 0, len(nums) - 1\n",
    "\n",
    "    while left < right:\n",
    "        mid = (left + right) // 2\n",
    "        if nums[mid] > nums[mid + 1]:\n",
    "            right = mid\n",
    "        else:\n",
    "            left = mid + 1\n",
    "    \n",
    "    return left"
   ]
  },
  {
   "cell_type": "markdown",
   "metadata": {},
   "source": [
    "### Complexity Analysis\n",
    "The time complexity is O(log(n)), where n denotes the length of the array. This is because we use binary search to find a local maxima.\n",
    "\n",
    "The space complexity is O(1)."
   ]
  }
 ],
 "metadata": {
  "kernelspec": {
   "display_name": "Python 3",
   "language": "python",
   "name": "python3"
  },
  "language_info": {
   "codemirror_mode": {
    "name": "ipython",
    "version": 3
   },
   "file_extension": ".py",
   "mimetype": "text/x-python",
   "name": "python",
   "nbconvert_exporter": "python",
   "pygments_lexer": "ipython3",
   "version": "3.12.6"
  }
 },
 "nbformat": 4,
 "nbformat_minor": 2
}
