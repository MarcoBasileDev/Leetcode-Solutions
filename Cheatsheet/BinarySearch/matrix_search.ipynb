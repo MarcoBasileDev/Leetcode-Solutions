{
 "cells": [
  {
   "cell_type": "markdown",
   "metadata": {},
   "source": [
    "# Matrix Search\n",
    "Determine if a target value exists in a matrix. Each row of the matrix is sorted in non-decreasing order, and the first value of each row is greater than or equal to the last value of the previous row."
   ]
  },
  {
   "cell_type": "markdown",
   "metadata": {},
   "source": [
    "## Intuition\n",
    "\n",
    "A **naïve** solution to search for a target value in a matrix is a **linear scan**, but this does not leverage the **sorted structure** of the matrix.\n",
    "\n",
    "### Key Observation\n",
    "- Each **row** in the matrix is sorted.\n",
    "- Each **row's** values are **greater than or equal** to all values in the previous row.\n",
    "- This means the entire matrix can be treated as a **single, continuous, sorted sequence**.\n",
    "\n",
    "Since **binary search** is efficient for searching sorted sequences, we can use it directly **without flattening the matrix**.\n",
    "\n",
    "---\n",
    "\n",
    "### Mapping a 2D Matrix to a 1D Index\n",
    "Instead of explicitly flattening the matrix, we **map** its elements to a **virtual 1D array** using index transformation.\n",
    "\n",
    "1. **Row-wise mapping**:\n",
    "   - **Row 0** starts at index `0`\n",
    "   - **Row 1** starts at index `n`\n",
    "   - **Row 2** starts at index `2n`\n",
    "   - Generalizing: **Row `r` starts at index `r * n`**\n",
    "\n",
    "2. **Index mapping for any cell `(r, c)`**:\n",
    "   - **Flattened index**: `i = r * n + c`\n",
    "   - **Reverse mapping**:\n",
    "     - **Row**: `r = i // n`\n",
    "     - **Column**: `c = i % n`\n",
    "\n",
    "This transformation allows us to **perform binary search** directly on the matrix as if it were a **1D sorted array**.\n",
    "\n",
    "---\n",
    "\n",
    "### Binary Search Approach\n",
    "\n",
    "1. **Define the search space**:\n",
    "   - First index: `0`\n",
    "   - Last index: `m * n - 1`\n",
    "   - Set `left = 0`, `right = m * n - 1`\n",
    "\n",
    "2. **Perform binary search**:\n",
    "   - Compute midpoint: `mid = (left + right) // 2`\n",
    "   - Convert `mid` to 2D indices:  \n",
    "     - `row = mid // n`\n",
    "     - `col = mid % n`\n",
    "   - Compare `matrix[row][col]` with the target:\n",
    "     - If **less**, move `left` to `mid + 1`\n",
    "     - If **greater**, move `right` to `mid - 1`\n",
    "     - If **equal**, return `true` (found the target)\n",
    "\n",
    "3. **Exit condition**:\n",
    "   - The loop runs while `left ≤ right`, ensuring all possible values are checked.\n",
    "\n",
    "This approach **optimally** searches the matrix in **O(log(m * n))** time complexity."
   ]
  },
  {
   "cell_type": "code",
   "execution_count": 1,
   "metadata": {},
   "outputs": [],
   "source": [
    "from typing import List\n",
    "\n",
    "def matrix_search(matrix: List[List[int]], target: int) -> bool:\n",
    "    m, n = len(matrix), len(matrix[0])\n",
    "    left, right = 0, m * n - 1\n",
    "\n",
    "    while left <= right:\n",
    "        mid = (left + right) // 2\n",
    "        r, c = mid // n, mid % n\n",
    "\n",
    "        if matrix[r][c] == target:\n",
    "            return True\n",
    "        elif matrix[r][c] > target:\n",
    "            right = mid - 1\n",
    "        else:\n",
    "            left = mid + 1\n",
    "    \n",
    "    return False"
   ]
  },
  {
   "cell_type": "markdown",
   "metadata": {},
   "source": [
    "### Complexity Analysis\n",
    "The time complexity is O(log(n * m)) because it performs a binary search over a search space of size m * n.\n",
    "\n",
    "The space complexity is O(1)."
   ]
  }
 ],
 "metadata": {
  "kernelspec": {
   "display_name": "Python 3",
   "language": "python",
   "name": "python3"
  },
  "language_info": {
   "codemirror_mode": {
    "name": "ipython",
    "version": 3
   },
   "file_extension": ".py",
   "mimetype": "text/x-python",
   "name": "python",
   "nbconvert_exporter": "python",
   "pygments_lexer": "ipython3",
   "version": "3.12.6"
  }
 },
 "nbformat": 4,
 "nbformat_minor": 2
}
