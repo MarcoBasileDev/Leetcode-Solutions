{
 "cells": [
  {
   "cell_type": "markdown",
   "metadata": {},
   "source": [
    "# Hamming Weights of Integers\n",
    "The Hamming weight of a number is the number of set bits (1-bits) in its binary representation. Given a positive integer n, return an array where the ith element is the Hamming weight of integer i for all integers from 0 to n.\n",
    "\n",
    "**Example:**\n",
    "```python\n",
    "Input: n = 7\n",
    "Output: [0, 1, 1, 2, 1, 2, 2, 3]\n",
    "```\n",
    "\n",
    "Explanation:\n",
    "| Number | Binary representation | Number of set bits |\n",
    "|--------|------------------------|---------------------|\n",
    "| 0      | 0                      | 0                   |\n",
    "| 1      | 1                      | 1                   |\n",
    "| 2      | 10                     | 1                   |\n",
    "| 3      | 11                     | 2                   |\n",
    "| 4      | 100                    | 1                   |\n",
    "| 5      | 101                    | 2                   |\n",
    "| 6      | 110                    | 2                   |\n",
    "| 7      | 111                    | 3                   |\n"
   ]
  },
  {
   "cell_type": "markdown",
   "metadata": {},
   "source": [
    "## Intuition – Count Bits for Each Number\n",
    "\n",
    "A straightforward approach to count bits is to iterate from `0` to `n`, and for each number, count the number of set bits (`1`s) in its binary representation.\n",
    "\n",
    "### Example:  \n",
    "Let `x = 25`, whose binary form is `11001`.\n",
    "\n",
    "To count the set bits:\n",
    "- Use `x & 1` to check if the **least significant bit (LSB)** is `1`.\n",
    "- Right shift `x` to check the next bit.\n",
    "- Repeat until `x == 0`.\n",
    "\n",
    "#### Step-by-step:\n",
    "\n",
    "1. Check LSB using bitwise AND:\n",
    "   ```text\n",
    "   x    = 11001   (25)\n",
    "   1    = 00001   (1)\n",
    "   ------------------\n",
    "   res  = 00001   → LSB is 1\n",
    "    ```\n",
    "2. Right shift to move to the next bit:\n",
    "   ```text\n",
    "   11001 >> 1 = 01100\n",
    "    ```\n",
    "3. Repeat:\n",
    "    - If `(x & 1) == 1`, increment the count.\n",
    "    - Perform `x >>= 1`.\n",
    "\n",
    "Repeat the above steps until `x == 0`. Doing this for all numbers from `0` to `n` gives the count of set bits for each number."
   ]
  },
  {
   "cell_type": "code",
   "execution_count": 1,
   "metadata": {},
   "outputs": [],
   "source": [
    "from typing import List\n",
    "\n",
    "def hamming_weights_of_integers(n: int) -> List[int]:\n",
    "    return [count_set_bits(x) for x in range(n + 1)]\n",
    "\n",
    "\n",
    "def count_set_bits(x: int) -> int:\n",
    "    count = 0\n",
    "\n",
    "    while x > 0:\n",
    "        count += x & 1 # Increment the count if the LSB is 1.\n",
    "        x >>= 1 # Right shift 'x' to shift the next bit to the LSB position.\n",
    "    \n",
    "    return count"
   ]
  },
  {
   "cell_type": "markdown",
   "metadata": {},
   "source": [
    "### Complexity Analysis\n",
    "\n",
    "- **Time Complexity:**  \n",
    "  For each number `x` from `0` to `n`, counting the set bits takes `O(log x)` time, since a number has roughly `log₂(x)` bits.  \n",
    "  Therefore, the total time complexity is `O(n log n)`.\n",
    "\n",
    "  However, if we assume a fixed integer size (e.g., 32 bits), then each operation takes constant time.  \n",
    "  In this case, the complexity simplifies to **`O(n)`**, since we perform a constant-time operation for each of the `n + 1` numbers.\n",
    "\n",
    "- **Space Complexity:**  \n",
    "  **`O(1)`** – No additional space is used apart from the output array.\n",
    "\n",
    "---"
   ]
  },
  {
   "cell_type": "markdown",
   "metadata": {},
   "source": [
    "## Intuition – Dynamic Programming\n",
    "\n",
    "Instead of recomputing the number of set bits for each number independently, we can build up the result using previously computed values – a classic dynamic programming (DP) approach.\n",
    "\n",
    "Let `dp[x]` represent the number of set bits in integer `x`. When computing `dp[x]`, we already know the values for all integers from `0` to `x - 1`.\n",
    "\n",
    "### Key Insight\n",
    "\n",
    "Right-shifting `x` by 1 (i.e. `x >> 1`) removes its least significant bit (LSB). This gives us a smaller subproblem:  \n",
    "- `dp[x >> 1]` contains the number of set bits in the upper bits of `x`.\n",
    "- The only difference between `x` and `x >> 1` is the LSB, which can be found using `x & 1`.\n",
    "\n",
    "### Recurrence Relation\n",
    "\n",
    "- If LSB is `0` (`x & 1 == 0`):  \n",
    "  `dp[x] = dp[x >> 1]`\n",
    "- If LSB is `1` (`x & 1 == 1`):  \n",
    "  `dp[x] = dp[x >> 1] + 1`\n",
    "\n",
    "This gives the general formula:\n",
    "\n",
    "```python\n",
    "dp[x] = dp[x >> 1] + (x & 1)\n",
    "```\n",
    "\n",
    "### Base case\n",
    "- `dp[0] = 0` → Zero has no set bits."
   ]
  },
  {
   "cell_type": "code",
   "execution_count": 2,
   "metadata": {},
   "outputs": [],
   "source": [
    "from typing import List\n",
    "\n",
    "def hamming_weights_of_integers(n: int) -> List[int]:\n",
    "    dp = [0] * (n + 1)\n",
    "\n",
    "    for x in range(1, n + 1):\n",
    "        dp[x] = dp[x >> 1] + (x & 1)\n",
    "    \n",
    "    return dp"
   ]
  },
  {
   "cell_type": "markdown",
   "metadata": {},
   "source": [
    "### Complexity Analysis\n",
    "The time complexity is O(n) since we populate each element of the DP array once.\n",
    "\n",
    "The space complexity is O(1) because no extra space is used, aside from the space taken up by the output, which is the DP array in this case."
   ]
  }
 ],
 "metadata": {
  "kernelspec": {
   "display_name": "Python 3",
   "language": "python",
   "name": "python3"
  },
  "language_info": {
   "codemirror_mode": {
    "name": "ipython",
    "version": 3
   },
   "file_extension": ".py",
   "mimetype": "text/x-python",
   "name": "python",
   "nbconvert_exporter": "python",
   "pygments_lexer": "ipython3",
   "version": "3.12.6"
  }
 },
 "nbformat": 4,
 "nbformat_minor": 2
}
