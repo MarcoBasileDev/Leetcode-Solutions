{
 "cells": [
  {
   "cell_type": "markdown",
   "metadata": {},
   "source": [
    "# Lonely Integer\n",
    "Given an integer array where each number occurs twice except for one of them, find the unique number.\n",
    "\n",
    "**Example:**\n",
    "```python\n",
    "Input: nums = [1, 3, 3, 2, 1]\n",
    "Output: 2\n",
    "```\n",
    "**Constraints:**\n",
    "- `nums` contains at least one element."
   ]
  },
  {
   "cell_type": "markdown",
   "metadata": {},
   "source": [
    "## Intuition\n",
    "\n",
    "To find the \"lonely\" integer (the one that appears only once), here are three common approaches:\n",
    "\n",
    "---\n",
    "\n",
    "### Hash Map Approach\n",
    "\n",
    "Use a hash map to count how many times each element appears in the array.\n",
    "\n",
    "- Iterate through the array, incrementing the count of each element in the map.\n",
    "- Then, scan the map to find the element with a count of 1.\n",
    "\n",
    "**Time Complexity:** O(n)  \n",
    "**Space Complexity:** O(n)\n",
    "\n",
    "---\n",
    "\n",
    "### Sorting Approach\n",
    "\n",
    "Sort the array and scan through it, comparing each element with its neighbors.\n",
    "\n",
    "- The lonely integer will be the one that doesn't have an identical neighbor.\n",
    "- Sorting takes O(n log n), but no extra data structures are required beyond sorting.\n",
    "\n",
    "**Time Complexity:** O(n log n)  \n",
    "**Space Complexity:** Depends on the sorting algorithm (typically O(1) to O(n))\n",
    "\n",
    "---\n",
    "\n",
    "### Bit Manipulation (XOR)\n",
    "\n",
    "Leverage the XOR operation:\n",
    "\n",
    "- `a ^ a = 0`, and `0 ^ b = b`\n",
    "- XOR all elements in the array; duplicates cancel out, leaving the lonely integer.\n",
    "\n",
    "**Properties:**\n",
    "- Commutative: `a ^ b = b ^ a`\n",
    "- Associative: `(a ^ b) ^ c = a ^ (b ^ c)`\n",
    "\n",
    "**Example:**\n",
    "```text\n",
    "nums = [1 3 3 2 1]\n",
    "XOR all elements: 1 ^ 3 ^ 3 ^ 2 ^ 1\n",
    "                = (1 ^ 1) ^ (3 ^ 3) ^ 2\n",
    "                = 0 ^ 0 ^ 2\n",
    "                = 2\n",
    "```"
   ]
  },
  {
   "cell_type": "markdown",
   "metadata": {},
   "source": [
    "### Complexity Analysis\n",
    "The time complexity is O(n) because we perform a constant time XOR operation on each element in nums.\n",
    "\n",
    "The space complexity is O(1)."
   ]
  },
  {
   "cell_type": "code",
   "execution_count": 1,
   "metadata": {},
   "outputs": [],
   "source": [
    "from typing import List\n",
    "\n",
    "def lonely_integer(nums: List[int]) -> int:\n",
    "    res = 0\n",
    "\n",
    "    for num in nums:\n",
    "        res ^= num\n",
    "    \n",
    "    return res"
   ]
  }
 ],
 "metadata": {
  "kernelspec": {
   "display_name": "Python 3",
   "language": "python",
   "name": "python3"
  },
  "language_info": {
   "codemirror_mode": {
    "name": "ipython",
    "version": 3
   },
   "file_extension": ".py",
   "mimetype": "text/x-python",
   "name": "python",
   "nbconvert_exporter": "python",
   "pygments_lexer": "ipython3",
   "version": "3.12.6"
  }
 },
 "nbformat": 4,
 "nbformat_minor": 2
}
