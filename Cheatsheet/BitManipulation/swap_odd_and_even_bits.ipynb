{
 "cells": [
  {
   "cell_type": "markdown",
   "id": "53b827c4",
   "metadata": {},
   "source": [
    "# Swap Odd and Even Bits\n",
    "Given an unsigned 32-bit integer n, return an integer where all of n's even bits are swapped with their adjacent odd bits.\n",
    "\n",
    "**Example 1:**\n",
    "```text\n",
    "Input: n = 41 | 1 0 1 0 0 1 (41)\n",
    "Output: 22    | 0 1 0 1 1 0 (22)\n",
    "```\n",
    "\n",
    "**Example 1:**\n",
    "```text\n",
    "Input: n = 23 | 0 1 0 1 1 1 (23)\n",
    "Output: 43    | 1 0 1 0 1 1 (43)\n",
    "```"
   ]
  },
  {
   "cell_type": "markdown",
   "id": "07a61e24",
   "metadata": {},
   "source": [
    "## Intuition\n",
    "Swapping even and odd bits means that each bit in an even position is swapped with the bit in the next odd position, and vice versa. Note that the positions start at position 0, which is the position of the least significant bit.\n",
    "\n",
    "The key thing to notice is that, in order to perform the swap:\n",
    "- All bits in the even positions need to be shifted one position to the left.\n",
    "- All bits in the odd positions need to be shifted one position to the right.\n",
    "\n",
    "This indicates that if we had a way to extract all the even and odd-positioned bits separately, we could shift them accordingly and then merge them back together, so the odd-positioned bits are in the even positions, and vice versa.\n",
    "\n",
    "---\n",
    "\n",
    "### Obtaining all even bits\n",
    "To obtain all even bits of n, we can use a mask which has all even bit positions set to 1. Performing a bitwise-AND with this mask and n gives us an integer where all the bits at odd positions are set to 0, ensuring only the bits in even positions of n are preserved.\n",
    "\n",
    "---\n",
    "\n",
    "### Obtaining all the odd bits\n",
    "To obtain all the odd bits of n, we can use a mask with all odd bit positions are set to 1. Performing a bitwise-AND with this mask and n gives us an integer where all the bits at even positions are set to 0, ensuring only the bits ad odd positions of n are preserved.\n",
    "\n",
    "---\n",
    "\n",
    "### Shifting and merging the bits at odd and even positions\n",
    "We can use the shift operator to shift the bits at even positions to the left once, and the bits at odd positions to the right once. Then, to merge these together, we can use the bitwise-OR operator because it combines the two sets of bits into the final result.\n",
    "\n",
    "---\n",
    "\n",
    "### Complexity Analysis\n",
    "The time complexity is O(1).\n",
    "\n",
    "The space complexity is O(1)."
   ]
  },
  {
   "cell_type": "code",
   "execution_count": 1,
   "id": "2de37b10",
   "metadata": {},
   "outputs": [],
   "source": [
    "def swap_odd_and_even_bits(n: int) -> int:\n",
    "    even_mask = 0x55555555\n",
    "    odd_mask = 0xAAAAAAAA\n",
    "    even_bits = n & even_mask\n",
    "    odd_bits = n & odd_mask\n",
    "\n",
    "    return (even_bits << 1) | (odd_bits >> 1)"
   ]
  }
 ],
 "metadata": {
  "kernelspec": {
   "display_name": "Python 3",
   "language": "python",
   "name": "python3"
  },
  "language_info": {
   "codemirror_mode": {
    "name": "ipython",
    "version": 3
   },
   "file_extension": ".py",
   "mimetype": "text/x-python",
   "name": "python",
   "nbconvert_exporter": "python",
   "pygments_lexer": "ipython3",
   "version": "3.11.9"
  }
 },
 "nbformat": 4,
 "nbformat_minor": 5
}
