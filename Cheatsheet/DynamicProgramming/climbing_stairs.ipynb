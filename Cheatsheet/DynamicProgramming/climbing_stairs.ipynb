{
 "cells": [
  {
   "cell_type": "markdown",
   "metadata": {},
   "source": [
    "# Climbing Stairs\n",
    "Determine the number of distinct ways to climb a staircase of n steps by taking either 1 or 2 steps at a time.\n",
    "\n",
    "```python\n",
    "Input: n = 4\n",
    "Output: 5\n",
    "```"
   ]
  },
  {
   "cell_type": "markdown",
   "metadata": {},
   "source": [
    "## Intuition - Top-Down Approach\n",
    "\n",
    "A brute-force solution to this problem involves exploring all possible combinations of moving 1 or 2 steps up the stairs until reaching the top. But how would we implement this? Let's consider how we reach step `i`.\n",
    "\n",
    "One key observation is that to reach step `i`, we must have arrived from either:\n",
    "1. Step `i - 1`, by taking a single step.\n",
    "2. Step `i - 2`, by taking a double step.\n",
    "\n",
    "This means that the number of ways to reach step `i` is the sum of:\n",
    "- The number of ways to reach step `i - 1` (`climbing_stairs(i - 1)`).\n",
    "- The number of ways to reach step `i - 2` (`climbing_stairs(i - 2)`).\n",
    "\n",
    "This highlights that the problem exhibits **optimal substructure**, meaning that solving `climbing_stairs(n)` depends on solving two of its subproblems. We can express this as the recurrence relation:\n",
    "\n",
    "```plaintext\n",
    "climbing_stairs(n) = climbing_stairs(n - 1) + climbing_stairs(n - 2)\n",
    "```\n",
    "\n",
    "---\n",
    "\n",
    "### Recursive Implementation\n",
    "\n",
    "To implement this using recursion, we must first identify the **base cases**, which represent the simplest subproblems:\n",
    "- If `n == 1`, there is only one way to reach the top (taking one step).\n",
    "- If `n == 2`, there are two ways to reach the top (taking two single steps or one double step).\n",
    "\n",
    "This recursive approach is considered **top-down**, as it starts from the main problem (`n`) and breaks it down into smaller subproblems recursively.\n",
    "\n",
    "However, examining the recursion tree reveals that we perform redundant computations by solving the same subproblem multiple times. This inefficiency becomes significant for large `n`, leading to exponential time complexity. This is where **memoization** comes into play.\n",
    "\n",
    "---\n",
    "\n",
    "### Memoization\n",
    "\n",
    "Memoization involves storing the results of subproblems the first time they are computed and reusing them when needed. This technique significantly reduces the number of recursive calls, optimizing the algorithm.\n",
    "\n",
    "We typically use a **hash map (dictionary)** or an **array** to store previously computed results for constant-time access.\n",
    "\n",
    "By applying memoization, we transform our approach into a **more efficient** solution with a time complexity of **O(n)** instead of the exponential **O(2^n)** of plain recursion."
   ]
  },
  {
   "cell_type": "code",
   "execution_count": 1,
   "metadata": {},
   "outputs": [],
   "source": [
    "memo = {}\n",
    "\n",
    "def climbing_stairs(n: int) -> int:\n",
    "    if n <= 2:\n",
    "        return n\n",
    "    \n",
    "    if n in memo:\n",
    "        return memo[n]\n",
    "\n",
    "    memo[n] = (climbing_stairs(n - 1) + climbing_stairs(n - 2))\n",
    "    \n",
    "    return memo[n]"
   ]
  },
  {
   "cell_type": "markdown",
   "metadata": {},
   "source": [
    "### Complexity Analysis\n",
    "\n",
    "#### Time complexity\n",
    "Without memoization, the time complexity is O(2<sup>n</sup>) because the depth of the recursion tree is n, and its branching factor is 2 since we make 2 recursive calls at each point in the tree.\n",
    "\n",
    "with memoization we ensure each subproblem is solved only once. Since there are n possible subproblems (one for each step from step 1 to step n), the time complexity is O(n)\n",
    "\n",
    "---\n",
    "\n",
    "#### Space complexity\n",
    "The space complexity is O(n) due to the recursive call stack, with grows to a height of n. The memoization array also contributes to the space occupied by storing n key-value pairs."
   ]
  },
  {
   "cell_type": "markdown",
   "metadata": {},
   "source": [
    "## Intuition - Bottom-Up Approach\n",
    "\n",
    "Any problem that can be solved using top-down memoization can also be approached using a bottom-up dynamic programming (DP) technique. Instead of using recursion and memoization, we iteratively build a DP array to store the number of ways to reach each step.\n",
    "\n",
    "---\n",
    "\n",
    "### Transitioning from Memoization to DP\n",
    "In our memoized solution, we store results using:\n",
    "```plaintext\n",
    "memo[n] = memo[n - 1] + memo[n - 2]\n",
    "```\n",
    "\n",
    "Since `memo[i]` holds the number of ways to reach step i, we can replace it with a DP array:\n",
    "```plaintext\n",
    "dp[i] = dp[i - 1] + dp[i - 2]\n",
    "```\n",
    "\n",
    "This approach ensures that we compute results sequentially, starting from the smallest subproblems and building up to `dp[n]`, making it a bottom-up method.\n",
    "\n",
    "---\n",
    "\n",
    "### Base cases\n",
    "\n",
    "We maintain the same base cases:\n",
    "\n",
    "- `dp[1] = 1` (only one way to reach step 1)\n",
    "- `dp[2] = 2` (either two single steps or one double step)\n",
    "\n",
    "With these in place, we iteratively compute `dp[i]` for all i up to n.\n",
    "\n",
    "---\n",
    "\n",
    "### Final Computation\n",
    "Since the DP array mirrors the memoization array, we return dp[n] as our final result. This approach improves efficiency, reducing both time and space complexity compared to plain recursion.\n",
    "\n"
   ]
  },
  {
   "cell_type": "code",
   "execution_count": 2,
   "metadata": {},
   "outputs": [],
   "source": [
    "def climbing_stairs(n: int) -> int:\n",
    "    if n <= 2:\n",
    "        return n\n",
    "    \n",
    "    dp = [0] * (n + 1)\n",
    "    dp[1], dp[2] = 1, 2\n",
    "\n",
    "    for i in range(3, n + 1):\n",
    "        dp[i] = dp[i - 1] + dp[i - 2]\n",
    "    \n",
    "    return dp[n]"
   ]
  },
  {
   "cell_type": "markdown",
   "metadata": {},
   "source": [
    "### Complexity Analysis\n",
    "\n",
    "#### Time complexity\n",
    "The time complexity is O(n) as we iterate through n elements of the DP array.\n",
    "\n",
    "---\n",
    "\n",
    "#### Space complexity\n",
    "The space complexity is O(n) due to the space taken up by the DP array, which contains n + 1 elements."
   ]
  },
  {
   "cell_type": "markdown",
   "metadata": {},
   "source": [
    "## Optimization - Bottom Up\n",
    "\n",
    "An important thing to notice is that in the DP solution, we only ever need to access the previous two values of the DP array (at i - 1 and i - 2) to calculate the current value (at i). This means we don't need to store the entire DP array.\n",
    "\n",
    "Instead, we can use two variables to keep track of the previous two values:\n",
    "- one_step_before: to store the value of dp[i - 1]\n",
    "- two_steps_before: to store the value of dp[i - 2]\n",
    "\n",
    "As we iterate through the steps, we update these two variables to always hold the values of the previous two steps. This approach retains the time complexity of O(n), while reducing space complexity to O(1)."
   ]
  },
  {
   "cell_type": "code",
   "execution_count": 3,
   "metadata": {},
   "outputs": [],
   "source": [
    "def climbing_stairs(n: int) -> int:\n",
    "    if n <= 2:\n",
    "        return n\n",
    "    \n",
    "    one_step_before, two_step_before = 2, 1\n",
    "\n",
    "    for i in range(3, n + 1):\n",
    "        current = one_step_before + two_step_before\n",
    "        two_step_before = one_step_before\n",
    "        one_step_before = current\n",
    "    \n",
    "    return one_step_before"
   ]
  }
 ],
 "metadata": {
  "kernelspec": {
   "display_name": "Python 3",
   "language": "python",
   "name": "python3"
  },
  "language_info": {
   "codemirror_mode": {
    "name": "ipython",
    "version": 3
   },
   "file_extension": ".py",
   "mimetype": "text/x-python",
   "name": "python",
   "nbconvert_exporter": "python",
   "pygments_lexer": "ipython3",
   "version": "3.12.6"
  }
 },
 "nbformat": 4,
 "nbformat_minor": 2
}
