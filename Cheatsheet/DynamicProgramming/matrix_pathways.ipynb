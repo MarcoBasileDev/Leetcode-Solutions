{
 "cells": [
  {
   "cell_type": "markdown",
   "metadata": {},
   "source": [
    "# Matrix Pathways\n",
    "You are positioned at the top-left corner of a m × n matrix, and can only move downward or rightward through the matrix. Determine the number of unique pathways you can take to reach the bottom-right corner of the matrix.\n",
    "\n",
    "**Example:**\n",
    "```python\n",
    "Input: m = 3, n = 3\n",
    "Output: 6\n",
    "```\n",
    "\n",
    "**Constraints:**\n",
    "- m, n ≥ 1"
   ]
  },
  {
   "cell_type": "markdown",
   "metadata": {},
   "source": [
    "## Intuition\n",
    "\n",
    "At each cell, we can either **move right** or **move down**. No matter which direction we choose at any point, it will always bring us closer to the destination. This means we just need to keep moving either right or down until we can no longer do so, at which point we've reached the **bottom-right corner**.\n",
    "\n",
    "Let's analyze the problem **backward**. Suppose we are already at the **bottom-right corner**. How did we get here? We know for certain that we arrived from either:\n",
    "\n",
    "1. The **cell directly above**.\n",
    "2. The **cell directly to the left**.\n",
    "\n",
    "This pattern applies to any cell in the matrix, leading to the following generalization:\n",
    "\n",
    "\n",
    "$$\\text{matrix\\_pathways}(r, c) = \\text{matrix\\_pathways}(r - 1, c) + \\text{matrix\\_pathways}(r, c - 1)$$\n",
    "\n",
    "\n",
    "This formula demonstrates the presence of **subproblems** and an **optimal substructure**, meaning that solving two smaller subproblems helps solve the main problem. This makes the problem well-suited for **dynamic programming (DP)**. We can translate this recurrence relation into a DP formula:\n",
    "\n",
    "\n",
    "$$dp[r][c] = dp[r - 1][c] + dp[r][c - 1]$$\n",
    "\n",
    "\n",
    "where `dp[r][c]` represents the total number of paths leading to cell `(r, c)`.\n",
    "\n",
    "---\n",
    "\n",
    "### Base Cases\n",
    "\n",
    "We know that `dp[0][0]` should be `1`, because there is only **one** way to reach the starting cell `(0,0)`.\n",
    "\n",
    "What else do we know for certain? Since we can **only move right or down**, once we leave a **row** or **column**, we can never return to it. This means that:\n",
    "\n",
    "- Any **cell in row 0** has only **one possible path** (moving right from the starting cell).\n",
    "- Any **cell in column 0** has only **one possible path** (moving down from the starting cell).\n",
    "\n",
    "Thus, we initialize all cells in **row 0** and **column 0** with `1` as the base case.\n",
    "\n",
    "---\n",
    "\n",
    "### Populating the DP Table\n",
    "\n",
    "Once the base cases are set, we **populate the remaining DP table**, starting from cell `(1,1)`, using our recurrence relation:\n",
    "\n",
    "\n",
    "$$dp[r][c] = dp[r - 1][c] + dp[r][c - 1]$$\n",
    "\n",
    "\n",
    "After filling the DP table, the final answer is stored in:\n",
    "\n",
    "\n",
    "$$dp[m - 1][n - 1]$$\n",
    "\n",
    "\n",
    "which represents the number of unique paths to the **bottom-right corner**."
   ]
  },
  {
   "cell_type": "code",
   "execution_count": 1,
   "metadata": {},
   "outputs": [],
   "source": [
    "def matrix_pathways(m: int, n: int) -> int:\n",
    "    dp = [[1] * n for _ in range(m)]\n",
    "\n",
    "    for r in range(1, m):\n",
    "        for c in range(1, n):\n",
    "            dp[r][c] = dp[r - 1][c] + dp[r][c - 1]\n",
    "    \n",
    "    return dp[m - 1][n - 1]"
   ]
  },
  {
   "cell_type": "markdown",
   "metadata": {},
   "source": [
    "### Complexity Analysis\n",
    "\n",
    "#### Time Complexity\n",
    "The **time complexity** is **O(m * n)** because we populate each cell in the DP table exactly **once**.\n",
    "\n",
    "#### Space Complexity\n",
    "The **space complexity** is **O(m * n)** due to the **DP table**, which stores **m × n** elements.\n",
    "\n",
    "---\n",
    "\n",
    "### Optimization: Reducing Space Complexity\n",
    "\n",
    "We can **optimize our solution** by recognizing that, to compute each cell `dp[r][c]`, we only need:\n",
    "\n",
    "1. The **cell above it** → `dp[r - 1][c]` (from the previous row).\n",
    "2. The **cell to the left** → `dp[r][c - 1]` (from the same row being populated).\n",
    "\n",
    "Since we **only depend on the previous row**, **storing the entire DP matrix is unnecessary**. Instead, we can maintain **only two rows**:\n",
    "\n",
    "- `prev_row`: The **previous row**.\n",
    "- `curr_row`: The **current row** being populated.\n",
    "\n",
    "After processing each row, we **update** `prev_row` to store `curr_row` for the next iteration.\n",
    "\n",
    "This reduces the **space complexity** from **O(m * n)** to **O(n)**, since we only store **two arrays of size `n`**."
   ]
  },
  {
   "cell_type": "code",
   "execution_count": 2,
   "metadata": {},
   "outputs": [],
   "source": [
    "def matrix_pathways(m: int, n: int) -> int:\n",
    "    prev_row = [1] * n\n",
    "\n",
    "    for r in range(1, m):\n",
    "        curr_row = [1] * n\n",
    "\n",
    "        for c in range(1, n):\n",
    "            curr_row[c] = prev_row[c] + curr_row[c - 1]\n",
    "        \n",
    "        prev_row = curr_row\n",
    "    \n",
    "    return prev_row[n - 1]"
   ]
  }
 ],
 "metadata": {
  "kernelspec": {
   "display_name": "Python 3",
   "language": "python",
   "name": "python3"
  },
  "language_info": {
   "codemirror_mode": {
    "name": "ipython",
    "version": 3
   },
   "file_extension": ".py",
   "mimetype": "text/x-python",
   "name": "python",
   "nbconvert_exporter": "python",
   "pygments_lexer": "ipython3",
   "version": "3.11.9"
  }
 },
 "nbformat": 4,
 "nbformat_minor": 2
}
