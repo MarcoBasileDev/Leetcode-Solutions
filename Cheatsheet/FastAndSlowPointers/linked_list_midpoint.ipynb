{
 "cells": [
  {
   "cell_type": "markdown",
   "metadata": {},
   "source": [
    "# Linked List Midpoint\n",
    "Given a singly linked list, find and return its middle node. If there are two middle nodes, return the second one.\n",
    "\n",
    "**Example1 :**<br/>\n",
    "1 -> 2 -> 4 -> 7 -> 3<br/>\n",
    "Output: Node 4\n",
    "\n",
    "**Example 2:**<br/>\n",
    "1 -> 2 -> 4 -> 7<br/>\n",
    "Output: Node 4\n",
    "\n",
    "**Constraints:**\n",
    "- The linked list contains at least one node.\n",
    "- The linked list contains unique values."
   ]
  },
  {
   "cell_type": "markdown",
   "metadata": {},
   "source": [
    "## Intuition\n",
    "\n",
    "The most intuitive approach to solving this problem is:\n",
    "1. **Traverse the linked list** to determine its **length (n)**.\n",
    "2. **Traverse the linked list again** to find the **middle node (n/2)**.\n",
    "\n",
    "This approach runs in **O(n) time**, but it requires **two iterations** to find the midpoint.\n",
    "\n",
    "---\n",
    "\n",
    "### **Optimizing to a Single Iteration: Fast & Slow Pointer Technique**\n",
    "\n",
    "To reduce this to **a single iteration**, we can use the **fast and slow pointer technique**:\n",
    "- The **slow pointer** moves **one step at a time**.\n",
    "- The **fast pointer** moves **two steps at a time**.\n",
    "\n",
    "#### **Stopping Condition**\n",
    "- If the length of the linked list is **odd**, the **middle node** is reached when `fast.next == null`.\n",
    "- If the length is **even**, we need to stop when `fast == null`.\n",
    "\n",
    "This ensures that the **slow pointer lands on the middle node** by the time the **fast pointer reaches the end**.\n"
   ]
  },
  {
   "cell_type": "code",
   "execution_count": 1,
   "metadata": {},
   "outputs": [],
   "source": [
    "class ListNode:\n",
    "    def __init__(self, val=None, next=None):\n",
    "        self.val = val\n",
    "        self.next = next\n",
    "\n",
    "\n",
    "def linked_list_midpoint(head: ListNode) -> ListNode:\n",
    "    # Write your code here\n",
    "    slow = fast = head\n",
    "\n",
    "    while fast and fast.next:\n",
    "        slow = slow.next\n",
    "        fast = fast.next.next\n",
    "\n",
    "    return slow"
   ]
  }
 ],
 "metadata": {
  "kernelspec": {
   "display_name": "Python 3",
   "language": "python",
   "name": "python3"
  },
  "language_info": {
   "codemirror_mode": {
    "name": "ipython",
    "version": 3
   },
   "file_extension": ".py",
   "mimetype": "text/x-python",
   "name": "python",
   "nbconvert_exporter": "python",
   "pygments_lexer": "ipython3",
   "version": "3.12.6"
  }
 },
 "nbformat": 4,
 "nbformat_minor": 2
}
