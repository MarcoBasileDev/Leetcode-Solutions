{
 "cells": [
  {
   "cell_type": "markdown",
   "metadata": {},
   "source": [
    "# Bipartite Graph Validation\n",
    "Given an undirected graph, determine if it's bipartite. A graph is bipartite if the nodes can be colored in one of two colors, so that no two adjacent nodes are the same color.\n",
    "\n",
    "The input is presented as an adjacency list, where graph[i] is a list of all nodes adjacent to node i.\n",
    "\n",
    "```python\n",
    "Input: graph = [[1, 4], [0, 2], [1], [4], [0, 3]]\n",
    "Output: True\n",
    "```"
   ]
  },
  {
   "cell_type": "markdown",
   "metadata": {},
   "source": [
    "## Intuition\n",
    "Before diving into a solution, let's first understand what makes a graph bipartite. A graph is **bipartite** if its nodes can be divided into two distinct sets, such that all edges run **only** between nodes from different sets.\n",
    "\n",
    "If a graph is **not** bipartite, it means there's no way to arrange the nodes into two separate sets without at least one edge connecting two nodes within the same set.\n",
    "\n",
    "To determine if a graph is bipartite, we can use **graph coloring**, where we attempt to assign one color to one set of nodes and a different color to the other set, ensuring that no two adjacent nodes share the same color.\n",
    "\n",
    "---\n",
    "\n",
    "### Graph Coloring\n",
    "Let's use **blue** and **orange** for our coloring process. A simple strategy is:\n",
    "\n",
    "- If a node is colored **blue**, color all its neighbors **orange**, and vice versa.\n",
    "\n",
    "Most traversal algorithms allow us to color nodes in this way. Here, we can use **Depth-First Search (DFS)**.\n",
    "\n",
    "But how do we ensure this approach always works? Since we've been **alternating colors** from the beginning of DFS, if we ever encounter two adjacent nodes with the **same color**, it means there's **no valid way** to color the graph. This guarantees that the graph is **not bipartite**.\n",
    "\n",
    "---\n",
    "\n",
    "### Handling Multiple Components\n",
    "The input graph is **not necessarily fully connected**—it could consist of multiple disconnected components. Therefore, we must ensure that **all components** are properly colored by calling DFS on every uncolored node.\n",
    "\n",
    "- If **all components** can be colored using two colors, the graph is **bipartite**.\n",
    "- If **any component** fails the coloring rule, the graph is **not bipartite**.\n",
    "\n",
    "---\n",
    "\n",
    "### Simplifying the Implementation\n",
    "To represent the colors **blue** and **orange**, we use numbers **1** and **-1**, respectively. We maintain an array called `colors`, initialized with all **0s**, where:\n",
    "- `0` represents an **unvisited node**.\n",
    "- `1` represents a **blue** node.\n",
    "- `-1` represents an **orange** node.\n",
    "\n",
    "As we traverse the graph using **DFS**, we update the `colors` array, assigning each node either **1 (blue)** or **-1 (orange)** to ensure proper coloring.\n"
   ]
  },
  {
   "cell_type": "code",
   "execution_count": 1,
   "metadata": {},
   "outputs": [],
   "source": [
    "from typing import List\n",
    "\n",
    "def bipartite_graph_validation(graph: List[List[int]]) -> bool:\n",
    "    colors = [0] * len(graph)\n",
    "\n",
    "    for i in range(len(graph)):\n",
    "        if colors[i] == 0 and not dfs(i, 1, graph, colors):\n",
    "            return False\n",
    "\n",
    "    return True\n",
    "\n",
    "def dfs(node: int, color: int, graph: List[List[int]], colors: List[int]) -> bool:\n",
    "    colors[node] = color\n",
    "\n",
    "    for neighbor in graph[node]:\n",
    "        if colors[neighbor] == color:\n",
    "            return False\n",
    "\n",
    "        if (colors[neighbor] == 0 \n",
    "            and not dfs(neighbor, -color, graph, colors)):\n",
    "            return False\n",
    "    \n",
    "    return True"
   ]
  },
  {
   "cell_type": "markdown",
   "metadata": {},
   "source": [
    "## Complexity Analysis\n",
    "\n",
    "### Time complexity\n",
    "The time complexity is O(n + e), where m denotes the number of nodes and e denotes the number of edges. This is because we explore all nodes in the graph and traverse across e edges during DFS.\n",
    "\n",
    "---\n",
    "\n",
    "### Space complexity\n",
    "The space complexity is O(n) due to the space taken up by the recursive call stack, which can grow as large as n. In addition, the colors array also contributes O(n) space."
   ]
  }
 ],
 "metadata": {
  "kernelspec": {
   "display_name": "Python 3",
   "language": "python",
   "name": "python3"
  },
  "language_info": {
   "codemirror_mode": {
    "name": "ipython",
    "version": 3
   },
   "file_extension": ".py",
   "mimetype": "text/x-python",
   "name": "python",
   "nbconvert_exporter": "python",
   "pygments_lexer": "ipython3",
   "version": "3.11.9"
  }
 },
 "nbformat": 4,
 "nbformat_minor": 2
}
