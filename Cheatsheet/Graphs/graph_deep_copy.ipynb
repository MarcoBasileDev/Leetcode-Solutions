{
 "cells": [
  {
   "cell_type": "markdown",
   "metadata": {},
   "source": [
    "# Graph Deep Copy\n",
    "Given a reference to a node within an undirected graph, create a deep copy (clone) of the graph. The copied graph must be completely independent of the original one. This means you need to make new nodes for the copied graph instead of reusing any nodes from the original graph.\n",
    "\n",
    "**Constraints**:\n",
    "- The value of each node is unique.\n",
    "- Every node in the graph is reachable from the given node."
   ]
  },
  {
   "cell_type": "markdown",
   "metadata": {},
   "source": [
    "## Intuition\n",
    "\n",
    "Our strategy for this problem is to traverse the original graph and create a deep copy during the traversal, effectively cloning each node using **Depth-First Search (DFS)**.\n",
    "\n",
    "---\n",
    "\n",
    "### Traversing the Graph\n",
    "\n",
    "We start by defining the purpose of our DFS function. When called on an input node, the function should create a deep copy of that node along with all its neighbors. Let's break this process down:\n",
    "\n",
    "1. **Create a copy of the input node.**  \n",
    "2. **Ensure the cloned node is connected to clones of all its neighbors.**  \n",
    "   - This is done by recursively calling DFS on each of the original node’s neighbors.  \n",
    "   - Each DFS instance creates a copy of the node and returns it after linking it to its neighbors.  \n",
    "3. **Avoid redundant cloning.**  \n",
    "   - Before cloning a node, we check if it has already been cloned.\n",
    "\n",
    "---\n",
    "\n",
    "### Handling Previously Cloned Nodes\n",
    "\n",
    "To prevent duplicate cloning, we use a **hash map** where:\n",
    "- Each **original node** is a key.\n",
    "- The **corresponding cloned node** is the value.\n",
    "\n",
    "#### How it works:\n",
    "- Before cloning a node, check if it already exists in the hash map.\n",
    "- If it exists, return the existing clone.\n",
    "- If it doesn’t exist, create a new clone, add it to the hash map, and proceed with cloning its neighbors.\n",
    "\n",
    "This ensures that each node is cloned only once and prevents infinite loops in cyclic graphs."
   ]
  },
  {
   "cell_type": "code",
   "execution_count": null,
   "metadata": {},
   "outputs": [],
   "source": [
    "class GraphNode:\n",
    "    def __init__(self, val):\n",
    "        self.val = val\n",
    "        self.neighbors = []\n",
    "\n",
    "\n",
    "def graph_deep_copy(node: GraphNode) -> GraphNode:\n",
    "    if not node:\n",
    "        return None\n",
    "    \n",
    "    return dfs(node)\n",
    "\n",
    "def dfs(node: GraphNode, clone_map = {}) -> GraphNode:\n",
    "    if node in clone_map:\n",
    "        return clone_map[node]\n",
    "    \n",
    "    cloned_node = GraphNode(node.val)\n",
    "    clone_map[node] = cloned_node\n",
    "\n",
    "    for neighbor in node.neighbors:\n",
    "        cloned_neighbor = dfs(neighbor, clone_map)\n",
    "        cloned_node.neighbors.append(cloned_neighbor)\n",
    "    \n",
    "    return cloned_node"
   ]
  },
  {
   "cell_type": "markdown",
   "metadata": {},
   "source": [
    "## Complexity Analysis\n",
    "\n",
    "### Time complexity\n",
    "The time complexity is O(n + e) because we traverse through and create a clone of all n nodes of the original graph, and traverse e edges during DFS.\n",
    "\n",
    "---\n",
    "\n",
    "### Space complexity\n",
    "The space complexity is O(n) due to the space taken up by the recursive call stack, which can grow as large as n. In addition, the clone_map hash map stores a key-value pair for each of the n nodes."
   ]
  }
 ],
 "metadata": {
  "kernelspec": {
   "display_name": "Python 3",
   "language": "python",
   "name": "python3"
  },
  "language_info": {
   "name": "python",
   "version": "3.12.6"
  }
 },
 "nbformat": 4,
 "nbformat_minor": 2
}
