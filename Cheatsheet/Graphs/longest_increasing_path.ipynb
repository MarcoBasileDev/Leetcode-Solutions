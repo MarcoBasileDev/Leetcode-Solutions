{
 "cells": [
  {
   "cell_type": "markdown",
   "metadata": {},
   "source": [
    "# Longest Increasing Path\n",
    "Find the longest strictly increasing path in a matrix of positive integers. A path is a sequence of cells where each on is 4-directionally adjacent (up, down, left, or right) to the previous one."
   ]
  },
  {
   "cell_type": "markdown",
   "metadata": {},
   "source": [
    "## Intuition\n",
    "In this problem, we need to find the **longest strictly increasing path** in a matrix. The term **\"strictly\"** means that the path cannot include two consecutive cells with equal values.\n",
    "\n",
    "From any cell, we can move to a neighboring cell **only if** that neighbor has a **larger** value. We can visualize this matrix as a **graph**, where:\n",
    "- Each **cell** is a **node**.\n",
    "- A **directed edge** exists from a **smaller-valued** cell to a **larger-valued** neighbor.\n",
    "\n",
    "### Observing the Graph Structure\n",
    "On closer inspection, this graph is a **Directed Acyclic Graph (DAG)**:\n",
    "1. The graph is **directed** because we can **only** move from a **smaller** cell to a **larger** one.\n",
    "2. The graph is **acyclic** because we can never return to a smaller value in the path.\n",
    "\n",
    "This means that **finding the longest increasing path in the matrix** is equivalent to **finding the longest path in a DAG**. \n",
    "\n",
    "---\n",
    "\n",
    "## Traversing the Matrix\n",
    "One way to solve this is to:\n",
    "- Compute the **longest increasing path starting from each cell**.\n",
    "- Return the **maximum** of these values.\n",
    "\n",
    "To do this, we need a way to explore all possible increasing paths from a given cell and determine the longest one. **Depth-First Search (DFS)** is a natural choice.\n",
    "\n",
    "### How DFS Works:\n",
    "1. Start a **DFS** at the first cell `(0,0)`.\n",
    "2. To find the **longest path starting from this cell**, explore **all neighboring cells** with **higher values**.\n",
    "3. Make a recursive **DFS** call for each of these **larger neighbors**.\n",
    "4. The longest path from `(0,0)` is the **maximum** of the values returned by DFS, **plus 1** (to include `(0,0)` itself).\n",
    "\n",
    "Since the matrix forms a **DAG**, there's **no need** to explicitly mark cells as \"visited\".\n",
    "\n",
    "To get the final answer:\n",
    "- **Run DFS for every cell** in the matrix.\n",
    "- **Track the longest path starting from each cell**.\n",
    "- The **maximum** of these values gives the **longest increasing path** in the matrix.\n",
    "\n",
    "---\n",
    "\n",
    "## Optimizing with Memoization\n",
    "An important observation is that **DFS might be called on the same cell multiple times**. Once we've computed the **longest path from a cell**, we **don't** need to compute it again. \n",
    "\n",
    "To optimize this, we use **memoization**:\n",
    "- Store the **DFS result** for each cell in a **cache**.\n",
    "- If DFS is called on a cell **again**, simply return the cached result instead of recomputing it.\n",
    "\n",
    "This reduces redundant calculations and improves efficiency."
   ]
  },
  {
   "cell_type": "code",
   "execution_count": 1,
   "metadata": {},
   "outputs": [],
   "source": [
    "from typing import List\n",
    "\n",
    "def longest_increasing_path(matrix: List[List[int]]) -> int:\n",
    "    if not matrix:\n",
    "        return 0\n",
    "\n",
    "    res = 0\n",
    "    m, n = len(matrix), len(matrix[0])\n",
    "    memo = [[0] * n for _ in range(m)]\n",
    "\n",
    "    for r in range(m):\n",
    "        for c in range(n):\n",
    "            res = max(res, dfs(r, c, matrix, memo))\n",
    "\n",
    "    return res\n",
    "\n",
    "def dfs(r: int, c: int, matrix: List[List[int]], memo: List[List[int]]) -> int:\n",
    "    if memo[r][c] != 0:\n",
    "        return memo[r][c]\n",
    "    \n",
    "    max_path = 1\n",
    "    dirs = [(-1, 0), (1, 0), (0, -1), (0, 1)]\n",
    "\n",
    "    for d in dirs:\n",
    "        next_r, next_c = r + d[0], c + d[1]\n",
    "        \n",
    "        if (is_within_bounds(next_r, next_c, matrix) \n",
    "            and matrix[next_r][next_c] > matrix[r][c]):\n",
    "            max_path = max(max_path, 1 + dfs(next_r, next_c, matrix, memo))\n",
    "    \n",
    "    memo[r][c] = max_path\n",
    "    return max_path\n",
    "\n",
    "def is_within_bounds(r: int, c: int, matrix: List[List[int]]) -> bool:\n",
    "    return 0 <= r < len(matrix) and 0 <= c < len(matrix[0])"
   ]
  },
  {
   "cell_type": "markdown",
   "metadata": {},
   "source": [
    "## Complexity Analysis\n",
    "\n",
    "### Time complexity\n",
    "The time complexity is O(m*n), where m denotes the number of rows and n denotes the number of columns. This is because each cell of the matrix is visited at most twice: once when searching for the longest increasing path, and during DFS where each cell is visited at most once due to memoization.\n",
    "\n",
    "---\n",
    "\n",
    "### Space complexity\n",
    "The space complexity is O(m\\*n) mostly due to the recursive call stack during DFS, and the memoization table, both of which can grow to m * n size."
   ]
  }
 ],
 "metadata": {
  "kernelspec": {
   "display_name": "Python 3",
   "language": "python",
   "name": "python3"
  },
  "language_info": {
   "codemirror_mode": {
    "name": "ipython",
    "version": 3
   },
   "file_extension": ".py",
   "mimetype": "text/x-python",
   "name": "python",
   "nbconvert_exporter": "python",
   "pygments_lexer": "ipython3",
   "version": "3.12.6"
  }
 },
 "nbformat": 4,
 "nbformat_minor": 2
}
