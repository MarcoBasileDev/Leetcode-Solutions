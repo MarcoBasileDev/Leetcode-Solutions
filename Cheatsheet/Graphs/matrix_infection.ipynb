{
 "cells": [
  {
   "cell_type": "markdown",
   "metadata": {},
   "source": [
    "# Matrix Infection\n",
    "You are given a matrix where each cell is either:\n",
    "- 0: Empty\n",
    "- 1: Uninfected\n",
    "- 2: Infected\n",
    "\n",
    "With each passing second, every infected cell (2) infects its uninfected neighboring cells (1) that are 4-directionally adjacent. Determine the number of seconds required for all uninfected cells to become infected. If this is impossible, return ‐1.\n",
    "\n",
    "```python\n",
    "Input: matrix = [[1, 1, 1, 0], [0, 0, 2, 1], [0, 1, 1, 0]]\n",
    "Output: 3\n",
    "```"
   ]
  },
  {
   "cell_type": "markdown",
   "metadata": {},
   "source": [
    "## Intuition\n",
    "Let's begin tackling this problem by considering a simple case where the initial matrix contains only one infected cell.\n",
    "\n",
    "---\n",
    "\n",
    "### Matrix with One Infected Cell\n",
    "Consider a matrix with just one infected cell. An important observation is that each infected (2) and uninfected (1) cell can be treated as nodes in a graph, where edges exist between cells that are 4-directionally adjacent. Therefore, we can visualize these cells as a connected graph.\n",
    "\n",
    "This perspective allows us to frame the problem as a graph traversal problem. But which traversal algorithm best simulates the infection process? To answer this, let's analyze how cells get infected over time.\n",
    "\n",
    "- After the first second, the adjacent uninfected neighbors of the initially infected cell become infected. These cells are at a distance of 1 from the original infected cell.\n",
    "- One second later, the neighbors of these newly infected cells become infected. These cells are at a distance of 2 from the initial infected cell.\n",
    "\n",
    "From this pattern, we see that the outward expansion of the infection resembles level-order traversal in a tree, where each level represents nodes at a specific distance from the initially infected node.\n",
    "\n",
    "Thus, we should use a level-order traversal approach to spread the infection, starting from the infected cell. Each level we traverse corresponds to one second passing in the infection process.\n",
    "\n",
    "For implementation, we know that level-order traversal is a modified version of **Breadth-First Search (BFS)**, so we use a **queue** to implement this traversal.\n",
    "\n",
    "---\n",
    "\n",
    "### Matrix with Multiple Infected Cells\n",
    "If there are multiple initially infected cells, meaning multiple cells exist at level 0 of the traversal, we use a pattern known as **multi-source BFS**. Instead of adding just one cell to the queue before starting the traversal, we enqueue every initially infected cell. This way, the traversal starts with all infected cells at level 0, allowing the infection to spread simultaneously from multiple starting points.\n",
    "\n",
    "---\n",
    "\n",
    "### Unreachable Uninfected Cells\n",
    "It's important to note that it's not always possible to infect all uninfected cells. There may be cases where certain uninfected cells are unreachable.\n",
    "\n",
    "To handle this scenario, we need to check if any uninfected cells remain after the level-order traversal. One way to do this is by scanning the matrix at the end of the traversal to check for remaining `1`s. However, a more efficient approach is:\n",
    "\n",
    "1. While identifying the level 0 infected cells, also count the total number of uninfected (`1`) cells.\n",
    "2. As the level-order traversal progresses, decrement this count for each newly infected cell.\n",
    "3. If, after the traversal, this count is greater than 0, it means some cells remained uninfected. In this case, we return `-1`.\n",
    "\n",
    "This ensures a cleaner and more efficient way to determine if all uninfected cells have been reached."
   ]
  },
  {
   "cell_type": "code",
   "execution_count": 1,
   "metadata": {},
   "outputs": [],
   "source": [
    "from typing import List\n",
    "from collections import deque\n",
    "\n",
    "def matrix_infection(matrix: List[List[int]]) -> int:\n",
    "    dirs = [(-1, 0), (0, -1), (1, 0), (0, 1)]\n",
    "    queue = deque()\n",
    "    ones = seconds = 0\n",
    "\n",
    "    for r in range(len(matrix)):\n",
    "        for c in range(len(matrix[0])):\n",
    "            \n",
    "            if matrix[r][c] == 1:\n",
    "                ones += 1\n",
    "            elif matrix[r][c] == 2:\n",
    "                queue.append((r, c))\n",
    "    \n",
    "    while queue and ones > 0:\n",
    "        seconds += 1\n",
    "\n",
    "        for _ in range(len(queue)):\n",
    "            r, c = queue.popleft()\n",
    "\n",
    "            for d in dirs:\n",
    "                next_r, next_c = r + d[0], c + d[1]\n",
    "                if (is_within_bounds(next_r, next_c, matrix) and matrix[next_r][next_c] == 1):\n",
    "                    matrix[next_r][next_c] = 2\n",
    "                    ones -= 1\n",
    "                    queue.append((next_r, next_c))\n",
    "\n",
    "    return seconds if ones == 0 else -1\n",
    "\n",
    "def is_within_bounds(r: int, c: int, matrix: List[List[int]]) -> bool:\n",
    "    return 0 <= r < len(matrix) and 0 <= c < len(matrix[0])"
   ]
  },
  {
   "cell_type": "markdown",
   "metadata": {},
   "source": [
    "## Complexity Analysis\n",
    "\n",
    "### Time complexity\n",
    "The time complexity is O(m*n), where m denotes the number of rows and n denotes the number of columns. This is because in the worst case, every cell in the matrix is explored during level-order traversal.\n",
    "\n",
    "---\n",
    "\n",
    "### Space complexity\n",
    "The space complexity is O(m\\*n), primarily due to the queue, which can store up to m\\*n cells."
   ]
  }
 ],
 "metadata": {
  "kernelspec": {
   "display_name": "Python 3",
   "language": "python",
   "name": "python3"
  },
  "language_info": {
   "codemirror_mode": {
    "name": "ipython",
    "version": 3
   },
   "file_extension": ".py",
   "mimetype": "text/x-python",
   "name": "python",
   "nbconvert_exporter": "python",
   "pygments_lexer": "ipython3",
   "version": "3.11.9"
  }
 },
 "nbformat": 4,
 "nbformat_minor": 2
}
