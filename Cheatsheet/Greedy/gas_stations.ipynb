{
 "cells": [
  {
   "cell_type": "markdown",
   "metadata": {},
   "source": [
    "# Gas Stations\n",
    "There's a circular route which contains gas stations. At each station, you can fill your car with a certain amount of gas, and moving from that station to the next one consumes some fuel.\n",
    "\n",
    "Find the index of the gas station you would need to start at, in order to complete the circuit without running out of gas. Assume your car starts with an empty tank. If it's not possible to complete the circuit, return -1. If it's possible, assume only one solution exists.\n",
    "\n",
    "**Example:**\n",
    "```python\n",
    "Input: gas = [2, 5, 1, 3], cost = [3, 2, 1, 4]\n",
    "Output: 1\n",
    "```\n",
    "\n",
    "Explanation:\n",
    "- Start at station 1: gain 5 gas (tank = 5), costs 2 gas to go to station 2 (tank = 3).\n",
    "- At station 2: gain 1 gas (tank = 4), costs 1 gas to go to station 2 (tank = 3).\n",
    "- At station 3: gain 3 gas (tank = 6), costs 4 gas to go to station 3 (tank = 2).\n",
    "- At station 0: gain 2 gas (tank = 4), costs 3 gas to go to station 1 (tank = 1).\n",
    "- We started and finished the circuit at station 1 without running out of gas."
   ]
  },
  {
   "cell_type": "markdown",
   "metadata": {},
   "source": [
    "## Intuition\n",
    "\n",
    "Before choosing a starting gas station, we must check if completing the circuit is feasible based on the total gas available.\n",
    "\n",
    "---\n",
    "\n",
    "### Total Gas vs Total Cost\n",
    "\n",
    "- **Case 1**: `sum(gas) < sum(cost)`\n",
    "  \n",
    "  If the total gas is less than the total cost, completing the circuit is **impossible**. Return `-1`.\n",
    "\n",
    "- **Case 2**: `sum(gas) >= sum(cost)`\n",
    "\n",
    "  If the total gas is enough to cover the total cost, **at least one valid starting station must exist**.\n",
    "\n",
    "---\n",
    "\n",
    "### Finding a Starting Point\n",
    "\n",
    "Suppose:\n",
    "```text\n",
    "gas  =  [3, 2, 1, 3, 3, 2, 3, 4]\n",
    "cost =  [2, 1, 4, 1, 2, 6, 0, 3]\n",
    "```\n",
    "\n",
    "We can compute the net gain at each station as `gain[i] = gas[i] - cost[i]`.\n",
    "We simulate the journey with a tank starting at 0:\n",
    "- Accumulate net gains station by station.\n",
    "- If at any point the tank becomes negative, it means we cannot start from the previous starting point or any station in between.\n",
    "- So we reset the tank and try starting at the next station.\n",
    "This greedy approach skips checking all stations individually and jumps to the next potentially valid segment.\n",
    "\n",
    "---\n",
    "\n",
    "### Why this works: Proof by Contradiction\n",
    "Assume `sum(gas) >= sum(cost)` but no valid starting point exists.\n",
    "\n",
    "- Any segment where the tank goes negative must have sum(gain[a..b]) < 0, i.e., more cost than gas.\n",
    "- If every segment has a deficit, then the total sum(gas) would be less than sum(cost)—a contradiction.\n",
    "\n",
    "Hence, if total gas is sufficient, at least one valid start exists, and our greedy approach will find it.\n",
    "\n",
    "### Conclusion\n",
    "In the example above, we end the simulation without a deficit starting from station 6, so we return 6.\n",
    "\n",
    "This is a greedy algorithm: we trust that the first segment where we can reach the end without deficit is globally optimal."
   ]
  },
  {
   "cell_type": "code",
   "execution_count": 1,
   "metadata": {},
   "outputs": [],
   "source": [
    "from typing import List\n",
    "\n",
    "def gas_stations(gas: List[int], cost: List[int]) -> int:\n",
    "    if sum(gas) < sum(cost):\n",
    "        return -1\n",
    "    \n",
    "    start = tank = 0\n",
    "\n",
    "    for i in range(len(gas)):\n",
    "        tank += gas[i] - cost[i]\n",
    "\n",
    "        if tank < 0:\n",
    "            start, tank = i + 1, 0\n",
    "\n",
    "    return start"
   ]
  },
  {
   "cell_type": "markdown",
   "metadata": {},
   "source": [
    "### Complexity Analysis\n",
    "- **Time Complexity:** `O(n)` — single pass over the input arrays.\n",
    "- **Space Complexity:** `O(1)` — constant extra space used."
   ]
  }
 ],
 "metadata": {
  "kernelspec": {
   "display_name": "Python 3",
   "language": "python",
   "name": "python3"
  },
  "language_info": {
   "codemirror_mode": {
    "name": "ipython",
    "version": 3
   },
   "file_extension": ".py",
   "mimetype": "text/x-python",
   "name": "python",
   "nbconvert_exporter": "python",
   "pygments_lexer": "ipython3",
   "version": "3.11.9"
  }
 },
 "nbformat": 4,
 "nbformat_minor": 2
}
