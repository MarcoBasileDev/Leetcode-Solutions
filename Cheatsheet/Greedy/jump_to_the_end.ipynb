{
 "cells": [
  {
   "cell_type": "markdown",
   "metadata": {},
   "source": [
    "# Jump to the End\n",
    "You are given an integer array in which you're originally positioned at index 0. Each number in the array represents the maximum jump distance from the current index. Determine if it's possible to reach the end of the array.\n",
    "\n",
    "**Example 1:**\n",
    "```python\n",
    "Input: nums = [3, 2, 0, 2, 5]\n",
    "Output: True\n",
    "```\n",
    "\n",
    "**Example 2:**\n",
    "```python\n",
    "Input: nums = [2, 1, 0, 3]\n",
    "Output: False\n",
    "```\n",
    "\n",
    "**Constraints:**\n",
    "- There is at least one element in nums.\n",
    "- All integers in nums are non-negative integers."
   ]
  },
  {
   "cell_type": "markdown",
   "metadata": {},
   "source": [
    "## Intuition\n",
    "\n",
    "From any index `i` in the array, we can jump up to `nums[i]` positions to the right. This means the furthest index we can reach from any given index `i` is `i + nums[i]`.\n",
    "\n",
    "If the array consisted entirely of positive numbers, jumping from index `0` to the last index would be straightforward, as there would always be a way to progress forward toward the last index. The challenge arises when we encounter a `0` in the array, as a `0` is effectively a dead end, preventing any further movement.\n",
    "\n",
    "Consider the example:\n",
    "\n",
    "```python\n",
    "[3, 2, 0, 2, 5]\n",
    "```\n",
    "\n",
    "Let's think about this problem backward. Our destination is the last index, `4`, but let's say we've already made it here. How did we reach this index? In this example, it's possible to make it to index `4` from index `3`.\n",
    "\n",
    "This means that if we find a way to reach index `3`, we know for sure we can make it to index `4`. The key observation here is that if we can reach the last index from any earlier index, this earlier index becomes our new destination.\n",
    "\n",
    "With this in mind, let's go through this example in full, starting with the last index as our initial destination.\n",
    "\n",
    "To find earlier indexes that can reach the destination, let's move backward through the array, starting at index `3`. As we do this for each index, we check if we can reach the current destination from this index. If we can, this index becomes the new destination. We do this by checking:\n",
    "\n",
    "```python\n",
    "if i + nums[i] >= destination\n",
    "```\n",
    "\n",
    "If this condition holds, we can jump to the destination from index `i`.\n",
    "\n",
    "With the destination at index `3`, let's continue moving backward through the array.\n",
    "\n",
    "Now, we're at index `2`. We see that we cannot reach the destination from index `2`, so the destination remains unchanged. We continue with this logic for the remaining numbers in the array.\n",
    "\n",
    "Finally, once we've finished iterating through each index, the destination is set to index `0`. This means we've successfully found a way to jump to the end from index `0`.\n",
    "\n",
    "Therefore, we return `true` when `destination == 0`. Otherwise, if we cannot reach the destination from index `0`, we return `false`.\n",
    "\n",
    "---\n",
    "\n",
    "An interesting aspect of this approach is that as soon as we find an index `i` from which we can reach the destination, we update the destination to that index and assume that this is the correct decision. The thing is, there can sometimes be multiple indexes that can reach the destination. So how do we know that choosing the first valid index we encounter from the right is the best choice?\n",
    "\n",
    "The key to understanding why this works is realizing that all the other indexes that can reach the destination can also reach this first valid index. Therefore, by choosing the first valid index, we effectively simplify our problem without missing any potential solutions.\n",
    "\n",
    "This is indicative of a **greedy solution**; since the **greedy choice property** is satisfied, we make the best immediate choice at each step as we move backward through the array (**local optimum**) in the hope that it leads to the overall solution (**global optimum**)."
   ]
  },
  {
   "cell_type": "code",
   "execution_count": 1,
   "metadata": {},
   "outputs": [],
   "source": [
    "from typing import List\n",
    "\n",
    "def jump_to_the_end(nums: List[int]) -> bool:\n",
    "    destination = len(nums) - 1\n",
    "\n",
    "    for i in range(len(nums) -1, -1, -1):\n",
    "        \n",
    "        if i + nums[i] >= destination:\n",
    "            destination = i\n",
    "    \n",
    "    return destination == 0"
   ]
  },
  {
   "cell_type": "markdown",
   "metadata": {},
   "source": [
    "### Complexity Analysis\n",
    "The time complexity is O(n), where n denotes the length of the array. This is because we iterate through each element of nums in reverse order.\n",
    "\n",
    "The space complexity is O(1)."
   ]
  }
 ],
 "metadata": {
  "kernelspec": {
   "display_name": "Python 3",
   "language": "python",
   "name": "python3"
  },
  "language_info": {
   "codemirror_mode": {
    "name": "ipython",
    "version": 3
   },
   "file_extension": ".py",
   "mimetype": "text/x-python",
   "name": "python",
   "nbconvert_exporter": "python",
   "pygments_lexer": "ipython3",
   "version": "3.11.9"
  }
 },
 "nbformat": 4,
 "nbformat_minor": 2
}
