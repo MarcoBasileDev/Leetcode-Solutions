{
 "cells": [
  {
   "cell_type": "markdown",
   "metadata": {},
   "source": [
    "# Longest Chain of Consecutive Numbers\n",
    "Find the longest chain of consecutive numbers in an array. Two numbers are consecutive if they have a difference of 1.\n",
    "\n",
    "**Example:**<br/>\n",
    "Input: nums = [1, 6, 2, 5, 8, 7, 10, 3]<br/>\n",
    "Output:4<br/>\n",
    "Explanation: The longest chain of consecutive numbers is 5,6,7,8."
   ]
  },
  {
   "cell_type": "markdown",
   "metadata": {},
   "source": [
    "## Intuition\n",
    "\n",
    "A naive approach to this problem is to **sort the array**. When all numbers are arranged in ascending order, consecutive numbers will be placed next to each other. This allows us to traverse the array and identify the longest sequence of consecutive numbers.\n",
    "\n",
    "This approach requires sorting, which takes **O(n log n)** time, where _n_ is the length of the array. Let's see if we can do better.\n",
    "\n",
    "It’s important to note that every number in the array can represent the start of a consecutive sequence. One approach is to treat each number as the start of a sequence and search through the array to identify the rest of its chain.\n",
    "\n",
    "For any number `num`, its next consecutive number will be `num + 1`. This means we always know which number to look for when trying to extend a sequence."
   ]
  },
  {
   "cell_type": "code",
   "execution_count": 1,
   "metadata": {},
   "outputs": [],
   "source": [
    "from typing import List\n",
    "\n",
    "def longest_chain_of_consecutive_numbers(nums: List[int]) -> int:\n",
    "    if not nums:\n",
    "        return 0\n",
    "\n",
    "    longest_chain = 0\n",
    "\n",
    "    for num in nums:\n",
    "        current_num = num\n",
    "        current_chain = 1\n",
    "\n",
    "        while (current_num + 1) in nums:\n",
    "            current_num += 1\n",
    "            current_chain += 1\n",
    "        \n",
    "        longest_chain = max(longest_chain, current_chain)\n",
    "        \n",
    "    return longest_chain"
   ]
  },
  {
   "cell_type": "markdown",
   "metadata": {},
   "source": [
    "This brute force approach takes **O(n³)** time due to the nested operations involved:  \n",
    "\n",
    "- The outer **for-loop** iterates through each element, taking **O(n)** time.  \n",
    "- For each element, the inner **while-loop** can potentially run up to **O(n)** iterations if there is a long consecutive sequence starting from the current number.  \n",
    "- In each **while-loop** iteration, we check if a number exists in the array, adding another **O(n)** factor.  \n",
    "\n",
    "This results in an overall time complexity of **O(n³)**, making it slower than the sorting approach. However, we can introduce some optimizations to improve the time complexity.\n",
    "\n",
    "---\n",
    "\n",
    "### **Optimization-identifying the start of each chain**\n",
    "\n",
    "To find the next number in a sequence, we perform a **linear search** through the array. However, by  \n",
    "storing all the numbers in a **hash set**, we can instead query it in **constant time** to check if a number exists.  \n",
    "\n",
    "This reduces the time complexity from **O(n³) to O(n²)**.  \n",
    "\n",
    "---\n",
    "\n",
    "### **Optimization-identifying the start of each chain**\n",
    "\n",
    "In the brute force approach, we treat each number as the start of a chain. This becomes quite  \n",
    "expensive because we perform a **linear search** for every number to find the rest of its chain.  \n",
    "\n",
    "We can determine if a number is the smallest in its chain by checking whether the array does not  \n",
    "contain the preceding number (`curr_num - 1`). We can also use a **hash set** for this check.  \n",
    "\n",
    "This reduces the time complexity from **O(n²) to O(n)**, as now each chain is traversed only once.  \n",
    "This is explained in more detail in the complexity analysis."
   ]
  },
  {
   "cell_type": "code",
   "execution_count": 3,
   "metadata": {},
   "outputs": [],
   "source": [
    "from typing import List\n",
    "\n",
    "def longest_chain_of_consecutive_numbers(nums: List[int]) -> int:\n",
    "    if not nums:\n",
    "        return 0\n",
    "\n",
    "    num_set = set(nums)\n",
    "    longest_chain = 0\n",
    "\n",
    "    for num in num_set:\n",
    "        if num - 1 not in num_set:\n",
    "            current_num = num\n",
    "            current_chain = 1\n",
    "\n",
    "            while (current_num + 1) in num_set:\n",
    "                current_num += 1\n",
    "                current_chain += 1\n",
    "            longest_chain = max(current_chain, longest_chain)\n",
    "    \n",
    "    return longest_chain"
   ]
  },
  {
   "cell_type": "markdown",
   "metadata": {},
   "source": [
    "### Time Complexity\n",
    "\n",
    "The time complexity is **O(n)**.  \n",
    "\n",
    "Although there are two loops, the **inner loop** is only executed when the current number is the start of a chain. This ensures that each chain is iterated through **only once** in the inner while-loop.  \n",
    "\n",
    "Thus, the total number of iterations for both loops combined is **O(n)**:  \n",
    "- The outer **for-loop** runs **n** times.  \n",
    "- The inner **while-loop** runs a total of **n** times across all iterations.  \n",
    "\n",
    "This results in a combined time complexity of **O(n + n) = O(n)**.  \n",
    "\n",
    "### Space Complexity  \n",
    "\n",
    "The space complexity is **O(n)** since the hash set stores each unique number from the array."
   ]
  }
 ],
 "metadata": {
  "kernelspec": {
   "display_name": "Python 3",
   "language": "python",
   "name": "python3"
  },
  "language_info": {
   "codemirror_mode": {
    "name": "ipython",
    "version": 3
   },
   "file_extension": ".py",
   "mimetype": "text/x-python",
   "name": "python",
   "nbconvert_exporter": "python",
   "pygments_lexer": "ipython3",
   "version": "3.12.6"
  }
 },
 "nbformat": 4,
 "nbformat_minor": 2
}
