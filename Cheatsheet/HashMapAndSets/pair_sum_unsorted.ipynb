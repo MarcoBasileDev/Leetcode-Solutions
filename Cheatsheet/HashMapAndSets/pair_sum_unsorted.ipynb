{
 "cells": [
  {
   "cell_type": "markdown",
   "metadata": {},
   "source": [
    "# Pair Sum - Unsorted\n",
    "Given an array of integers, return the indexes of any two numbers that add up to a target. The order of the indexes in the resul doesn't matter. If no pair is found, return an empty array.\n",
    "\n",
    "Example:<br/>\n",
    "Input: nums = [-1, 3, 4, 2], target = 3<br/>\n",
    "Output: [0, 2]<br/>\n",
    "Explanation: nums[0]"
   ]
  },
  {
   "cell_type": "markdown",
   "metadata": {},
   "source": [
    "## Intuition\n",
    "A brute force approach is to iterate through every possible pari in the array to see if their sum is equal to the target. The time complexity is O(n<sup>2</sup>), where n is the length of the array. <br/>\n",
    "Another possibile solution is sorting the array and then use a two-pointers approach. This will lead us to O(n log n) time complexity due to the sorting algorithm."
   ]
  },
  {
   "cell_type": "code",
   "execution_count": 1,
   "metadata": {},
   "outputs": [],
   "source": [
    "from typing import List\n",
    "\n",
    "def pair_sum_unsorted(nums: List[int], target: int) -> List[int]:\n",
    "\n",
    "    for i in range(len(nums)):\n",
    "        for j in range(i + 1, len(nums)):\n",
    "            if nums[i] + nums[j] == target:\n",
    "                return [i, j]\n",
    "\n",
    "    return []"
   ]
  },
  {
   "cell_type": "markdown",
   "metadata": {},
   "source": [
    "We are tasked with finding two numbers in a list nums whose sum equals a given target. Specifically, for each number x in the list, we want to find a second number y such that x + y == target.<br/>\n",
    "If we know one of the numbers (say x), we can easily calculate what the other number y should be y == target − x.<br/>\n",
    "So, we are essentially looking for the pair of numbers (x, y) where their sum equals the target.<br/>\n",
    "The problem is asking us to return the indices of the two numbers that sum to the target. One efficient way to approach this problem is by using a hash map (or dictionary). A hash map allows us to store values with their corresponding indices, and we can retrieve the index of any number efficiently in constant time, i.e., O(1).<br/>\n",
    "Key steps:\n",
    "- For each number x in the list, calculate its complement.\n",
    "- If y is already in the hash map, it means we have previously econuntered a number that, when added to x, gives the target sum. Therefore, we have found the pair of numbers, and we can immediately return their indices."
   ]
  },
  {
   "cell_type": "code",
   "execution_count": 3,
   "metadata": {},
   "outputs": [],
   "source": [
    "from typing import List\n",
    "\n",
    "def pair_sum_unsorted(nums: List[int], target: int) -> List[int]:\n",
    "    \n",
    "    dic = {}\n",
    "\n",
    "    for i, x in enumerate(nums):\n",
    "        diff = target - x\n",
    "        if diff in dic:\n",
    "            return [dic[diff], i]\n",
    "        \n",
    "        dic[x] = i\n",
    "\n",
    "    return []"
   ]
  },
  {
   "cell_type": "markdown",
   "metadata": {},
   "source": [
    "The time complexity is O(n) because we iterate through each element in the nums array once and perform constant-time hash map operations during each iteration.<br/>\n",
    "The space complexity is O(n) since the hash map can grow up to n in size.<br/>"
   ]
  },
  {
   "cell_type": "markdown",
   "metadata": {},
   "source": [
    "## Tests"
   ]
  },
  {
   "cell_type": "code",
   "execution_count": 4,
   "metadata": {},
   "outputs": [
    {
     "name": "stderr",
     "output_type": "stream",
     "text": [
      ".......\n",
      "----------------------------------------------------------------------\n",
      "Ran 7 tests in 0.005s\n",
      "\n",
      "OK\n"
     ]
    }
   ],
   "source": [
    "import unittest\n",
    "\n",
    "class TestPairSumUnsorted(unittest.TestCase):\n",
    "\n",
    "    def test_pair_sum_found(self):\n",
    "        result = pair_sum_unsorted([1, 2, 3, 4, 5], 9)\n",
    "        self.assertListEqual(result, [3, 4])\n",
    "    \n",
    "    def test_pair_sum_not_found(self):\n",
    "        result = pair_sum_unsorted([1, 2, 3, 4, 5], 10)\n",
    "        self.assertListEqual(result, [])\n",
    "    \n",
    "    def test_pair_sum_single_element(self):\n",
    "        result = pair_sum_unsorted([3], 3)\n",
    "        self.assertListEqual(result, [])\n",
    "    \n",
    "    def test_pair_sum_empty_list(self):\n",
    "        result = pair_sum_unsorted([], 5)\n",
    "        self.assertListEqual(result, [])\n",
    "\n",
    "    def test_pair_sum_same_values(self):\n",
    "        result = pair_sum_unsorted([1, 1, 3, 3], 6)\n",
    "        self.assertListEqual(result, [2, 3])\n",
    "\n",
    "    def test_with_negative_numbers(self):\n",
    "        result = pair_sum_unsorted([-1, 2, 3], 2)\n",
    "        self.assertListEqual(result, [0, 2])\n",
    "    \n",
    "    def test_with_negative_target(self):\n",
    "        result = pair_sum_unsorted([-4, -3, -2, -1, 1], -7)\n",
    "        self.assertListEqual(result, [0, 1])\n",
    "\n",
    "def run_tests():\n",
    "    suite = unittest.TestLoader().loadTestsFromTestCase(TestPairSumUnsorted)\n",
    "    unittest.TextTestRunner().run(suite)\n",
    "\n",
    "run_tests()"
   ]
  }
 ],
 "metadata": {
  "kernelspec": {
   "display_name": "Python 3",
   "language": "python",
   "name": "python3"
  },
  "language_info": {
   "codemirror_mode": {
    "name": "ipython",
    "version": 3
   },
   "file_extension": ".py",
   "mimetype": "text/x-python",
   "name": "python",
   "nbconvert_exporter": "python",
   "pygments_lexer": "ipython3",
   "version": "3.12.6"
  }
 },
 "nbformat": 4,
 "nbformat_minor": 2
}
