{
 "cells": [
  {
   "cell_type": "markdown",
   "metadata": {},
   "source": [
    "# Verify Sudoku Board\n",
    "Given a partially completed 9x9 Sudoku board, determine if the current state of the board adheres to the rules of the game.\n",
    "- Each row and column must contain unique numbers between 1 and 9, or be empty (represented as 0).\n",
    "- Each of the nice 3x3 subgrids that compose the grid must contain unique numbers between 1 and 9, or be empty.\n",
    "Note: You are asked to determine whether the current state of the board is valid given these rules, not whether the board is solvable.\n",
    "\n",
    "Constraints:<br/>\n",
    "- Assume each integer on the board falls in the range [0, 9]."
   ]
  },
  {
   "cell_type": "markdown",
   "metadata": {},
   "source": [
    "## Intuition\n",
    "We need to check every row, every column, and each of the nine 3x3 subgrids for any duplicate numbers.\n",
    "\n",
    "**How to check for duplicates?**<br/>\n",
    "A naive approach is to take each number in the row and search the entire row to see if that number appears again. A linear search for each number would result in a time complexity of (n<sup>2</sup>) just for checking a single row.<br/>\n",
    "A more optimized approach is to use a hash set. By keeping track of the numbers we've previously visited as we iterate through the row, we can check if a new number is already in the set in O(1) time. If it is, we have found a duplicate. This method can be applied to columns and subgrids as well.\n",
    "\n",
    "**How to identify rows, columns and subgrids?**\n",
    "\n",
    "Identifying rows is straightforward because each row has a unique index, and the same applies to columns. Therefore, we can create an array of 9 hash sets for each row, allowing us to access a row's hash set directly by its index. The same approach works for columns.<br/>\n",
    "To identify subgrids, we need a way to index each subgrid as if we were working with a 3x3 matrix. To do this, we need to convert the row and column indices (ranging from 0 to 8) to the corresponding subgrid index, which ranges from 0 to 2. This can be done by dividing the row and column indices by 3.<br/>\n",
    "With these modified indices, we can organize hash sets within a 3x3 table, one for each subgrid, and access the appropriate subgrid with <i>subgrid_sets[r // 3][c // 3]</i>.<br/>\n",
    "Now that everything is set up, we can perform a one-pass solution. As we iterate through each cell in the grid, we check if any previously encountered number already exists in the current row, column, or subgrid by querying the corresponding hash sets."
   ]
  },
  {
   "cell_type": "code",
   "execution_count": 10,
   "metadata": {},
   "outputs": [],
   "source": [
    "from typing import List\n",
    "\n",
    "def verify_sudoku_board(board: List[List[int]]) -> bool:\n",
    "    \n",
    "    rows = [set() for _ in range(9)]\n",
    "    cols = [set() for _ in range(9)]\n",
    "    subgrid = [[set() for _ in range(3)] for _ in range(3)]\n",
    "\n",
    "    for r in range(9):\n",
    "        for c in range(9):\n",
    "\n",
    "            num = board[r][c]\n",
    "            if num == 0:\n",
    "                continue\n",
    "\n",
    "            if num in rows[r]:\n",
    "                return False\n",
    "\n",
    "            if num in cols[c]:\n",
    "                return False\n",
    "\n",
    "            if num in subgrid[r // 3][c // 3]:\n",
    "                return False\n",
    "\n",
    "            rows[r].add(num)\n",
    "            cols[c].add(num)\n",
    "            subgrid[r // 3][c // 3].add(num)\n",
    "    \n",
    "    return True"
   ]
  },
  {
   "cell_type": "markdown",
   "metadata": {},
   "source": [
    "The time complexity is O(n<sup>2</sup>) because we iterate through each cell in the board once, and perform constant-time hash set operations.\n",
    "\n",
    "The space complexity is O(n<sup>2</sup>) due to the hash sets. Each array contains n hash sets, and each has set is capable of growing to a size of n."
   ]
  }
 ],
 "metadata": {
  "kernelspec": {
   "display_name": "Python 3",
   "language": "python",
   "name": "python3"
  },
  "language_info": {
   "codemirror_mode": {
    "name": "ipython",
    "version": 3
   },
   "file_extension": ".py",
   "mimetype": "text/x-python",
   "name": "python",
   "nbconvert_exporter": "python",
   "pygments_lexer": "ipython3",
   "version": "3.12.6"
  }
 },
 "nbformat": 4,
 "nbformat_minor": 2
}
