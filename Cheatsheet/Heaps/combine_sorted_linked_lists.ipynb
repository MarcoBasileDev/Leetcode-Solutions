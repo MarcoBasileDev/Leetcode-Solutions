{
 "cells": [
  {
   "cell_type": "markdown",
   "metadata": {},
   "source": [
    "# Combine Sorted Linked Lists\n",
    "Given k singly linked lists, each sorted in ascending order, combine them into one sorted linked list.\n",
    "\n",
    "**Example**\n",
    "l1 = 1 -> 6\n",
    "l2 = 1 -> 4 -> 6\n",
    "l3 = 3 -> 7\n",
    "Output = 1 -> 1 -> 3 -> 4 -> 6 -> 6 -> 7"
   ]
  },
  {
   "cell_type": "markdown",
   "metadata": {},
   "source": [
    "## **Intuition**\n",
    "\n",
    "### **Step 1: Merging Two Sorted Linked Lists**\n",
    "A good starting point is to understand how to merge **two sorted linked lists**.  \n",
    "- Use **two pointers**, each starting at the head of one list.  \n",
    "- Compare the current nodes, **append the smaller node** to the output list, and advance the corresponding pointer.  \n",
    "- Repeat until both lists are merged.  \n",
    "\n",
    "---\n",
    "\n",
    "### **Step 2: Extending to k Linked Lists**\n",
    "With **k linked lists**, at each step, we must identify the smallest node among **k different candidates** (the head of each list).  \n",
    "- A simple approach would be to **compare all k heads**, but this results in **O(k) comparisons per operation**, making it inefficient.  \n",
    "\n",
    "Instead, we can optimize this process using a **min-heap**.\n",
    "\n",
    "---\n",
    "\n",
    "### **Step 3: Using a Min-Heap**\n",
    "A **min-heap** allows efficient retrieval of the smallest element in **O(log k)** time, making it perfect for this problem.\n",
    "\n",
    "1. **Initialize the heap** with the head nodes of all **k linked lists**.  \n",
    "2. **Extract the smallest node** from the heap and append it to the result list.  \n",
    "3. **Push the next node** from the extracted node's list into the heap.  \n",
    "4. Repeat until the heap is empty.  \n",
    "5. Return the merged list starting from **dummy.next**.\n",
    "\n",
    "---\n",
    "\n",
    "### **Time & Space Complexity**\n",
    "- **Heap operations** (insert & extract min) take **O(log k)**.  \n",
    "- Since we process **N total nodes**, the overall time complexity is **O(N log k)**.  \n",
    "- **Space Complexity:** **O(k)** (heap stores at most k elements).  "
   ]
  },
  {
   "cell_type": "code",
   "execution_count": 2,
   "metadata": {},
   "outputs": [],
   "source": [
    "from typing import List\n",
    "import heapq\n",
    "\n",
    "class ListNode:\n",
    "    def __init__(self, val=None, next=None):\n",
    "        self.val = val\n",
    "        self.next = next\n",
    "\n",
    "def combine_sorted_linked_lists(lists: List[ListNode]) -> ListNode:\n",
    "    ListNode.__lt__ = lambda self, other: self.val < other.val\n",
    "    heap = []\n",
    "\n",
    "    for head in lists:\n",
    "        if head:\n",
    "            heapq.heappush(heap, head)\n",
    "    \n",
    "    dummy = ListNode(-1)\n",
    "    curr = dummy\n",
    "\n",
    "    while heap:\n",
    "        smallest_node = heapq.heappop(heap)\n",
    "        curr.next = smallest_node\n",
    "        curr = curr.next\n",
    "\n",
    "        if smallest_node.next:\n",
    "            heapq.heappush(heap, smallest_node.next)\n",
    "\n",
    "    return dummy.next"
   ]
  }
 ],
 "metadata": {
  "kernelspec": {
   "display_name": "Python 3",
   "language": "python",
   "name": "python3"
  },
  "language_info": {
   "codemirror_mode": {
    "name": "ipython",
    "version": 3
   },
   "file_extension": ".py",
   "mimetype": "text/x-python",
   "name": "python",
   "nbconvert_exporter": "python",
   "pygments_lexer": "ipython3",
   "version": "3.11.9"
  }
 },
 "nbformat": 4,
 "nbformat_minor": 2
}
