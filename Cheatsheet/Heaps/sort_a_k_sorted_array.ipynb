{
 "cells": [
  {
   "cell_type": "markdown",
   "metadata": {},
   "source": [
    "# Sort a K-Sorted Array\n",
    "Given an integer array where each element is at most k positions away from its sorted position, sort the array in a non-decreasing order.\n",
    "\n",
    "**Example:**\n",
    "```python\n",
    "Input: nums = [5, 1, 9, 4, 7, 10], k = 2\n",
    "Output: [1, 4, 5, 7, 9, 10]\n",
    "```"
   ]
  },
  {
   "cell_type": "markdown",
   "metadata": {},
   "source": [
    "## Intuition\n",
    "\n",
    "A k-sorted array is an array where each element is at most `k` positions away from its correct sorted position.  \n",
    "A naive solution would be to use a standard sorting algorithm, but since the array is partially sorted,  \n",
    "a more efficient approach is possible.\n",
    "\n",
    "For any index `i`, the element that belongs at index `i` in a sorted array is within the range `[i - k, i + k]`.  \n",
    "We can refine this further:\n",
    "\n",
    "- The smallest element in the array belongs at index `0` and must be within `[0, k]`.  \n",
    "- The second smallest element (at index `1`) must be within `[1, 1 + k]`, excluding index `0`.  \n",
    "- Continuing this process allows us to sort the k-sorted array efficiently.\n",
    "\n",
    "A direct approach would require searching for the minimum in each range `[i, i + k]`,  \n",
    "which takes `O(k)` time per index, resulting in an inefficient `O(nk)` solution.\n",
    "\n",
    "To optimize this, we use a **min-heap** for efficient minimum retrieval.\n",
    "\n",
    "---\n",
    "\n",
    "## Min-Heap Approach\n",
    "\n",
    "A **min-heap** allows us to efficiently maintain the smallest element in each range `[i, i + k]`.\n",
    "\n",
    "### Steps:\n",
    "1. Initialize a min-heap with the first `k + 1` elements (range `[0, k]`).\n",
    "2. Extract the smallest element from the heap and place it in the sorted position.\n",
    "3. Push the next element from the unsorted portion into the heap.\n",
    "4. Repeat until all elements are placed correctly.\n",
    "\n",
    "The heap ensures that each insertion and extraction operation is **O(log k)**, significantly improving efficiency.\n",
    "\n",
    "---\n",
    "\n",
    "## Complexity Analysis\n",
    "\n",
    "### Time Complexity:\n",
    "Sorting a k-sorted array takes **O(n log k)** time:\n",
    "- **Heapify** the first `k + 1` elements: **O(k)**.\n",
    "- **Push & Pop** operations for the remaining elements: **O(n log k)**.\n",
    "- **Final extraction** of remaining elements from the heap: **O(k log k)**.\n",
    "\n",
    "Total complexity:\n",
    "$$\n",
    "O(k) + O(n \\log k) + O(k \\log k) = O(n \\log k)\n",
    "$$\n",
    "Since `k` is at most `n`, the dominant term is **O(n log k)**.\n",
    "\n",
    "### Space Complexity:\n",
    "- The heap stores at most `k + 1` elements at any time.\n",
    "- Thus, space complexity is **O(k)**."
   ]
  },
  {
   "cell_type": "code",
   "execution_count": 1,
   "metadata": {},
   "outputs": [],
   "source": [
    "from typing import List\n",
    "import heapq\n",
    "\n",
    "def sort_a_k_sorted_array(nums: List[int], k: int) -> List[int]:\n",
    "    min_heap = nums[:k+1]\n",
    "    heapq.heapify(min_heap)\n",
    "    insert_index = 0\n",
    "\n",
    "    for i in range(k + 1, len(nums)):\n",
    "        nums[insert_index] = heapq.heappop(min_heap)\n",
    "        insert_index += 1\n",
    "        heapq.heappush(min_heap, nums[i])\n",
    "    \n",
    "    while min_heap:\n",
    "        nums[insert_index] = heapq.heappop(min_heap)\n",
    "        insert_index += 1\n",
    "    \n",
    "    return nums"
   ]
  }
 ],
 "metadata": {
  "kernelspec": {
   "display_name": "Python 3",
   "language": "python",
   "name": "python3"
  },
  "language_info": {
   "codemirror_mode": {
    "name": "ipython",
    "version": 3
   },
   "file_extension": ".py",
   "mimetype": "text/x-python",
   "name": "python",
   "nbconvert_exporter": "python",
   "pygments_lexer": "ipython3",
   "version": "3.12.6"
  }
 },
 "nbformat": 4,
 "nbformat_minor": 2
}
