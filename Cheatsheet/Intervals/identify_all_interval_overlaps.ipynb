{
 "cells": [
  {
   "cell_type": "markdown",
   "metadata": {},
   "source": [
    "# Identify All Interval Overlaps\n",
    "Return an array of all overlaps between two arrays of intervals; `intervals1` and `intervals2`. Each individual interval array is sorted by start value, and contains no overlapping intervals within itself.\n",
    "\n",
    "**Example:**<br/>\n",
    "Input: intervals1 = [[1, 4], [5, 6], [9, 10]] | intervals2 = [[2, 7], [8, 9]]<br/>\n",
    "Output: [[2, 4], [5, 6], [9, 9]]\n",
    "\n",
    "**Constraints:**\n",
    "- For every index `i` in `intervals1`, `intervals1[i].start < intervals1[i].end`.\n",
    "- For every index `j` in `intervals2`, `intervals2[j].start < intervals2[j].end`."
   ]
  },
  {
   "cell_type": "markdown",
   "metadata": {},
   "source": [
    "## Intuition\n",
    "### **Key Observations**\n",
    "We can only have an intersection between an interval from the first array and an interval from the second array.\n",
    "\n",
    "---\n",
    "\n",
    "### **Identifying the overlap between two intervals**\n",
    "Consider two intervals, `A` and `B`, where `A` starts before `B`:\n",
    "- They overlap if **`A.end >= B.start`**.\n",
    "- The overlap starts at the **later start point**, which is always `B.start`.\n",
    "- The overlap ends at the **earlier end point**, which is `min(A.end, B.end)`.\n",
    "\n",
    "Thus, the intersection between two overlapping intervals is:\n",
    "`[B.start, min(A.end, B.end)]`\n",
    "(assuming `A` always starts first).\n",
    "\n",
    "---\n",
    "\n",
    "### **Identifying all overlaps**\n",
    "Consider the interval lists: intervals1 = [[1, 4], [5, 6], [9, 10]] intervals2 = [[2, 7], [8, 9]].\n",
    "\n",
    "To check for overlaps:\n",
    "1. Identify which interval (`intervals1[i]` or `intervals2[j]`) starts first:\n",
    "   \n",
    "   ```python\n",
    "   if intervals1[i].start <= intervals2[j].start:\n",
    "       A, B = intervals1[i], intervals2[j]\n",
    "   else:\n",
    "       A, B = intervals2[j], intervals1[i]\n",
    "    ```\n",
    "2. Check if they overlap `(A.end >= B.start)`, and if so, record `[B.start, min(A.end, B.end)]`.\n",
    "3. Move the pointer corresponding to the interval that **ends first**, since it **cannot overlap with any future intervals**.\n",
    "\n",
    "---\n",
    "\n",
    "### Algorithm Process\n",
    "For each pair `(i, j)`:\n",
    "1. Set `A` as the earlier starting interval.\n",
    "2. Check for overlap using `A.end >= B.start`. If overlapping, store `[B.start, min(A.end, B.end)]`.\n",
    "3. Move the pointer for the interval that ends first.\n",
    "4. Repeat until one array is exhausted.\n",
    "\n",
    "Once either `i` or `j` reaches the end of its respective array, no further intersections can occur.\n"
   ]
  },
  {
   "cell_type": "code",
   "execution_count": 1,
   "metadata": {},
   "outputs": [],
   "source": [
    "from typing import List\n",
    "\n",
    "class Interval:\n",
    "    def __init__(self, start: int, end: int):\n",
    "        self.start = start\n",
    "        self.end = end\n",
    "\n",
    "\n",
    "def identify_all_interval_overlaps(intervals1: List[Interval], intervals2: List[Interval]) -> List[Interval]:\n",
    "    overlaps = []\n",
    "    i = j = 0\n",
    "\n",
    "    while i < len(intervals1) and j < len(intervals2):\n",
    "        if intervals1[i].start <= intervals2[j].start:\n",
    "            A, B = intervals1[i], intervals2[j]\n",
    "        else:\n",
    "            A, B = intervals2[j], intervals1[i]\n",
    "        \n",
    "        if A.end >= B.start:\n",
    "            overlaps.append(Interval(B.start, min(A.end, B.end)))\n",
    "        \n",
    "        if intervals1[i].end < intervals2[j].end:\n",
    "            i += 1\n",
    "        else:\n",
    "            j += 1\n",
    "    \n",
    "    return overlaps"
   ]
  },
  {
   "cell_type": "markdown",
   "metadata": {},
   "source": [
    "## **Complexity Analysis**\n",
    "\n",
    "### **Time Complexity: O(n + m)**\n",
    "- Let `n` be the number of intervals in `intervals1`, and `m` be the number of intervals in `intervals2`.\n",
    "- Since we traverse each interval in both arrays exactly **once**, the time complexity is **O(n + m)**.\n",
    "\n",
    "---\n",
    "\n",
    "### **Space Complexity: O(1)**\n",
    "- The algorithm uses a constant amount of extra space, regardless of the input size.\n",
    "- The `overlaps` array is **not** counted in space complexity since it is the required output.\n"
   ]
  }
 ],
 "metadata": {
  "kernelspec": {
   "display_name": "Python 3",
   "language": "python",
   "name": "python3"
  },
  "language_info": {
   "codemirror_mode": {
    "name": "ipython",
    "version": 3
   },
   "file_extension": ".py",
   "mimetype": "text/x-python",
   "name": "python",
   "nbconvert_exporter": "python",
   "pygments_lexer": "ipython3",
   "version": "3.11.9"
  }
 },
 "nbformat": 4,
 "nbformat_minor": 2
}
