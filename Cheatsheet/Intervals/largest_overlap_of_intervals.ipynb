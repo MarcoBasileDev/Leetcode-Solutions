{
 "cells": [
  {
   "cell_type": "markdown",
   "metadata": {},
   "source": [
    "# Largest Overlap of Intervals\n",
    "Given an array of intervals, determine the maximum number of intervals that overlap at any point. Each interval is half-open, meaning it includes the start point but excludes the end point.\n",
    "\n",
    "**Example:**<br/>\n",
    "Input: intervals = [[1, 3], [5, 7], [2, 6], [4, 8]]<br/>\n",
    "Output: 3"
   ]
  },
  {
   "cell_type": "markdown",
   "metadata": {},
   "source": [
    "## **Intuition**\n",
    "Understanding how intervals overlap is key to solving this problem. The number of overlapping intervals at any given point represents the count of \"active\" intervals—intervals that have started but not yet ended.\n",
    "\n",
    "To determine the maximum number of overlapping intervals, we need to:\n",
    "1. Identify when an interval starts (increment active count).\n",
    "2. Identify when an interval ends (decrement active count).\n",
    "\n",
    "This suggests an approach that **processes start and end points separately**.\n",
    "\n",
    "---\n",
    "\n",
    "### **Processing Start and End Points**\n",
    "- **Start Point:** When encountering a start point, increment `active_intervals` since a new interval has begun.\n",
    "- **End Point:** When encountering an end point, decrement `active_intervals` since an interval has concluded.\n",
    "\n",
    "By processing all points in order, we can track the number of active intervals at any moment. The highest recorded value of `active_intervals` gives us the answer.\n",
    "\n",
    "---\n",
    "\n",
    "### **Edge Case: Concurrent Start and End Points**\n",
    "A key edge case arises when a start point coincides with an end point (i.e., they have the same value). In such cases, **we must process end points before start points** to ensure accurate counts.\n",
    "\n",
    "---\n",
    "\n",
    "### **Iterating Over Interval Points in Order**\n",
    "To efficiently process intervals, we:\n",
    "1. **Extract all start and end points** into a single list.\n",
    "2. **Sort them**, ensuring that when a start and end point are the same, the end point is processed first.\n",
    "3. **Sweep through the sorted points**, updating `active_intervals`.\n",
    "\n",
    "This approach is known as a **\"Sweep Line Algorithm\"**. The idea is to \"sweep\" a vertical line over all interval points in sorted order, tracking changes in the number of overlapping intervals dynamically."
   ]
  },
  {
   "cell_type": "code",
   "execution_count": 1,
   "metadata": {},
   "outputs": [],
   "source": [
    "from typing import List\n",
    "\n",
    "class Interval:\n",
    "    def __init__(self, start: int, end: int):\n",
    "        self.start = start\n",
    "        self.end = end\n",
    "\n",
    "\n",
    "def largest_overlap_of_intervals(intervals: List[Interval]) -> int:\n",
    "    points = []\n",
    "    for interval in intervals:\n",
    "        points.append((interval.start, 'S'))\n",
    "        points.append((interval.end, 'E'))\n",
    "\n",
    "    points.sort(key=lambda x: (x[0], x[1]))\n",
    "    active_intervals = 0\n",
    "    max_overlaps = 0\n",
    "\n",
    "    for time, point_type in points:\n",
    "        if point_type == 'S':\n",
    "            active_intervals += 1\n",
    "        else:\n",
    "            active_intervals -= 1\n",
    "        \n",
    "        max_overlaps = max(max_overlaps, active_intervals)\n",
    "\n",
    "    return max_overlaps"
   ]
  },
  {
   "cell_type": "markdown",
   "metadata": {},
   "source": [
    "## Complexity Analysis\n",
    "\n",
    "The time complexity is O(n log(n)), where n denotes the number of intervals. This is because we sort the points array of size 2n before iterating over it in O(n) time.\n",
    "\n",
    "The space complexity is O(n) due to the space taken up by the points array."
   ]
  }
 ],
 "metadata": {
  "kernelspec": {
   "display_name": "Python 3",
   "language": "python",
   "name": "python3"
  },
  "language_info": {
   "codemirror_mode": {
    "name": "ipython",
    "version": 3
   },
   "file_extension": ".py",
   "mimetype": "text/x-python",
   "name": "python",
   "nbconvert_exporter": "python",
   "pygments_lexer": "ipython3",
   "version": "3.11.9"
  }
 },
 "nbformat": 4,
 "nbformat_minor": 2
}
