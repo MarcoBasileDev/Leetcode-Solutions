{
 "cells": [
  {
   "cell_type": "markdown",
   "metadata": {},
   "source": [
    "# Merge Overlapping Intervals\n",
    "Merge an array of intervals so there are no overlapping intervals, and return the resultant merged intervals.\n",
    "\n",
    "**Example:**<br/>\n",
    "Input: intervals = [[3, 4], [7, 8], [2, 5], [6, 7], [1, 4]]<br/>\n",
    "Output: [[1, 5], [6, 8]]\n",
    "\n",
    "**Constraints:**\n",
    "- The input contains at least one interval.\n",
    "- For every index `i` in the array, `intervals[i].start ≤ intervals[i].end`."
   ]
  },
  {
   "cell_type": "markdown",
   "metadata": {},
   "source": [
    "## **Merging Intervals**\n",
    "\n",
    "## **Intuition**\n",
    "Merging intervals presents two main challenges:\n",
    "1. **Identifying which intervals overlap each other.**\n",
    "2. **Merging those overlapping intervals into a single interval.**\n",
    "\n",
    "---\n",
    "\n",
    "### **1. Identifying Overlapping Intervals**\n",
    "Consider two intervals **A** and **B**, where **A** starts before **B**:\n",
    "- If **A.end < B.start**, the intervals **do not** overlap.\n",
    "- If **A.end ≥ B.start**, the intervals **overlap**.\n",
    "\n",
    "To efficiently determine which intervals overlap, **sorting the intervals by their start value** is helpful.  \n",
    "This ensures that, for each pair of adjacent intervals, we always know which one starts first.\n",
    "\n",
    "---\n",
    "\n",
    "### **2. Merging Overlapping Intervals**\n",
    "After sorting the intervals, we initialize a **new list (`merged`)** to store the merged intervals.\n",
    "\n",
    "- **Step 1:** Add the **first interval** to `merged`, as it's the starting reference.\n",
    "- **Step 2:** Iterate through the remaining intervals:\n",
    "  - If an **overlap** is detected (**A.end ≥ B.start**), merge **A** and **B** into a single interval.\n",
    "  - The **merged interval** takes:\n",
    "    - The **earliest start point** → Always `A.start` (since A is first).\n",
    "    - The **latest end point** → `max(A.end, B.end)`.\n",
    "- **Step 3:** Repeat this process for all intervals.\n",
    "\n",
    "After processing all intervals, the `merged` array contains all successfully **merged intervals**."
   ]
  },
  {
   "cell_type": "code",
   "execution_count": 2,
   "metadata": {},
   "outputs": [],
   "source": [
    "from typing import List\n",
    "\n",
    "class Interval:\n",
    "    def __init__(self, start: int, end: int):\n",
    "        self.start = start\n",
    "        self.end = end\n",
    "\n",
    "\n",
    "def merge_overlapping_intervals(intervals: List[Interval]) -> List[Interval]:\n",
    "    intervals.sort(key=lambda x: x.start)\n",
    "    merged = [intervals[0]]\n",
    "\n",
    "    for B in intervals[1:]:\n",
    "        A = merged[-1]\n",
    "        \n",
    "        if A.end < B.start:\n",
    "            merged.append(B)\n",
    "        else:\n",
    "            merged[-1] = Interval(A.start, max(A.end, B.end))\n",
    "    \n",
    "    return merged"
   ]
  },
  {
   "cell_type": "markdown",
   "metadata": {},
   "source": [
    "# **Time & Space Complexity Analysis**\n",
    "\n",
    "## **Time Complexity**\n",
    "- **Sorting the intervals** takes **O(n log(n))** time, where `n` is the number of intervals.\n",
    "- **Merging the intervals** involves a single pass through the sorted list, which takes **O(n)** time.\n",
    "- Therefore, the overall time complexity is **O(n log(n))**, dominated by the sorting step.\n",
    "\n",
    "---\n",
    "\n",
    "## **Space Complexity**\n",
    "- The space complexity depends on the sorting algorithm.\n",
    "- In Python, the built-in `sort()` function uses **Tim sort**, which requires **O(n) space** for sorting in the worst case.\n",
    "- The **output list (`merged`)** also requires **O(n) space** in the worst case (if no intervals merge).\n",
    "- **Overall space complexity:** **O(n)**."
   ]
  }
 ],
 "metadata": {
  "kernelspec": {
   "display_name": "Python 3",
   "language": "python",
   "name": "python3"
  },
  "language_info": {
   "codemirror_mode": {
    "name": "ipython",
    "version": 3
   },
   "file_extension": ".py",
   "mimetype": "text/x-python",
   "name": "python",
   "nbconvert_exporter": "python",
   "pygments_lexer": "ipython3",
   "version": "3.11.9"
  }
 },
 "nbformat": 4,
 "nbformat_minor": 2
}
