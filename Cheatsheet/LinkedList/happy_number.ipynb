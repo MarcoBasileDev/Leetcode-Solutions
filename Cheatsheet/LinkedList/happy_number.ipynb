{
 "cells": [
  {
   "cell_type": "markdown",
   "metadata": {},
   "source": [
    "# Happy Number\n",
    "In number theory, a happy number is defined as a number that, when repeatedly subjected to the process of squaring its digits and summing those squares, eventually leads to 1 [1]. An unhappy number will never reach 1 during this process, and will get stuck in an infinite loop.\n",
    "\n",
    "Given an integer, determine if it's a happy number.\n",
    "\n",
    "**Example:**<br/>\n",
    "Input: n = 23<br/>\n",
    "Output: True<br/>\n",
    "Explanation: 2<sup>2</sup> + 3<sup>2</sup> = 13 => 1<sup>2</sup> + 3<sup>2</sup> = 10 => 1<sup>2</sup> + 0<sup>2</sup> = 1."
   ]
  },
  {
   "cell_type": "markdown",
   "metadata": {},
   "source": [
    "# Intuition\n",
    "\n",
    "We can simulate the process of identifying a **happy number** by repeatedly summing the squares of each digit of a number and applying the same process to the resulting sum.\n",
    "\n",
    "According to the problem statement, this process can end in one of two ways:\n",
    "- **Case 1:** The process continues until the final number is **1** → **Happy Number** ✅\n",
    "- **Case 2:** The process gets stuck in an **infinite loop** → **Not a Happy Number** ❌\n",
    "\n",
    "This means the problem can be **reduced** to a **cycle detection** challenge, similar to detecting a cycle in a linked list.\n",
    "\n",
    "---\n",
    "\n",
    "## **Cycle Detection with Fast & Slow Pointers**\n",
    "To efficiently determine if a **cycle** exists, we can apply the **Floyd’s Cycle Detection Algorithm** (also known as the **tortoise and hare algorithm**).\n",
    "\n",
    "However, since we don't have an actual **linked list**, we need a way to traverse the sequence of numbers generated in the happy number process.\n",
    "\n",
    "---\n",
    "\n",
    "## **Generating the Next Number in the Sequence**\n",
    "For any number **x**, the **next number** is obtained by summing the squares of each digit of **x**.\n",
    "\n",
    "To extract each digit efficiently:\n",
    "1. Use **modulo** (`x % 10`) to get the **last digit**.\n",
    "2. Use **integer division** (`x = x // 10`) to remove the last digit.\n",
    "\n",
    "We repeat this until all digits are processed.\n",
    "\n",
    "---\n",
    "\n",
    "## **Using Fast & Slow Pointers**\n",
    "1. Initialize **slow** and **fast** pointers at the starting number.\n",
    "2. Move the pointers as follows:\n",
    "   - **Slow pointer** moves **one step** at a time:  \n",
    "     `slow = get_next_sum(slow)`\n",
    "   - **Fast pointer** moves **two steps** at a time:  \n",
    "     `fast = get_next_sum(get_next_sum(fast))`\n",
    "3. If `fast == slow`, a **cycle** is detected → **Not a happy number** ❌.\n",
    "4. If we reach `1`, then it **is** a happy number ✅.\n",
    "\n",
    "This method ensures we detect cycles efficiently in **O(log n)** time complexity.\n",
    "\n",
    "The space complexity is O(1)."
   ]
  },
  {
   "cell_type": "code",
   "execution_count": null,
   "metadata": {},
   "outputs": [],
   "source": [
    "def happy_number(n: int) -> bool:\n",
    "    slow = fast = n\n",
    "\n",
    "    while True:\n",
    "        slow = get_next_num(slow)\n",
    "        fast = get_next_num(get_next_num(fast))\n",
    "\n",
    "        if fast == 1:\n",
    "            return True\n",
    "        \n",
    "        elif fast == slow:\n",
    "            return False\n",
    "\n",
    "def get_next_num(x: int) -> int:\n",
    "    next_num = 0\n",
    "\n",
    "    while x > 0:\n",
    "        digit = x % 10\n",
    "        x //= 10\n",
    "        next_num += digit ** 2\n",
    "    \n",
    "    return next_num"
   ]
  }
 ],
 "metadata": {
  "language_info": {
   "name": "python"
  }
 },
 "nbformat": 4,
 "nbformat_minor": 2
}
