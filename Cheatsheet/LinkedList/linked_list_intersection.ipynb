{
 "cells": [
  {
   "cell_type": "markdown",
   "metadata": {},
   "source": [
    "# Linked List Intersection\n",
    "Return the node where two singly linked lists intersect. If the linked list don't intersect, return null.\n",
    "\n",
    "**Example:**<br/>\n",
    "A: 1 -> 3 -> 4 -> 8 -> 7 -> 2<br/>\n",
    "B: 6 -> 4 -> 8 -> 7 -> 2<br/>\n",
    "Output: Node 8"
   ]
  },
  {
   "cell_type": "markdown",
   "metadata": {},
   "source": [
    "## Intuition\n",
    "\n",
    "An **intersection** occurs when two linked lists converge at a **shared node** and, from that point onwards, share all subsequent nodes.\n",
    "\n",
    "### Naive Approach: Using a Hash Set\n",
    "\n",
    "A simple way to find the intersection is:\n",
    "\n",
    "1. Traverse the first linked list and store each node in a **hash set**.\n",
    "2. Traverse the second linked list and check for the **first node that appears in the hash set**.\n",
    "   - This node is the intersection point since it's the **first shared node** between the two linked lists.\n",
    "\n",
    "This method runs in **O(n + m) time** but requires **O(n) space**. Can we find a solution that **uses constant space**?\n",
    "\n",
    "---\n",
    "\n",
    "### Optimized Approach: Two-Pointer Technique\n",
    "\n",
    "This problem becomes **easier** if the two linked lists are of **equal length** because:\n",
    "\n",
    "- The intersection node appears at the **same position** from the head in both lists.\n",
    "- We are **guaranteed** to reach the intersection at the **same time** when traversing both lists.\n",
    "\n",
    "But what if the linked lists have **different lengths**? \n",
    "\n",
    "#### Key Observation:\n",
    "\n",
    "- If **List A** and **List B** have different lengths, we can **extend them** by concatenating them:\n",
    "  - `List A -> List B`\n",
    "  - `List B -> List A`\n",
    "- These **combined** linked lists have the **same length** and **share the same tail nodes**.\n",
    "- This setup ensures that when we traverse these combined linked lists **with two pointers**, they will **reach the intersection node simultaneously**.\n",
    "\n",
    "---\n",
    "\n",
    "### Implementation: Two-Pointer Traversal\n",
    "\n",
    "To traverse `List A -> List B`, we **don’t** need to actually modify the lists. Instead, we:\n",
    "\n",
    "1. **Traverse List A** until we reach its end, then switch to **traversing List B**.\n",
    "2. **Traverse List B** until we reach its end, then switch to **traversing List A**.\n",
    "3. Stop once **both pointers point to the same node** (i.e., the intersection node).\n",
    "4. If no intersection exists, both pointers will reach **null**, ending the traversal.\n",
    "\n",
    "This technique allows us to traverse the **entire sequence** of both linked lists **as if they were connected**, without modifying them.\n",
    "\n",
    "The algorithm runs in **O(n + m) time** and uses **O(1) extra space**.\n"
   ]
  },
  {
   "cell_type": "code",
   "execution_count": null,
   "metadata": {},
   "outputs": [],
   "source": [
    "class ListNode:\n",
    "    def __init__(self, val=None, next=None):\n",
    "        self.val = val\n",
    "        self.next = next\n",
    "\n",
    "def linked_list_intersection(head_A: ListNode, head_B: ListNode) -> ListNode:\n",
    "    ptr_a, ptr_b = head_A, head_B\n",
    "\n",
    "    while ptr_a != ptr_b:\n",
    "        ptr_a = ptr_a.next if ptr_a else head_B\n",
    "        ptr_b = ptr_b.next if ptr_b else head_A\n",
    "\n",
    "    return ptr_a"
   ]
  }
 ],
 "metadata": {
  "kernelspec": {
   "display_name": "Python 3",
   "language": "python",
   "name": "python3"
  },
  "language_info": {
   "name": "python",
   "version": "3.12.6"
  }
 },
 "nbformat": 4,
 "nbformat_minor": 2
}
