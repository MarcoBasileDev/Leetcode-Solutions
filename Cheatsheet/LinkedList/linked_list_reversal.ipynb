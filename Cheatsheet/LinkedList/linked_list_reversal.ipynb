{
 "cells": [
  {
   "cell_type": "markdown",
   "metadata": {},
   "source": [
    "# Linked List Reversal\n",
    "Reverse a singly linked list.\n",
    "\n",
    "**Example:**<br/>\n",
    "From: 1 -> 2 -> 3 -> 4 To: 4 -> 3 -> 2 -> 1"
   ]
  },
  {
   "cell_type": "markdown",
   "metadata": {},
   "source": [
    "## Intuition - Iterative Approach\n",
    "\n",
    "A naive approach to reversing a linked list is to store its values in an array and then reconstruct the linked list by traversing the array in reverse order. However, this solution does not actually reverse the original linked list; it merely creates a new one.\n",
    "\n",
    "To optimize this approach, we can think about the problem in terms of **pointer manipulation**. The key observation here is that if we **\"flip\"** the direction of the pointers, we effectively reverse the linked list.\n",
    "\n",
    "### Key Idea: Pointer Manipulation\n",
    "\n",
    "To reverse the direction of all pointers, we iterate through the nodes one by one. During this process, we need access to both:\n",
    "\n",
    "- The **curr_node_node_node_nodeent node** (`curr_node`)\n",
    "- The **previous node** (`prev_node`)\n",
    "\n",
    "At the start:\n",
    "- `prev_node` is initially set to `null` because the first node has no previous node.\n",
    "\n",
    "To reverse the `next` pointer, we need to shift `curr_node` and `prev_node` forward **one node at a time**. However, moving `curr_node` directly to the next node would cause us to lose track of it. \n",
    "\n",
    "### Preserving the Next Node\n",
    "\n",
    "To avoid losing our reference, we:\n",
    "1. Store a reference to the next node in a variable, `next_node` (`curr_node.next`).\n",
    "2. Reverse the `next` pointer of `curr_node` to point to `prev_node`.\n",
    "3. Move both `prev_node` and `curr_node` forward by one.\n",
    "\n",
    "### Step-by-Step Algorithm\n",
    "\n",
    "For each node in the linked list:\n",
    "1. **Save a reference** to the next node (`next_node = curr_node.next`).\n",
    "2. **Reverse** the `next` pointer of `curr_node` (`curr_node.next = prev_node`).\n",
    "3. **Move forward**:\n",
    "   - Set `prev_node = curr_node`.\n",
    "   - Set `curr_node = next_node`.\n",
    "\n",
    "We stop the reversal when `curr_node` becomes `null`, indicating there are no more nodes to reverse.\n",
    "\n",
    "### Returning the New Head\n",
    "\n",
    "At the end of the process, `prev_node` points to the **new head** of the reversed linked list. Thus, we return `prev_node`.\n"
   ]
  },
  {
   "cell_type": "code",
   "execution_count": 2,
   "metadata": {},
   "outputs": [],
   "source": [
    "class ListNode:\n",
    "    def __init__(self, val=None, next=None):\n",
    "        self.val = val\n",
    "        self.next = next\n",
    "\n",
    "def linked_list_reversal(head: ListNode) -> ListNode:\n",
    "    prev_node, curr_node = None, head\n",
    "\n",
    "    while curr_node:\n",
    "        next_node = curr_node.next\n",
    "        curr_node.next = prev_node\n",
    "        prev_node = curr_node\n",
    "        curr_node = next_node\n",
    "\n",
    "    return prev_node"
   ]
  },
  {
   "cell_type": "markdown",
   "metadata": {},
   "source": [
    "The time complexity is O(n), where n denotes the length of the linked list. This is because we perform constant-time pointer manipulation at each node of the linked list.\n",
    "\n",
    "The space complexity is O(1)."
   ]
  },
  {
   "cell_type": "markdown",
   "metadata": {},
   "source": [
    "## Intuition - Recursive Approach\n",
    "\n",
    "In a recursive solution, the problem is solved by breaking it down into **smaller instances** of the same problem. To achieve this, the **linked list reversal function** is called within its own implementation. This process continues until we reach the **smallest version** of the problem, which serves as our base case.\n",
    "\n",
    "### Base Case\n",
    "\n",
    "The smallest version of this problem involves reversing a **linked list of size 0 or 1**. These cases do not require any changes since such lists are **inherently the same** as their reversed versions. Thus, they serve as our base cases.\n",
    "\n",
    "### Recursive Breakdown\n",
    "\n",
    "To reverse the entire linked list, we need to:\n",
    "1. Solve a **smaller subproblem** by **recursively reversing** the sublist **starting from the next node**.\n",
    "2. Once the recursive call completes, assume it correctly reverses the sublist and returns its new head.\n",
    "3. Adjust the pointers of the current node to complete the reversal.\n",
    "\n",
    "### Step-by-Step Process\n",
    "\n",
    "1. **Recursive Call**:  \n",
    "   - Call the **linked list reversal function** on the sublist starting from `head.next`.  \n",
    "   - Assume that this recursive call correctly reverses the sublist and returns its new head.\n",
    "\n",
    "2. **Adjust Pointers**:  \n",
    "   - The **tail of the reversed sublist** needs to point back to `head`.  \n",
    "   - We can reference the second node (`head.next`), so we set `head.next.next = head`.  \n",
    "\n",
    "3. **Break the Original Link**:  \n",
    "   - `head` is still pointing to its next node, so we remove this link by setting `head.next = null`.\n",
    "\n",
    "4. **Return the New Head**:  \n",
    "   - The recursive call returns `new_head`, which is now the **head of the fully reversed linked list**.\n",
    "\n",
    "This recursive approach **elegantly reverses** the linked list while maintaining simplicity and reducing the need for explicit loops.\n"
   ]
  },
  {
   "cell_type": "code",
   "execution_count": null,
   "metadata": {},
   "outputs": [],
   "source": [
    "class ListNode:\n",
    "    def __init__(self, val=None, next=None):\n",
    "        self.val = val\n",
    "        self.next = next\n",
    "\n",
    "def linked_list_reversal_recursive(head: ListNode) -> ListNode:\n",
    "    \n",
    "    if not head or not head.next:\n",
    "        return head\n",
    "    \n",
    "    new_head = linked_list_reversal_recursive(head.next)\n",
    "    head.next.next = head\n",
    "    head.next = None\n",
    "    return new_head"
   ]
  }
 ],
 "metadata": {
  "kernelspec": {
   "display_name": "Python 3",
   "language": "python",
   "name": "python3"
  },
  "language_info": {
   "codemirror_mode": {
    "name": "ipython",
    "version": 3
   },
   "file_extension": ".py",
   "mimetype": "text/x-python",
   "name": "python",
   "nbconvert_exporter": "python",
   "pygments_lexer": "ipython3",
   "version": "3.12.6"
  }
 },
 "nbformat": 4,
 "nbformat_minor": 2
}
