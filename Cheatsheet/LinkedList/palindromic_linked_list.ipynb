{
 "cells": [
  {
   "cell_type": "markdown",
   "metadata": {},
   "source": [
    "# Palindromic Linked List\n",
    "Given the head of a singly linked list, determine if it is a palindrome.\n",
    "\n",
    "**Example 1:**<br/>\n",
    "1 -> 2 -> 3 -> 2 -> 1<br/>\n",
    "Output: True\n",
    "\n",
    "**Example 2:**<br/>\n",
    "1 -> 2 -> 1 -> 2<br/>\n",
    "Output: False"
   ]
  },
  {
   "cell_type": "markdown",
   "metadata": {},
   "source": [
    "## Intuition\n",
    "\n",
    "A **naïve approach** to checking if a linked list is a palindrome is:\n",
    "- Store all the values in an **array**, allowing us to freely traverse them **forward and backward**.\n",
    "- Compare the values to check if they form a palindrome.\n",
    "\n",
    "However, this approach requires **O(n) extra space**, which we want to optimize.\n",
    "\n",
    "---\n",
    "\n",
    "### **Key Observation: Using Reversal**\n",
    "We know that if a **linked list is a palindrome**, reversing it would result in the **same sequence of values**.\n",
    "\n",
    "A potential approach:\n",
    "1. **Create a copy** of the linked list.\n",
    "2. **Reverse** the copy.\n",
    "3. **Compare** the values of the original list with the reversed copy.\n",
    "\n",
    "However, this still requires **O(n) extra space**.\n",
    "\n",
    "---\n",
    "\n",
    "### **Optimized Approach: Reverse the Second Half**\n",
    "Instead of copying the entire list, we only need to **compare the first half** with the **reversed second half**.\n",
    "\n",
    "**Steps:**\n",
    "1. **Find the middle** of the linked list.\n",
    "2. **Reverse the second half** of the list starting from this middle node.\n",
    "3. **Compare** the first half with the reversed second half to check for palindrome properties."
   ]
  },
  {
   "cell_type": "code",
   "execution_count": null,
   "metadata": {},
   "outputs": [],
   "source": [
    "class ListNode:\n",
    "    def __init__(self, val=None, next=None):\n",
    "        self.val = val\n",
    "        self.next = next\n",
    "\n",
    "\n",
    "def reverse_list(head: ListNode) -> ListNode:\n",
    "    prevNode, currNode = None, head\n",
    "\n",
    "    while currNode:\n",
    "        next_node = currNode.next\n",
    "        currNode.next = prevNode\n",
    "        prevNode = currNode\n",
    "        currNode = next_node\n",
    "\n",
    "    return prevNode\n",
    "\n",
    "def find_middle(head: ListNode) -> ListNode:\n",
    "    slow = fast = head\n",
    "\n",
    "    while fast and fast.next:\n",
    "        slow = slow.next\n",
    "        fast = fast.next.next\n",
    "    \n",
    "    return slow\n",
    "\n",
    "def palindromic_linked_list(head: ListNode) -> bool:\n",
    "    \n",
    "    mid = find_middle(head)\n",
    "    second_head = reverse_list(mid)\n",
    "\n",
    "    ptr1, ptr2 = head, second_head\n",
    "    res = True\n",
    "    \n",
    "    while ptr2:\n",
    "        if ptr1.val != ptr2.val:\n",
    "            res = False\n",
    "        ptr1, ptr2 = ptr1.next, ptr2.next\n",
    "    \n",
    "    return res"
   ]
  },
  {
   "cell_type": "markdown",
   "metadata": {},
   "source": [
    "The time complexity is O(n), where n denotes the length of the linked list. This is because it involves iterating through the linked list three times: once to find the middle node, once to reverse the second half, and once more to compare the two halves.\n",
    "\n",
    "The space complexity is O(n)."
   ]
  }
 ],
 "metadata": {
  "language_info": {
   "name": "python"
  }
 },
 "nbformat": 4,
 "nbformat_minor": 2
}
