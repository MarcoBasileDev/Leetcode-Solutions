{
 "cells": [
  {
   "cell_type": "markdown",
   "metadata": {},
   "source": [
    "# Remove the K<sup>th</sup> Last Node From a Linked List\n",
    "Return the head of a singly linked list after removing the k<sup>th</sup> node from the end of it.\n",
    "\n",
    "**Example:**<br/>\n",
    "k = 2\n",
    "from 1 -> 2 -> 4 -> 7 -> 3<br>\n",
    "to 1 -> 2 -> 3\n",
    "\n",
    "**Constraints:**<br/>\n",
    "- The linked list contains at least one node."
   ]
  },
  {
   "cell_type": "markdown",
   "metadata": {},
   "source": [
    "## Intuition\n",
    "\n",
    "We can divide this problem into two objectives:\n",
    "\n",
    "1. **Find the position of the k<sup>th</sup> last node.**\n",
    "2. **Remove this node.**\n",
    "\n",
    "### Understanding Node Removal\n",
    "\n",
    "To remove a node from a linked list, we need to be positioned **on the node directly before** the k<sup>th</sup> last node. \n",
    "\n",
    "A **naive approach** would be:\n",
    "1. **Obtain the length** of the linked list by traversing it.\n",
    "2. **Determine the target position**: Since the k<sup>th</sup> last node is at index `n - k`, the node before it is at index `n - k - 1`.\n",
    "3. **Traverse again** to reach the target node and remove the k<sup>th</sup> last node.\n",
    "\n",
    "This method requires **two passes** over the list, which can be optimized using a more efficient approach.\n",
    "\n",
    "### Optimized Two-Pointer Approach\n",
    "\n",
    "We can solve this problem in a **single pass** using two pointers:\n",
    "\n",
    "- A **leader** pointer\n",
    "- A **trailer** pointer\n",
    "\n",
    "#### How It Works\n",
    "\n",
    "1. **Advance the leader pointer** `k` steps ahead.\n",
    "2. **Move both pointers together** until the leader reaches the last node.\n",
    "   - At this point, the trailer will be positioned **right before** the k<sup>th</sup> last node.\n",
    "3. **Remove the node** by adjusting the pointers.\n",
    "\n",
    "### Handling Edge Cases\n",
    "\n",
    "What if **the head itself** is the node that needs to be removed?\n",
    "\n",
    "- To handle this, we **create a dummy node** before the head.\n",
    "- We start our traversal from the dummy node.\n",
    "- After the removal, we return `dummy.next`, which now points to the modified head of the linked list.\n",
    "\n",
    "This **dummy node technique** helps simplify edge cases, such as when the linked list has only one node or when `k` equals the total length of the list."
   ]
  },
  {
   "cell_type": "code",
   "execution_count": null,
   "metadata": {},
   "outputs": [],
   "source": [
    "class ListNode:\n",
    "    def __init__(self, val=None, next=None):\n",
    "        self.val = val\n",
    "        self.next = next\n",
    "\n",
    "def remove_kth_last_node(head: ListNode, k: int) -> ListNode:\n",
    "    dummy = ListNode(-1)\n",
    "    dummy.next = head\n",
    "    trailer = leader = dummy\n",
    "\n",
    "    for _ in range(k):\n",
    "        leader = leader.next\n",
    "\n",
    "        if not leader:\n",
    "            return head\n",
    "    \n",
    "    while leader.next:\n",
    "        leader = leader.next\n",
    "        trailer = trailer.next\n",
    "    \n",
    "    trailer.next = trailer.next.next\n",
    "    return dummy.next"
   ]
  },
  {
   "cell_type": "markdown",
   "metadata": {},
<<<<<<< HEAD
   "source": [
    "The time complexity is `O(n)` because the algorithm first traverses at most n nodes of the linked list, and then two pointers traverse the linked list at most once each.<br/>\n",
    "The space complexity is `O(1)`."
   ]
=======
   "source": []
>>>>>>> a89eb583bd73668c32d6e4d2c5d5b6c76c93ba10
  }
 ],
 "metadata": {
  "language_info": {
   "name": "python"
  }
 },
 "nbformat": 4,
 "nbformat_minor": 2
}
