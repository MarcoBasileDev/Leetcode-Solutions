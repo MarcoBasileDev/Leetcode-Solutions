{
 "cells": [
  {
   "cell_type": "markdown",
   "id": "ef7d992c",
   "metadata": {},
   "source": [
    "# Spiral Traversal\n",
    "Return the elements of a matrix in clockwise spiral order."
   ]
  },
  {
   "cell_type": "markdown",
   "id": "616861ca",
   "metadata": {},
   "source": [
    "## Intuition\n",
    "\n",
    "Spiral traversal involves visiting all elements of a matrix in a clockwise spiral order: **right → down → left → up**, and repeating this pattern until every element has been visited.\n",
    "\n",
    "A naïve approach might be to move in each direction until a wall or previously visited cell is reached, then change direction. One way to prevent revisiting cells is to use a `visited` set to store already processed positions. However, this would require **O(m × n)** extra space, which we want to avoid.\n",
    "\n",
    "Instead, we can **avoid additional space** by **adjusting the traversal boundaries** after completing each direction.\n",
    "\n",
    "---\n",
    "\n",
    "### Adjusting Boundaries\n",
    "\n",
    "We define four boundary variables to limit the area we traverse:\n",
    "- `top` (initially 0)\n",
    "- `bottom` (initially m - 1)\n",
    "- `left` (initially 0)\n",
    "- `right` (initially n - 1)\n",
    "\n",
    "Here’s the general traversal strategy:\n",
    "1. Traverse **left to right** across the top row, then increment `top`.\n",
    "2. Traverse **top to bottom** along the rightmost column, then decrement `right`.\n",
    "3. If `top <= bottom`, traverse **right to left** across the bottom row, then decrement `bottom`.\n",
    "4. If `left <= right`, traverse **bottom to top** along the leftmost column, then increment `left`.\n",
    "\n",
    "Repeat this loop until all boundaries collapse."
   ]
  },
  {
   "cell_type": "code",
   "execution_count": 1,
   "id": "4d06b124",
   "metadata": {},
   "outputs": [],
   "source": [
    "from typing import List\n",
    "\n",
    "def spiral_matrix(matrix: List[List[int]]) -> List[int]:\n",
    "    if not matrix:\n",
    "        return []\n",
    "\n",
    "    result = []\n",
    "    top, bottom = 0, len(matrix) - 1\n",
    "    left, right = 0, len(matrix[0]) - 1\n",
    "\n",
    "    while top <= bottom and left <= right:\n",
    "        for i in range(left, right + 1):\n",
    "            result.append(matrix[top][i])        \n",
    "        top += 1\n",
    "\n",
    "        for i in range(top, bottom + 1):\n",
    "            result.append(matrix[i][right])        \n",
    "        right -= 1\n",
    "\n",
    "        if top <= bottom:\n",
    "            for i in range(right, left - 1, - 1):\n",
    "                result.append(matrix[bottom][i])            \n",
    "            bottom -= 1\n",
    "\n",
    "        if left <= right:\n",
    "            for i in range(bottom, top - 1, -1):\n",
    "                result.append(matrix[i][left])            \n",
    "            left += 1\n",
    "    \n",
    "    return result"
   ]
  },
  {
   "cell_type": "markdown",
   "id": "698ec0e4",
   "metadata": {},
   "source": [
    "### Complexity Analysis\n",
    "The time complexity is O(m * n) because we traverse each cell of the matrix once.\n",
    "\n",
    "The space complexity is O(1)."
   ]
  }
 ],
 "metadata": {
  "kernelspec": {
   "display_name": "Python 3",
   "language": "python",
   "name": "python3"
  },
  "language_info": {
   "codemirror_mode": {
    "name": "ipython",
    "version": 3
   },
   "file_extension": ".py",
   "mimetype": "text/x-python",
   "name": "python",
   "nbconvert_exporter": "python",
   "pygments_lexer": "ipython3",
   "version": "3.11.9"
  }
 },
 "nbformat": 4,
 "nbformat_minor": 5
}
