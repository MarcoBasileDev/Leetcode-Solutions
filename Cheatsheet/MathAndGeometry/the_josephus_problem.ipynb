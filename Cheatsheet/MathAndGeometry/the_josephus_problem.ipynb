{
 "cells": [
  {
   "cell_type": "markdown",
   "id": "06750b93",
   "metadata": {},
   "source": [
    "# The Josephus Problem\n",
    "There are n people standing in a circle, numbered from 0 to n - 1. Starting from person 0, count k people clockwise and remove the kth person. After the removal, begin counting again from the next person still in the circle. Repeat this process until only one person remains, and return that person's position.\n",
    "\n",
    "**Example:**\n",
    "```python\n",
    "Input: n = 5, k = 2\n",
    "Output: 2\n",
    "```\n",
    "\n",
    "**Constraints:**\n",
    "- There will be at least one person in the circle.\n",
    "- k will at least be equal to 1."
   ]
  },
  {
   "cell_type": "markdown",
   "id": "1fa733bd",
   "metadata": {},
   "source": [
    "## Intuition\n",
    "\n",
    "The naive approach to solving this problem is to simulate the step-by-step removal of people in a circle. We can model this behavior using a **circular linked list** with `n` nodes, where each node represents a person. Starting from node `0`, we repeatedly iterate through the list and remove every `k`-th person. The last node remaining after all removals is the solution.\n",
    "\n",
    "However, this method is inefficient because removing a node requires traversing `k` nodes each time. This results in a time complexity of **O(n · k)**, since we perform up to `k` operations for each of the `n` removals. Let's see if we can find a more efficient solution.\n",
    "\n",
    "---\n",
    "\n",
    "### Recursive Insight\n",
    "\n",
    "Consider an example with `n = 12` and `k = 4`. For the first elimination, we count `k` steps from person `0` and remove the person we land on (person `4`). After this removal, there are `n - 1 = 11` people left in the circle, and the next counting begins from the position immediately after the one we just removed (i.e., person `5`, which becomes the new person at index `0` in a reduced circle).\n",
    "\n",
    "This shift in starting point implies that the problem of finding the last person in a circle of `n` people can be **reduced** to solving the problem for `n - 1` people, but with an adjusted start index.\n",
    "\n",
    "Let’s define the function `josephus(n, k)` as the position of the last person remaining (0-indexed) in a group of `n` people, with every `k`-th person being eliminated in a cycle.\n",
    "\n",
    "To account for the change in starting position after each removal, we need to **offset** the result of the subproblem by `k`. This gives us the recursive relation:\n",
    "\n",
    "```python\n",
    "josephus(n, k) = (josephus(n - 1, k) + k) % n\n",
    "```\n",
    "\n",
    "\n",
    "This formula ensures that we wrap around the circle using the modulo operator and correctly map the result of the smaller subproblem to the current circle size.\n",
    "\n",
    "---\n",
    "\n",
    "### Base Case\n",
    "\n",
    "The simplest case is when there is only **one person** in the circle: `n = 1`. In this case, the last person remaining is obviously person `0`. So, we define:\n",
    "\n",
    "```python\n",
    "josephus(1, k) = 0\n",
    "```\n",
    "\n",
    "---\n",
    "\n",
    "### Complexity Analysis\n",
    "\n",
    "Using this recurrence relation and base case, we can efficiently compute the position of the last remaining person in **O(n)** time using a simple recursive or iterative approach, which is significantly better than the naive **O(n · k)** simulation.\n",
    "\n",
    "And a space complexity of O(n) due to the recursive call stack, which grows up to a depth of n."
   ]
  },
  {
   "cell_type": "code",
   "execution_count": 1,
   "id": "d4e85203",
   "metadata": {},
   "outputs": [],
   "source": [
    "def josephus(n: int, k: int) -> int:\n",
    "    if n == 1:\n",
    "        return 0\n",
    "    \n",
    "    return (josephus(n - 1, k) + k) % n"
   ]
  },
  {
   "cell_type": "markdown",
   "id": "52dbae48",
   "metadata": {},
   "source": [
    "### Optimization\n",
    "\n",
    "The recursive solution to the Josephus problem can be further optimized by converting it into an **iterative bottom-up** approach, which is both more efficient and avoids the overhead of recursive calls.\n",
    "\n",
    "Let’s define `res[i]` as the solution to the subproblem involving a circle of `i` people. From our previous recurrence relation:\n",
    "\n",
    "```python\n",
    "res[i] = (res[i - 1] + k) % i\n",
    "```\n",
    "\n",
    "\n",
    "This tells us that the solution for `i` people depends only on the solution for `i - 1` people.\n",
    "\n",
    "---\n",
    "\n",
    "### Space Optimization Insight\n",
    "\n",
    "The **key observation** here is that we only ever need the **previous result** (`res[i - 1]`) to compute the current one (`res[i]`). Therefore, **there is no need to store the entire array** of subproblem solutions.\n",
    "\n",
    "Instead, we can maintain a single variable, `res`, which gets updated at each iteration to hold the solution for the current circle size:\n",
    "\n",
    "```python\n",
    "res = 0\n",
    "for i in range(2, n + 1):\n",
    "    res = (res + k) % i\n",
    "```\n",
    "\n",
    "This implementation has:\n",
    "- Time complexity: O(n)\n",
    "- Space complexity: O(1)"
   ]
  },
  {
   "cell_type": "code",
   "execution_count": 2,
   "id": "e4536afc",
   "metadata": {},
   "outputs": [],
   "source": [
    "def josephus(n: int, k: int) -> int:\n",
    "    res = 0\n",
    "    \n",
    "    for i in range(2, n + 1):\n",
    "        res = (res + k) % i\n",
    "\n",
    "    return res"
   ]
  }
 ],
 "metadata": {
  "kernelspec": {
   "display_name": "Python 3",
   "language": "python",
   "name": "python3"
  },
  "language_info": {
   "codemirror_mode": {
    "name": "ipython",
    "version": 3
   },
   "file_extension": ".py",
   "mimetype": "text/x-python",
   "name": "python",
   "nbconvert_exporter": "python",
   "pygments_lexer": "ipython3",
   "version": "3.12.6"
  }
 },
 "nbformat": 4,
 "nbformat_minor": 5
}
