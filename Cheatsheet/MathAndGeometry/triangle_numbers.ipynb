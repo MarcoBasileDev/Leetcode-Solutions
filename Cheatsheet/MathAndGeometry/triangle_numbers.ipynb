{
 "cells": [
  {
   "cell_type": "markdown",
   "id": "4c0f7f21",
   "metadata": {},
   "source": [
    "# Triangle Numbers\n",
    "Consider a triangle composed of numbers where the top of the triangle is 1. Each subsequent number in the triangle is equal to the sum of three numbers above it: its top-left number, its top number, and its top-right number. If any of these three numbers don't exist, assume they are equal to 0.\n",
    "\n",
    "Given a value representing a row of this triangle, return the position of the first even number in this row. Assume that the first number in each row is at position 1."
   ]
  },
  {
   "cell_type": "markdown",
   "id": "7415c577",
   "metadata": {},
   "source": [
    "## Intuition\n",
    "\n",
    "A naive solution to this problem is to generate the entire triangle and all of its values up to the *n*-th row. Then, we can iterate through the *n*-th row until we encounter the first even number. However, this approach is inefficient because it results in excessive use of time and memory to build the entire triangle.\n",
    "\n",
    "To find a more optimal solution, let’s consider how we can simplify the representation of our triangle.\n",
    "\n",
    "---\n",
    "\n",
    "### Simplifying the Triangle\n",
    "\n",
    "The first key observation is that the triangle is **symmetric**. This means we can exclude the right half of the triangle because if an even number exists in the right half, it definitely exists in the left half.\n",
    "\n",
    "The next key observation is that we don’t necessarily care about the values themselves—we only care about their **parity** (i.e., whether they’re even or odd). Given this, we can simplify the triangle further by representing it as a **binary triangle**, where:\n",
    "\n",
    "- `0` represents an even number\n",
    "- `1` represents an odd number\n",
    "\n",
    "Now that we’ve simplified the triangle, it becomes easier to identify patterns in the positions of the first even number in each row. Let’s explore this further.\n",
    "\n",
    "---\n",
    "\n",
    "### Identifying Patterns\n",
    "\n",
    "Let's ignore rows 1 and 2 since even numbers only begin appearing from row 3 onward.\n",
    "\n",
    "A good place to start looking for a pattern is to highlight the **first even number** in each row and observe its position:\n",
    "\n",
    "- From rows 3 to 5, one possible pattern is that **odd-numbered rows** have the first even number at **position 2**.\n",
    "- We could also hypothesize that **even-numbered rows** have the first even at **position 3**.\n",
    "\n",
    "To confirm this observation, let’s look at some more rows. So far, our hypothesis for odd-numbered rows is holding, but even-numbered rows seem to follow a different pattern. It’s still difficult to pinpoint exactly what it is.\n",
    "\n",
    "Let’s continue by displaying a few more rows to further investigate. Now, we notice that the first four binary values from rows 3 to 6 **repeat** for rows 7 to 10. If we were to continue with more rows, we’d notice that this pattern **continues indefinitely**.\n",
    "\n",
    "#### Why Does the Pattern Repeat?\n",
    "\n",
    "The key insight is that the first four values of a row are calculated solely from the first four values of the **previous row**. This means:\n",
    "\n",
    "- Whenever a specific sequence of four numbers appears at the start of a row,\n",
    "- It will generate a predictable sequence of four numbers in the next row.\n",
    "\n",
    "As a result, once a repeating pattern emerges (as seen from rows 3–6 to rows 7–10), it will **continue to repeat**.\n",
    "\n",
    "---\n",
    "\n",
    "### Constant-Time Rule\n",
    "\n",
    "This gives us the following cyclic logic for determining the position of the first even number:\n",
    "\n",
    "- If `n` is **odd** (`n % 2 != 0`), return **2**.\n",
    "- If `n` is a **multiple of 4** (`n % 4 == 0`), return **3**.\n",
    "- Else (i.e., `n % 4 == 2`), return **4**."
   ]
  },
  {
   "cell_type": "code",
   "execution_count": 1,
   "id": "0b3cb543",
   "metadata": {},
   "outputs": [],
   "source": [
    "def triangle_numbers(n: int) -> int:\n",
    "    if n % 2 != 0:\n",
    "        return 2\n",
    "\n",
    "    elif n % 4 == 0:\n",
    "        return 3\n",
    "    \n",
    "    return 4"
   ]
  },
  {
   "cell_type": "markdown",
   "id": "c0c913bf",
   "metadata": {},
   "source": [
    "### Complexity Analysis\n",
    "The time complexity is O(1).\n",
    "\n",
    "The space complexity is O(1)."
   ]
  }
 ],
 "metadata": {
  "kernelspec": {
   "display_name": "Python 3",
   "language": "python",
   "name": "python3"
  },
  "language_info": {
   "codemirror_mode": {
    "name": "ipython",
    "version": 3
   },
   "file_extension": ".py",
   "mimetype": "text/x-python",
   "name": "python",
   "nbconvert_exporter": "python",
   "pygments_lexer": "ipython3",
   "version": "3.12.6"
  }
 },
 "nbformat": 4,
 "nbformat_minor": 5
}
