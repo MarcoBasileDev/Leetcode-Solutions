{
 "cells": [
  {
   "cell_type": "markdown",
   "metadata": {},
   "source": [
    "# Sum Between Range\n",
    "Given an integer array, write a function which returns the sum of values between two indexes.\n",
    "\n",
    "**Example:**<br/>\n",
    "Input: nums = [3, -7, 6, 0, -2, 5], [sum_range(0, 3), sum_range(2, 4), sum_range(2, 2)]<br/>\n",
    "Output: [2, 4, 6]\n",
    "\n",
    "**Constraints:**\n",
    "- `nums` contains at least one element.\n",
    "- Each `sum_range` operation will query a valid range of the input array."
   ]
  },
  {
   "cell_type": "markdown",
   "metadata": {},
   "source": [
    "## Intuition\n",
    "We need to implement a function `sum_range(i, j)`, where `i` and `j` define the boundaries of the range to be summed.\n",
    "\n",
    "---\n",
    "\n",
    "### Naive Approach\n",
    "A simple approach is to iterate through the array and sum elements from index `i` to `j`. However, this takes **O(n)** time per query.\n",
    "\n",
    "---\n",
    "\n",
    "### Optimized Approach Using Prefix Sums\n",
    "Since we have access to the input array before any `sum_range` calls, we can preprocess it using prefix sums to improve efficiency.\n",
    "\n",
    "#### Example\n",
    "Consider the array:\n",
    "```python\n",
    "nums = [3, -7, 6, 0, -2, 5]\n",
    "```\n",
    "The prefix sum array is:\n",
    "```python\n",
    "prefix_sum = [3, -4, 2, 2, 0, 5]\n",
    "```\n",
    "This allows us to compute `sum_range(0, j)` directly using:\n",
    "```python\n",
    "sum_range(0, j) = prefix_sum[j]\n",
    "```\n",
    "\n",
    "#### Computing Arbitrary Ranges\n",
    "For a subarray sum `sum_range(i, j)` where `i > 0`, we subtract the sum of the prefix up to `i - 1`:\n",
    "```python\n",
    "sum_range(i, j) = prefix_sum[j] - prefix_sum[i - 1]\n",
    "```"
   ]
  },
  {
   "cell_type": "code",
   "execution_count": 1,
   "metadata": {},
   "outputs": [],
   "source": [
    "from typing import List\n",
    "\n",
    "class SumBetweenRange:\n",
    "    def __init__(self, nums: List[int]):\n",
    "        self.prefix_sum = [nums[0]]\n",
    "        for i in range(1, len(nums)):\n",
    "            self.prefix_sum.append(self.prefix_sum[-1] + nums[i])\n",
    "\n",
    "    def sum_range(self, i: int, j: int):\n",
    "        if i == 0:\n",
    "            return self.prefix_sum[j]\n",
    "        return self.prefix_sum[j] - self.prefix_sum[i - 1]"
   ]
  },
  {
   "cell_type": "markdown",
   "metadata": {},
   "source": [
    "The time complexity is O(n), where n denotes the length of the array. This is because we populate a prefix_sum array of length n. The time complexity of sum_range is O(1).\n",
    "\n",
    "The space complexity is O(n) due to the space taken up by the prefix_sum array."
   ]
  }
 ],
 "metadata": {
  "kernelspec": {
   "display_name": "Python 3",
   "language": "python",
   "name": "python3"
  },
  "language_info": {
   "codemirror_mode": {
    "name": "ipython",
    "version": 3
   },
   "file_extension": ".py",
   "mimetype": "text/x-python",
   "name": "python",
   "nbconvert_exporter": "python",
   "pygments_lexer": "ipython3",
   "version": "3.11.9"
  }
 },
 "nbformat": 4,
 "nbformat_minor": 2
}
