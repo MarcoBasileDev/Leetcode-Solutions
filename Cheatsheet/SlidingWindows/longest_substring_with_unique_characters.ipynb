{
 "cells": [
  {
   "cell_type": "markdown",
   "metadata": {},
   "source": [
    "# Longest Substring With Unique Characters\n",
    "Given a string, determine the length of its longest substring that consists only of unique characters.\n",
    "\n",
    "**Example:**<br/>\n",
    "Input: s = 'abcba'<br/>\n",
    "Output: 3\n",
    "\n",
    "Explanation: Substring \"abc\" is the longest substring of length 3 that contains unique characters (\"cba\" also fits this description)."
   ]
  },
  {
   "cell_type": "markdown",
   "metadata": {},
   "source": [
    "## **Intuition**\n",
    "The **brute-force approach** involves examining all possible substrings and checking whether any contain only **unique** characters.\n",
    "\n",
    "### **Brute-force Complexity Analysis**\n",
    "- Checking a substring for uniqueness can be done in **O(n) time** by scanning it and using a **hash set** to track characters.  \n",
    "  - If we encounter a **duplicate**, we know the substring is not unique.\n",
    "- Iterating through **all possible substrings** takes **O(n²) time**.\n",
    "\n",
    "Thus, the overall **brute-force time complexity** is: O(n^3)\n",
    "\n",
    "\n",
    "Can we reduce the number of substrings we examine?\n",
    "\n",
    "---\n",
    "\n",
    "### **Optimizing with Sliding Window**\n",
    "We can categorize any window in two ways:\n",
    "\n",
    "1. **Case A: Unique Characters**  \n",
    "   - The window contains **only distinct** characters (no duplicates).  \n",
    "   - In this case, **expand** the window by moving the **right pointer** to check for a **longer valid substring**.\n",
    "\n",
    "2. **Case B: Contains Duplicates**  \n",
    "   - The window contains **at least one character with frequency > 1**.  \n",
    "   - When encountering a **duplicate**, **shrink** the window by moving the **left pointer** until the duplicate is removed.\n",
    "\n",
    "---\n",
    "\n",
    "### **Sliding Window Setup**\n",
    "To implement the **sliding window** approach, define:\n",
    "\n",
    "- **`left` and `right` pointers** → Start both at the beginning of the string to define the window boundaries.\n",
    "- **`hash_set`** → Maintain a hash set to track **unique** characters within the window, updating it as the window expands.\n",
    "\n",
    "This method **optimizes** the approach and reduces time complexity significantly.\n"
   ]
  },
  {
   "cell_type": "code",
   "execution_count": null,
   "metadata": {},
   "outputs": [],
   "source": [
    "def longest_substring_with_unique_chars(s: str) -> int:\n",
    "    max_len = 0\n",
    "    hash_set = set()\n",
    "    left = right = 0\n",
    "\n",
    "    while right < len(s):\n",
    "        while s[right] in hash_set:\n",
    "            hash_set.remove(s[left])\n",
    "            left += 1\n",
    "    \n",
    "        max_len = max(max_len, right - left + 1)\n",
    "        hash_set.add(s[right])\n",
    "        right += 1\n",
    "\n",
    "    return max_len"
   ]
  }
 ],
 "metadata": {
  "language_info": {
   "name": "python"
  }
 },
 "nbformat": 4,
 "nbformat_minor": 2
}
