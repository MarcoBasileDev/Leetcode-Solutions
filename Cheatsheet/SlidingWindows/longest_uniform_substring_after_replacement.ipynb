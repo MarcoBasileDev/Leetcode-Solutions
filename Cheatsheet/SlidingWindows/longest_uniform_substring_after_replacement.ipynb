{
 "cells": [
  {
   "cell_type": "markdown",
   "metadata": {},
   "source": [
    "# Longest Uniform Substring After Replacements\n",
    "A uniform substring is one in which all characters are identical. Given a string, determine the length of the longest uniform substring that can be formed by replacing up to k characters.\n",
    "\n",
    "**Example:**<br/>\n",
    "Input: s = 'aabcdcca', k = 2<br/>\n",
    "Output: 5\n",
    "\n",
    "Explaination: if we can only replace 2 characters, the longest uniform substring we can achieve is \"ccccc\", obtained by replacing b and d with c."
   ]
  },
  {
   "cell_type": "markdown",
   "metadata": {},
   "source": [
    "## **Intuition**\n",
    "### **Determine if a substring is uniform**\n",
    "Before we try finding the longest **uniform substring**, let's first determine the most efficient way to make a string uniform with the **fewest** character replacements.\n",
    "\n",
    "The **key observation** is that the **minimum number** of replacements needed to achieve uniformity is obtained by **replacing all characters except the most frequent one**.\n",
    "\n",
    "This suggests that if we know the **highest frequency** of a character in a substring, we can determine if our value of **k** is sufficient to make that substring uniform.  \n",
    "The number of characters that need to be replaced (`num_chars_to_replace`) can be found using:\n",
    "\n",
    "num_chars_to_replace = total characters in substring - highest frequency character count\n",
    "\n",
    "Once we've calculated `num_chars_to_replace`, we can assess if the substring can be made uniform:\n",
    "- **If** `num_chars_to_replace ≤ k`, the substring **can** be made uniform.\n",
    "- **If** `num_chars_to_replace > k`, the substring **cannot** be made uniform.\n",
    "\n",
    "### **Tracking the highest frequency character**\n",
    "To calculate `num_chars_to_replace`, we need to know the **highest frequency character** in the substring.  \n",
    "This requires tracking the **frequency** of each character, which can be efficiently managed using a **hash map** (`freqs`).  \n",
    "This hash map allows us to **update** `highest_freq` whenever we encounter a character with a **higher frequency**.\n",
    "\n",
    "---\n",
    "\n",
    "## **Dynamic Sliding Window**\n",
    "We know that **sliding windows** are useful for solving substring-related problems.  \n",
    "This problem requires that we find the **longest substring** that satisfies the condition:\n",
    "\n",
    "\n",
    "num_chars_to_replace <= k\n",
    "\n",
    "\n",
    "So, a **dynamic sliding window** might be appropriate.\n",
    "\n",
    "### **Expanding or Shrinking the Window**\n",
    "We use the above condition to decide when to **expand** or **shrink** the window:\n",
    "- **If the condition is met**, expand the window to **find a longer valid substring**.\n",
    "- **If the condition is violated**, shrink the window **until it becomes valid again**.\n",
    "\n",
    "### **Key Insight: Sliding Instead of Shrinking**\n",
    "When we find a valid window of a certain length, **no shorter window** will provide a longer uniform substring.  \n",
    "This means we can **slide** the window instead of **shrinking** it whenever we encounter an **invalid window**, effectively maintaining the length of the current window.\n",
    "\n",
    "With this insight, we can refine our previous logic:\n",
    "- **If the window satisfies the condition:** expand.\n",
    "- **If the window doesn’t satisfy the condition:** slide."
   ]
  },
  {
   "cell_type": "code",
   "execution_count": 1,
   "metadata": {},
   "outputs": [],
   "source": [
    "def longest_uniform_substring_after_replacements(s: str, k: int) -> int:\n",
    "    freqs = {}\n",
    "    highst_freq = max_len = 0\n",
    "    left = rigth = 0\n",
    "\n",
    "    while rigth < len(s):\n",
    "        freqs[s[rigth]] = freqs.get(s[rigth], 0) + 1\n",
    "        highst_freq = max(highst_freq, freqs[s[rigth]])\n",
    "        num_chars_to_replace = (rigth - left + 1) - highst_freq\n",
    "\n",
    "        if num_chars_to_replace > k:\n",
    "            freqs[s[left]] -= 1\n",
    "            left += 1\n",
    "\n",
    "        max_len = rigth - left + 1\n",
    "        rigth += 1\n",
    "    \n",
    "    return max_len"
   ]
  },
  {
   "cell_type": "markdown",
   "metadata": {},
   "source": [
    "The time complexity is O(n), where n denotes the length of the input string. This is because we traverse the string linearly with two pointers.\n",
    "\n",
    "The space complexity is O(m), where m is the number of unique characters in the string stored in the has map freqs."
   ]
  }
 ],
 "metadata": {
  "kernelspec": {
   "display_name": "Python 3",
   "language": "python",
   "name": "python3"
  },
  "language_info": {
   "codemirror_mode": {
    "name": "ipython",
    "version": 3
   },
   "file_extension": ".py",
   "mimetype": "text/x-python",
   "name": "python",
   "nbconvert_exporter": "python",
   "pygments_lexer": "ipython3",
   "version": "3.11.9"
  }
 },
 "nbformat": 4,
 "nbformat_minor": 2
}
