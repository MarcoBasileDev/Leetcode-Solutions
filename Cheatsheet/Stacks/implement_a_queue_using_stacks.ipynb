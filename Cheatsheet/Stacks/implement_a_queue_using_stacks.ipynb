{
 "cells": [
  {
   "cell_type": "markdown",
   "metadata": {},
   "source": [
    "# Implement a Queue using Stacks\n",
    "Implement a queue using the stack data structure. Include the following functions:\n",
    "- enqueue(x: int) -> None: adds x to the end of the queue.\n",
    "- dequeue() -> int: removes and returns the element from the front of the queue.\n",
    "- peek() -> int: returns the front element of the queue.\n",
    "\n",
    "You may not use any other data structures to implement the queue.\n",
    "\n",
    "**Example:**<br/>\n",
    "Input: [enqueue(1), enqueue(2), dequeue(), enqueue(3), peek()]<br/>\n",
    "Output: [1, 2]\n",
    "\n",
    "**Constraints:**\n",
    "- The dequeue and peek operations will only be called on a non-empty queue."
   ]
  },
  {
   "cell_type": "markdown",
   "metadata": {},
   "source": [
    "## Intuition\n",
    "\n",
    "A **queue** follows a **FIFO (First-In-First-Out)** order, while a **stack** follows a **LIFO (Last-In-First-Out)** order. Our challenge is to implement a queue **using only stacks**.\n",
    "\n",
    "---\n",
    "\n",
    "### Understanding the Problem\n",
    "\n",
    "Consider the sequence of operations:\n",
    "1. `enqueue(1)`\n",
    "2. `enqueue(2)`\n",
    "3. `enqueue(3)`\n",
    "\n",
    "These elements would be **pushed** onto a stack in the order `[1, 2, 3]`. If we use `pop()` to dequeue an element, we would get `3`, but we actually need `1` (the first inserted element).\n",
    "\n",
    "To retrieve `1`, we need to **pop all elements from the stack, store them elsewhere, then return the bottom element**.\n",
    "\n",
    "Since we can only use stacks, we use a **temporary stack** to reverse the order.\n",
    "\n",
    "---\n",
    "\n",
    "### Optimized Two-Stack Approach\n",
    "\n",
    "Instead of moving values **back and forth**, we maintain **two stacks**:\n",
    "1. **enqueue_stack**: Used to push values when `enqueue()` is called.\n",
    "2. **dequeue_stack**: Used to pop values when `dequeue()` is called.\n",
    "\n",
    "#### How It Works:\n",
    "- When calling `enqueue(x)`, we simply push `x` onto `enqueue_stack`.\n",
    "- When calling `dequeue()`:\n",
    "  - If `dequeue_stack` **is not empty**, pop from it.\n",
    "  - If `dequeue_stack` **is empty**, transfer all elements from `enqueue_stack` to `dequeue_stack`, then pop from `dequeue_stack`.\n",
    "- The **peek()** function follows the same logic as `dequeue()` but does not pop the top element.\n",
    "\n",
    "---\n",
    "\n",
    "### Complexity Analysis\n",
    "\n",
    "- **Enqueue:** **O(1)** (Just a push operation)\n",
    "- **Dequeue:** **O(1) amortized**, **O(n) worst case** (only when transferring elements)\n",
    "- **Peek:** **O(1) amortized**, **O(n) worst case** (same reasoning as dequeue)\n",
    "- **Space Complexity:** **O(n)** (Uses two stacks)\n",
    "\n",
    "---\n",
    "\n",
    "This approach **minimizes unnecessary transfers** between stacks and ensures an efficient queue implementation using only stacks."
   ]
  },
  {
   "cell_type": "code",
   "execution_count": 2,
   "metadata": {},
   "outputs": [],
   "source": [
    "class Queue:\n",
    "    def __init__(self):\n",
    "        self.enqueue_stack = []\n",
    "        self.dequeue_stack = []\n",
    "\n",
    "    def enqueue(self, x: int) -> None:\n",
    "        self.enqueue_stack.append(x)\n",
    "\n",
    "    def transfer_enqueue_to_dequeue(self)-> None:\n",
    "        if not self.dequeue_stack:\n",
    "            while self.enqueue_stack:\n",
    "                self.dequeue_stack.append(self.enqueue_stack.pop())\n",
    "\n",
    "    def dequeue(self) -> int:\n",
    "        self.transfer_enqueue_to_dequeue()\n",
    "        return self.dequeue_stack.pop() if self.dequeue_stack else None\n",
    "\n",
    "    def peek(self) -> int:\n",
    "        self.transfer_enqueue_to_dequeue()\n",
    "        return self.dequeue_stack[-1] if self.dequeue_stack else None"
   ]
  }
 ],
 "metadata": {
  "kernelspec": {
   "display_name": "Python 3",
   "language": "python",
   "name": "python3"
  },
  "language_info": {
   "codemirror_mode": {
    "name": "ipython",
    "version": 3
   },
   "file_extension": ".py",
   "mimetype": "text/x-python",
   "name": "python",
   "nbconvert_exporter": "python",
   "pygments_lexer": "ipython3",
   "version": "3.12.6"
  }
 },
 "nbformat": 4,
 "nbformat_minor": 2
}
