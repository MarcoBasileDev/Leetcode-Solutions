{
 "cells": [
  {
   "cell_type": "markdown",
   "metadata": {},
   "source": [
    "# Next Largest Number to the Right\n",
    "Given an integer array nums, return an output array res where, for each value nums[i], res[i] is the first number to the right that's larger than nums[i]. If no larger number exists to the right of nums[i], set res[i] to ‐1.\n",
    "\n",
    "**Example:**<br/>\n",
    "Input: nums = [5, 2, 4, 6, 1]<br/>\n",
    "Output: [6, 4, 6, -1, -1]"
   ]
  },
  {
   "cell_type": "markdown",
   "metadata": {},
   "source": [
    "## Intuition  \n",
    "\n",
    "A brute-force solution to this problem involves iterating through each number in the array and, for each of these numbers, linearly searching to their right to find the first larger number. This approach takes **O(n²)** time, where **n** denotes the length of the array.  \n",
    "\n",
    "---\n",
    "\n",
    "What if, instead of finding the next largest number for each value, we check whether the value itself is the **next largest number** for any value(s) to its left?  \n",
    "\n",
    "With this shift in perspective, we should search the array from **right to left**: certain values encountered from the right could potentially be the next largest number for values to their left. Let's call these values **candidates**. But how do we determine which numbers qualify as candidates?  \n",
    "\n",
    "Whenever we move to a new number, all **candidates** that are **less than or equal to** this number should be **removed** from the candidate list.  \n",
    "\n",
    "Additionally, the list of candidates always maintains a **strictly decreasing order** of values. This happens because we always remove candidates **less than or equal to** each new value, ensuring that values are added in decreasing order.  \n",
    "\n",
    "This suggests that a **stack** is the ideal data structure for storing the candidate list, as stacks efficiently maintain a **monotonic decreasing** order of values.  \n",
    "\n",
    "The **top of the stack** represents the most recent candidate to the right of each new number encountered. Given this, here’s how to use the stack to add and remove candidates at each value:  \n",
    "\n",
    "1. **Pop** all candidates from the top of the stack that are **less than or equal to** the current value.  \n",
    "2. The **top of the stack** will then represent the **next largest number** for the current value:  \n",
    "   - Record the **top of the stack** as the answer for the current value.  \n",
    "   - If the stack is **empty**, there is no next largest number for the current value, so record **-1**.  \n",
    "3. Add the **current value** as a new candidate by **pushing it** to the top of the stack.  "
   ]
  },
  {
   "cell_type": "code",
   "execution_count": 1,
   "metadata": {},
   "outputs": [],
   "source": [
    "from typing import List\n",
    "\n",
    "def next_largest_number_to_the_right(nums: List[int]) -> List[int]:\n",
    "    res = [0] * len(nums)\n",
    "    stack = []\n",
    "\n",
    "    for i in range(len(nums) -1, -1, -1):\n",
    "        while stack and stack[-1] <= nums[i]:\n",
    "            stack.pop()\n",
    "        \n",
    "        res[i] = stack[-1] if stack else -1\n",
    "        stack.append(nums[i])\n",
    "    \n",
    "    return res"
   ]
  },
  {
   "cell_type": "markdown",
   "metadata": {},
   "source": [
    "The time complexity is O(n) because each value of nums is pushed and popped from the stack at most once.\n",
    "\n",
    "The space complexity is O(n) because the stack can potentally store all n values."
   ]
  }
 ],
 "metadata": {
  "kernelspec": {
   "display_name": "Python 3",
   "language": "python",
   "name": "python3"
  },
  "language_info": {
   "codemirror_mode": {
    "name": "ipython",
    "version": 3
   },
   "file_extension": ".py",
   "mimetype": "text/x-python",
   "name": "python",
   "nbconvert_exporter": "python",
   "pygments_lexer": "ipython3",
   "version": "3.12.6"
  }
 },
 "nbformat": 4,
 "nbformat_minor": 2
}
