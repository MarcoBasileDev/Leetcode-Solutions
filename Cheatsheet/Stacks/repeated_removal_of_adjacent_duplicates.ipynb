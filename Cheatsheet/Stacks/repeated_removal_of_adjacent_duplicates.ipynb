{
 "cells": [
  {
   "cell_type": "markdown",
   "metadata": {},
   "source": [
    "# Repeated Removal of Adjacent Duplicates\n",
    "Given a string, continually perform the following operation: remove a pair of adjacent duplicates from the string. Continue performing this operation until the string no longer contains pairs of adjacent duplicates. Return the final string.\n",
    "\n",
    "**Example 1:**<br/>\n",
    "Input: s = 'aacabba'<br/>\n",
    "Output: 'c'\n",
    "\n",
    "**Example 2:**<br/>\n",
    "Input: s = 'aaa'<br/>\n",
    "Output: 'a'"
   ]
  },
  {
   "cell_type": "markdown",
   "metadata": {},
   "source": [
    "## Intuition\n",
    "\n",
    "The challenge in solving this problem is handling **characters that aren't initially adjacent duplicates but become adjacent after removing other duplicates**. \n",
    "\n",
    "### Key Insight\n",
    "Instead of scanning the string multiple times, we can **build the string character by character**, immediately **removing adjacent duplicates** as they form.\n",
    "\n",
    "For example, given `\"abba\"`:\n",
    "1. We remove `\"bb\"`, leaving `\"aa\"`.\n",
    "2. `\"aa\"` is now adjacent and must also be removed.\n",
    "\n",
    "This means we need a **data structure** that allows:\n",
    "1. **Adding** characters to one end.\n",
    "2. **Removing** characters from the same end.\n",
    "\n",
    "A **stack** is a strong choice because it supports **both operations efficiently**.\n",
    "\n",
    "---\n",
    "\n",
    "### Stack-Based Approach\n",
    "\n",
    "We process the string **one character at a time**:\n",
    "- **Push** the character onto the stack if it's **not a duplicate** of the top element.\n",
    "- **Pop** the top of the stack if it matches the current character (removing the duplicate).\n",
    "- Continue until all characters are processed.\n",
    "\n",
    "At the end, the **stack contains the final string**, so we convert it back to a string.\n",
    "\n",
    "---\n",
    "\n",
    "### Complexity Analysis\n",
    "\n",
    "- **Time Complexity:** **O(n)**  \n",
    "  - Each character is pushed **at most once** and popped **at most once**.\n",
    "- **Space Complexity:** **O(n)** (worst case)  \n",
    "  - If no duplicates exist, the stack stores all characters.\n",
    "\n",
    "Using a stack ensures that we **efficiently remove adjacent duplicates** in a **single pass**."
   ]
  },
  {
   "cell_type": "code",
   "execution_count": null,
   "metadata": {},
   "outputs": [],
   "source": [
    "def repeated_removal_of_adjacent_duplicates(s: str) -> str:\n",
    "    stack = []\n",
    "\n",
    "    for c in s:\n",
    "        if stack and c == stack[-1]:\n",
    "            stack.pop()\n",
    "        else:\n",
    "            stack.append(c)\n",
    "    \n",
    "    return ''.join(stack)"
   ]
  }
 ],
 "metadata": {
  "kernelspec": {
   "display_name": "Python 3",
   "language": "python",
   "name": "python3"
  },
  "language_info": {
   "name": "python",
   "version": "3.12.6"
  }
 },
 "nbformat": 4,
 "nbformat_minor": 2
}
