{
 "cells": [
  {
   "cell_type": "markdown",
   "metadata": {},
   "source": [
    "# Valid Parenthesis Expression\n",
    "Given a string representing an expression of parentheses containing the characters '(', ')', '[', ']', '{', or '}', determine if the expression forms a valid sequence of parentheses.\n",
    "\n",
    "A sequence of parentheses is valid if every opening parenthesis has a corresponding closing parenthesis, and no closing parenthesis appears before its matching opening parenthesis.\n",
    "\n",
    "**Example 1:**<br/>\n",
    "Input: s = '([]{})'\n",
    "Output: True<br/>\n",
    "\n",
    "**Example 2:**<br/>\n",
    "Input: s = '([]{)}'\n",
    "Output: False<br/>\n",
    "\n",
    "Explanation: The '(' parenthesis is closed before its nested '{' parenthesis is closed.\n"
   ]
  },
  {
   "cell_type": "markdown",
   "metadata": {},
   "source": [
    "## **Intuition**\n",
    "A key observation is that for each type of parenthesis, the number of **opening** and **closing** parentheses must be **identical**.  \n",
    "However, this alone **isn't enough** to determine if an expression is valid.  \n",
    "\n",
    "For example, the string `\"())(\"` contains the same number of opening and closing parentheses but is **still invalid**.  \n",
    "This means we need a way to check the **order** of parentheses.\n",
    "\n",
    "The most **recent opening parenthesis** we encounter should be **the first one to be closed**.  \n",
    "This follows a **Last-In-First-Out (LIFO)** structure, which suggests using a **stack** to solve the problem.\n",
    "\n",
    "---\n",
    "\n",
    "## **Stack Approach**\n",
    "### **High-Level Strategy**\n",
    "1. **Push** each **opening parenthesis** onto the stack.  \n",
    "   - This ensures that the most **recent** opening parenthesis is always at the **top**.  \n",
    "2. **When encountering a closing parenthesis**:  \n",
    "   - Check if it **matches** the most recent opening parenthesis at the top of the stack.  \n",
    "   - If it does, **pop** the stack to remove the matched pair.  \n",
    "   - If it **doesn't match**, or if the stack is **empty**, the string is **invalid**.\n",
    "\n",
    "---\n",
    "\n",
    "## **Edge Case: Extra Opening Parentheses**\n",
    "Since we only **validate closing parentheses**, we need a **final check** after processing the entire string:  \n",
    "- If the stack is **empty**, all parentheses have been properly closed, so the string is **valid**.  \n",
    "- If the stack **isn't empty**, there are **unmatched opening parentheses**, making the string **invalid**.\n",
    "\n",
    "---\n",
    "\n",
    "## **Handling Three Types of Parentheses**\n",
    "Since we have **three types** of parentheses (`()`, `{}`, `[]`), we need a way to ensure **correct matching**.  \n",
    "\n",
    "### **Using a Hash Map**\n",
    "A **hash map** (`dictionary`) can be used to:\n",
    "1. **Map** each opening parenthesis to its **corresponding closing parenthesis**.  \n",
    "2. **Check** if a character is an opening or closing parenthesis:  \n",
    "   - If it exists as a **key** in the hash map, it's an **opening** parenthesis.  \n",
    "   - Otherwise, it's a **closing** parenthesis.\n",
    "\n",
    "Using this approach ensures that each closing parenthesis is matched with the correct type of opening parenthesis."
   ]
  },
  {
   "cell_type": "code",
   "execution_count": 1,
   "metadata": {},
   "outputs": [],
   "source": [
    "def valid_parenthesis_expression(s: str) -> bool:\n",
    "    parentheses_map = { '(': ')', '[': ']' ,'{': '}'}\n",
    "    stack = []\n",
    "\n",
    "    for c in s:\n",
    "        if c in parentheses_map:\n",
    "            stack.append(c)\n",
    "        else:\n",
    "            if stack and parentheses_map[stack[-1]] == c:\n",
    "                stack.pop()\n",
    "            else:\n",
    "                return False\n",
    "\n",
    "    return not stack"
   ]
  },
  {
   "cell_type": "markdown",
   "metadata": {},
   "source": [
    "## **Time Complexity**\n",
    "The time complexity is **O(n)**, where **n** denotes the length of the input string.  \n",
    "\n",
    "- We traverse the entire string **once**.  \n",
    "- For each character, we perform a **constant-time operation**:  \n",
    "  - Either **pushing** it onto the stack  \n",
    "  - Or **popping** it from the stack  \n",
    "- Since each operation is **O(1)** and we process **n** characters, the overall complexity is **O(n)**.\n",
    "\n",
    "---\n",
    "\n",
    "## **Space Complexity**\n",
    "The space complexity is **O(n)**.  \n",
    "\n",
    "- In the **worst case**, if the string consists only of **opening parentheses**, the stack stores **all** `n` characters.  \n",
    "- The **hash map** used for matching parentheses takes up **O(1) space**, as it only contains **a fixed number of mappings** (at most 3 pairs: `{}` `[]` `()`).\n",
    "- Thus, the dominant factor is the **stack**, leading to an overall space complexity of **O(n)**."
   ]
  }
 ],
 "metadata": {
  "kernelspec": {
   "display_name": "Python 3",
   "language": "python",
   "name": "python3"
  },
  "language_info": {
   "codemirror_mode": {
    "name": "ipython",
    "version": 3
   },
   "file_extension": ".py",
   "mimetype": "text/x-python",
   "name": "python",
   "nbconvert_exporter": "python",
   "pygments_lexer": "ipython3",
   "version": "3.11.9"
  }
 },
 "nbformat": 4,
 "nbformat_minor": 2
}
