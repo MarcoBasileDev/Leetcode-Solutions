{
 "cells": [
  {
   "cell_type": "markdown",
   "metadata": {},
   "source": [
    "# Balanced Binary Tree Validation\n",
    "Determine if a binary tree is height-balanced, meaning no node's left subtree and right subtree have a height difference greater than 1."
   ]
  },
  {
   "cell_type": "markdown",
   "metadata": {},
   "source": [
    "# Intuition\n",
    "\n",
    "A binary tree is balanced if the height difference between the left and right subtrees of every node is at most 1. This means each subtree must also be balanced.\n",
    "\n",
    "To determine this, we need to compute the height of the left and right subtrees at each node. The height of a tree is given by:\n",
    "\n",
    "$$\n",
    "\\text{height} = 1 + \\max(\\text{left\\_height}, \\text{right\\_height})\n",
    "$$\n",
    "\n",
    "This suggests a recursive approach where:\n",
    "1. We compute the height of the left and right subtrees.\n",
    "2. If the height difference exceeds 1, the subtree is imbalanced.\n",
    "3. If a subtree is imbalanced, we return \\(-1\\) to propagate this information upward.\n",
    "4. The base case returns 0 for `null` nodes, as they have height 0.\n",
    "5. The final result is `false` if the root returns \\(-1\\), otherwise `true`.\n",
    "\n",
    "### Complexity Analysis\n",
    "\n",
    "- **Time Complexity:** \\(O(n)\\), where \\(n\\) is the number of nodes, since each node is visited once.\n",
    "- **Space Complexity:** \\(O(n)\\) due to the recursive call stack, which can grow up to the height of the tree (at most \\(n\\) in a skewed tree).\n"
   ]
  },
  {
   "cell_type": "code",
   "execution_count": 2,
   "metadata": {},
   "outputs": [],
   "source": [
    "class TreeNode:\n",
    "    def __init__(self, val):\n",
    "        self.val = val\n",
    "        self.left = None\n",
    "        self.right = None\n",
    "\n",
    "def balanced_binary_tree_validation(root: TreeNode) -> bool:\n",
    "    return get_height_imbalance(root) != -1\n",
    "\n",
    "\n",
    "def get_height_imbalance(node: TreeNode) -> int:\n",
    "    if not node:\n",
    "        return 0\n",
    "    \n",
    "    left_height = get_height_imbalance(node.left)\n",
    "    right_height = get_height_imbalance(node.right)\n",
    "\n",
    "    if left_height == -1 or right_height == -1:\n",
    "        return -1\n",
    "\n",
    "    if abs(left_height - right_height) > 1:\n",
    "        return -1\n",
    "    \n",
    "    return 1 + max(left_height, right_height)"
   ]
  }
 ],
 "metadata": {
  "kernelspec": {
   "display_name": "Python 3",
   "language": "python",
   "name": "python3"
  },
  "language_info": {
   "codemirror_mode": {
    "name": "ipython",
    "version": 3
   },
   "file_extension": ".py",
   "mimetype": "text/x-python",
   "name": "python",
   "nbconvert_exporter": "python",
   "pygments_lexer": "ipython3",
   "version": "3.11.9"
  }
 },
 "nbformat": 4,
 "nbformat_minor": 2
}
