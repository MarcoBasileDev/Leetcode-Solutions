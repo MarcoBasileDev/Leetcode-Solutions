{
 "cells": [
  {
   "cell_type": "markdown",
   "metadata": {},
   "source": [
    "# Binary Search Tree Validation\n",
    "Verify whether a binary tree is a valid binary search tree (BST). A BST is a binary tree where each node meets the following criteria:\n",
    "- A node's left subtree contains only nodes of lower values than the node's value.\n",
    "- A node's right subtree contains only nodes of greater values than the node's value."
   ]
  },
  {
   "cell_type": "markdown",
   "metadata": {},
   "source": [
    "## Intuition\n",
    "\n",
    "A **Binary Search Tree (BST)** maintains a sorted structure based on the following rules:\n",
    "- The **left subtree** of a node contains values **less than** the node's value.\n",
    "- The **right subtree** contains values **strictly greater** than the node's value.\n",
    "- This condition must hold **recursively** for all subtrees.\n",
    "\n",
    "---\n",
    "\n",
    "### Recursive Approach (DFS)\n",
    "To verify if a tree is a valid BST, we use **Depth-First Search (DFS)** with bounds:\n",
    "\n",
    "1. Check if `node.val` is within the allowed range `(lower_bound, upper_bound)`.  \n",
    "   - If not, return `false` (invalid BST).\n",
    "2. Recursively validate the **left subtree**, updating the upper bound:  \n",
    "   `is_valid(node.left, lower_bound, node.val)`\n",
    "3. If the left subtree is **invalid**, return `false` immediately (optimization).\n",
    "4. Recursively validate the **right subtree**, updating the lower bound:  \n",
    "   `is_valid(node.right, node.val, upper_bound)`.\n",
    "5. If both recursive calls return `true`, the current subtree is valid.\n",
    "\n",
    "---\n",
    "\n",
    "### Optimization\n",
    "To improve efficiency, if the left subtree check returns `false`, we **skip** checking the right subtree and return `false` immediately.\n",
    "\n",
    "This approach ensures we only traverse as much of the tree as necessary.\n",
    "\n",
    "---\n",
    "\n",
    "### Complexity Analysis\n",
    "The time complexity is O(n), where n denotes the number of nodes in the tree. This is because we process each node recursively at most once.\n",
    "\n",
    "The space complexity is O(n) due to the space taken up by the recursive call stack, which can grow as large as the height of the binary tree. The largest possibile height of a binary tree is n."
   ]
  },
  {
   "cell_type": "code",
   "execution_count": 5,
   "metadata": {},
   "outputs": [],
   "source": [
    "from typing import List\n",
    "\n",
    "class TreeNode:\n",
    "    def __init__(self, val):\n",
    "        self.val = val\n",
    "        self.left = None\n",
    "        self.right = None\n",
    "\n",
    "def binary_search_tree_validation(root: TreeNode) -> bool:\n",
    "    return is_within_bounds(root, float('-inf'), float('inf'))\n",
    "\n",
    "\n",
    "def is_within_bounds(node: TreeNode, lower_bound: int, upper_bound: int) -> bool:\n",
    "    if not node:\n",
    "        return True\n",
    "\n",
    "    if not lower_bound < node.val < upper_bound:\n",
    "        return False\n",
    "    \n",
    "    if not is_within_bounds(node.left, lower_bound, node.val):\n",
    "        return False\n",
    "    \n",
    "    return is_within_bounds(node.right, node.val, upper_bound)\n"
   ]
  }
 ],
 "metadata": {
  "kernelspec": {
   "display_name": "Python 3",
   "language": "python",
   "name": "python3"
  },
  "language_info": {
   "codemirror_mode": {
    "name": "ipython",
    "version": 3
   },
   "file_extension": ".py",
   "mimetype": "text/x-python",
   "name": "python",
   "nbconvert_exporter": "python",
   "pygments_lexer": "ipython3",
   "version": "3.12.6"
  }
 },
 "nbformat": 4,
 "nbformat_minor": 2
}
