{
 "cells": [
  {
   "cell_type": "markdown",
   "metadata": {},
   "source": [
    "# Binary Tree Symmetry\n",
    "Determine if a binary tree is vertically symmetric. That is, the left subtree of the root node is a mirror of the right subtree."
   ]
  },
  {
   "cell_type": "markdown",
   "metadata": {},
   "source": [
    "## Intuition\n",
    "\n",
    "To determine if a binary tree is symmetric, we must check whether its left and right subtrees are mirror images of each other.\n",
    "\n",
    "---\n",
    "\n",
    "### Key Observations:\n",
    "- The **root node itself does not affect symmetry**, so we focus on comparing the left and right subtrees.\n",
    "- The **right subtree is an inverted version of the left subtree**:\n",
    "  - The left child of a node in the left subtree must match the right child of the corresponding node in the right subtree.\n",
    "  - The right child of a node in the left subtree must match the left child of the corresponding node in the right subtree.\n",
    "\n",
    "---\n",
    "\n",
    "### Approach:\n",
    "We use **Depth-First Search (DFS)** to traverse both subtrees simultaneously:\n",
    "1. Compare the left and right children of corresponding nodes.\n",
    "2. **Base cases:**\n",
    "   - If the values do not match, the tree is not symmetric.\n",
    "   - If one node is `null` while the other is not, the tree is not symmetric.\n",
    "3. Recursively compare:\n",
    "   - The **left child** of one node with the **right child** of the other.\n",
    "   - The **right child** of one node with the **left child** of the other.\n",
    "4. If both recursive calls return `true`, the subtrees are symmetric.\n",
    "\n",
    "This process is repeated for the entire tree."
   ]
  },
  {
   "cell_type": "code",
   "execution_count": 1,
   "metadata": {},
   "outputs": [],
   "source": [
    "class TreeNode:\n",
    "    def __init__(self, val):\n",
    "        self.val = val\n",
    "        self.left = None\n",
    "        self.right = None\n",
    "\n",
    "\n",
    "def binary_tree_symmetry(root: TreeNode) -> bool:\n",
    "    if not root:\n",
    "        return True\n",
    "    \n",
    "    return dfs(root.left, root.right)\n",
    "\n",
    "\n",
    "def dfs(node1: TreeNode, node2: TreeNode):\n",
    "    if not node1 and not node2:\n",
    "        return True\n",
    "    \n",
    "    if not node1 or not node2:\n",
    "        return False\n",
    "\n",
    "    if node1.val != node2.val:\n",
    "        return False\n",
    "\n",
    "    if not dfs(node1.left, node2.right):\n",
    "        return False\n",
    "    \n",
    "    return dfs(node1.right, node2.left)"
   ]
  },
  {
   "cell_type": "markdown",
   "metadata": {},
   "source": [
    "### Complexity Analysis\n",
    "The time complexity is O(n), where n denotes the number of nodes in the tree. This is because we process each node recursively at most once.\n",
    "\n",
    "The space complexity is O(n) due to the space taken up by the recursive call stack, which can grow as large as the height of the binary tree. The largest possible height of a binary tree is n."
   ]
  }
 ],
 "metadata": {
  "kernelspec": {
   "display_name": "Python 3",
   "language": "python",
   "name": "python3"
  },
  "language_info": {
   "codemirror_mode": {
    "name": "ipython",
    "version": 3
   },
   "file_extension": ".py",
   "mimetype": "text/x-python",
   "name": "python",
   "nbconvert_exporter": "python",
   "pygments_lexer": "ipython3",
   "version": "3.12.6"
  }
 },
 "nbformat": 4,
 "nbformat_minor": 2
}
