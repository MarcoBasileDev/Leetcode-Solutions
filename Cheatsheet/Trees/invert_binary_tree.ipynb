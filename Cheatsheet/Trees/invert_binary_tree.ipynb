{
 "cells": [
  {
   "cell_type": "markdown",
   "metadata": {},
   "source": [
    "# Invert Binary Tree\n",
    "Invert a binary tree and return its root. When a binary tree is inverted, it becomes the mirror image of itself."
   ]
  },
  {
   "cell_type": "markdown",
   "metadata": {},
   "source": [
    "## Intuition - Recursive\n",
    "\n",
    "Inverting a binary tree means flipping it along a vertical axis. This involves swapping the left and right children of each node. Crucially, when swapping a subtree, all its descendant nodes move as well. Thus, we're not just swapping values but entire subtrees.\n",
    "\n",
    "### Depth-First Search (DFS)\n",
    "\n",
    "To achieve this, we visit every node and swap its left and right children. Since node order doesn’t matter, we can use any tree traversal method. Here, we use DFS:  \n",
    "1. Swap the left and right children of the current node.  \n",
    "2. Recursively invert the left and right subtrees.  \n",
    "\n",
    "### Complexity Analysis\n",
    "\n",
    "- **Time Complexity:** \\(O(n)\\), where \\(n\\) is the number of nodes, since each node is visited once.  \n",
    "- **Space Complexity:** \\(O(n)\\) in the worst case due to the recursive call stack, which can reach the tree's height (up to \\(n\\) in a skewed tree).  "
   ]
  },
  {
   "cell_type": "code",
   "execution_count": 2,
   "metadata": {},
   "outputs": [],
   "source": [
    "class TreeNode:\n",
    "    def __init__(self, val):\n",
    "        self.val = val\n",
    "        self.left = None\n",
    "        self.right = None\n",
    "\n",
    "def invert_binary_tree(root: TreeNode) -> TreeNode:\n",
    "    if not root:\n",
    "        return None\n",
    "    \n",
    "    root.left, root.right = root.right, root.left\n",
    "    invert_binary_tree(root.left)\n",
    "    invert_binary_tree(root.right)\n",
    "    return root"
   ]
  },
  {
   "cell_type": "markdown",
   "metadata": {},
   "source": [
    "## Intuition - Iterative\n",
    "\n",
    "In the recursive solution, each function call adds a node to the call stack. Since a recursive stack is essentially a stack, we can mimic the approach using an explicit stack.\n",
    "\n",
    "1. Start by pushing the root node onto the stack.\n",
    "2. While the stack is not empty:\n",
    "   - Pop the top node.\n",
    "   - Swap its left and right children.\n",
    "   - Push the left and right children onto the stack (if they exist) for future processing.\n",
    "3. Repeat until all nodes have been processed.\n",
    "\n",
    "### Complexity Analysis\n",
    "\n",
    "- **Time Complexity:** \\(O(n)\\), where \\(n\\) is the number of nodes, since each node is processed once.\n",
    "- **Space Complexity:** \\(O(n)\\) in the worst case, as the stack can grow up to the height of the tree (which is at most \\(n\\) in a skewed tree)."
   ]
  },
  {
   "cell_type": "code",
   "execution_count": 3,
   "metadata": {},
   "outputs": [],
   "source": [
    "class TreeNode:\n",
    "    def __init__(self, val):\n",
    "        self.val = val\n",
    "        self.left = None\n",
    "        self.right = None\n",
    "\n",
    "\n",
    "def invert_binary_tree(root: TreeNode) -> TreeNode:\n",
    "    if not root:\n",
    "        return None\n",
    "    \n",
    "    stack = [root]\n",
    "    while stack:\n",
    "        node = stack.pop()\n",
    "        node.left, node.right = node.right, node.left\n",
    "\n",
    "        if node.left:\n",
    "            stack.append(node.left)\n",
    "        if node.right:\n",
    "            stack.append(node.right)\n",
    "    \n",
    "    return root"
   ]
  }
 ],
 "metadata": {
  "kernelspec": {
   "display_name": "Python 3",
   "language": "python",
   "name": "python3"
  },
  "language_info": {
   "codemirror_mode": {
    "name": "ipython",
    "version": 3
   },
   "file_extension": ".py",
   "mimetype": "text/x-python",
   "name": "python",
   "nbconvert_exporter": "python",
   "pygments_lexer": "ipython3",
   "version": "3.11.9"
  }
 },
 "nbformat": 4,
 "nbformat_minor": 2
}
