{
 "cells": [
  {
   "cell_type": "markdown",
   "id": "e3cacde7",
   "metadata": {},
   "source": [
    "# Kth Smallest Number in a Binary Search Tree\n",
    "Given the root of a binary search tree (BST) and an integer k, find the kth smallest node value.\n",
    "\n",
    "**Constraints:**\n",
    "- `n ≥ 1`, where `n` denotes the number of nodes in the tree.\n",
    "- `1 ≤ k ≤ n`"
   ]
  },
  {
   "cell_type": "markdown",
   "id": "2d517c35",
   "metadata": {},
   "source": [
    "## Intuition – Recursive\n",
    "\n",
    "A naive solution would be to traverse the entire tree, collect all node values into an array, sort it, and return the k<sup>th</sup> element. However, this approach ignores the intrinsic structure of a Binary Search Tree (BST).\n",
    "\n",
    "---\n",
    "\n",
    "In a BST, the left subtree contains only values less than the current node, and the right subtree only values greater. This natural ordering allows us to retrieve values in sorted order using **inorder traversal**, which visits nodes in the sequence: left → root → right.\n",
    "\n",
    "---\n",
    "\n",
    "By performing a recursive inorder traversal, we can build a sorted list of node values without explicit sorting. The k<sup>th</sup> smallest element will be at index `k - 1` in this list.\n",
    "\n",
    "---\n",
    "\n",
    "Thus, the algorithm is:\n",
    "1. Traverse the BST using inorder traversal.\n",
    "2. Store visited node values in an array.\n",
    "3. Return the element at index `k - 1`.\n",
    "\n",
    "This leverages the BST’s structure and avoids unnecessary work."
   ]
  },
  {
   "cell_type": "code",
   "execution_count": 3,
   "id": "dc44d9bd",
   "metadata": {},
   "outputs": [],
   "source": [
    "from typing import List\n",
    "\n",
    "class TreeNode:\n",
    "    def __init__(self, val):\n",
    "        self.val = val\n",
    "        self.left = None\n",
    "        self.right = None\n",
    "\n",
    "\n",
    "def kth_smallest_number_in_BST(root: TreeNode, k: int) -> int:\n",
    "    sorted_list = inorder(root)\n",
    "    \n",
    "    return sorted_list[k- 1]\n",
    "\n",
    "\n",
    "def inorder(node: TreeNode)-> List[int]:\n",
    "    if not node:\n",
    "        return []\n",
    "\n",
    "    return inorder(node.left) + [node.val] + inorder(node.right)"
   ]
  },
  {
   "cell_type": "markdown",
   "id": "d08e0a1b",
   "metadata": {},
   "source": [
    "### Complexity Analysis\n",
    "The time complexity is O(n) where n denotes the number of nodes in the tree. This is because we need to traverse through all n nodes of the tree to attain the sorted list.\n",
    "\n",
    "The space complexity is O(n) due to the space taken up by sorted_list, as well as the recursive call stack, which can grow as large as the height of the binary tree. The largest possible height of a binary tree is n."
   ]
  },
  {
   "cell_type": "markdown",
   "id": "22d51bc8",
   "metadata": {},
   "source": [
    "## Intuition – Iterative\n",
    "\n",
    "Since we only need the k<sup>th</sup> smallest value, storing all `n` values is unnecessary. Ideally, we want to traverse just the first `k` nodes in the inorder sequence.\n",
    "\n",
    "In recursive inorder traversal, it's hard to stop early. However, an **iterative** approach using a **stack** allows us to simulate the traversal and **exit early** once we've visited `k` nodes.\n",
    "\n",
    "---\n",
    "\n",
    "### Why Inorder Traversal?\n",
    "\n",
    "In a BST, **inorder traversal** (left → root → right) visits nodes in **sorted order**. By visiting the first `k` nodes, we can directly find the k<sup>th</sup> smallest without processing the entire tree.\n",
    "\n",
    "---\n",
    "\n",
    "### Approach\n",
    "\n",
    "We simulate inorder traversal using a stack:\n",
    "\n",
    "1. **Traverse Left Subtree**:\n",
    "   - Push nodes onto the stack as we go left from the root.\n",
    "   - This mimics the recursive call stack and allows backtracking.\n",
    "\n",
    "2. **Process Node**:\n",
    "   - When we reach a null left child, pop the top node from the stack.\n",
    "   - This node is the next in sorted order.\n",
    "   - Decrement `k`. If `k == 0`, return this node’s value — it’s the k<sup>th</sup> smallest.\n",
    "\n",
    "3. **Traverse Right Subtree**:\n",
    "   - Move to the right child of the current node and repeat the process.\n",
    "\n",
    "This way, we efficiently traverse only as much of the tree as needed, avoiding unnecessary storage or full traversal."
   ]
  },
  {
   "cell_type": "code",
   "execution_count": 4,
   "id": "0c334c50",
   "metadata": {},
   "outputs": [],
   "source": [
    "from typing import List\n",
    "\n",
    "class TreeNode:\n",
    "    def __init__(self, val):\n",
    "        self.val = val\n",
    "        self.left = None\n",
    "        self.right = None\n",
    "\n",
    "\n",
    "def kth_smallest_number_in_BST(root: TreeNode, k: int) -> int:\n",
    "    stack = []\n",
    "    node = root\n",
    "\n",
    "    while stack or node:\n",
    "        while node:\n",
    "            stack.append(node)\n",
    "            node = node.left\n",
    "        \n",
    "        node = stack.pop()\n",
    "        k -= 1\n",
    "\n",
    "        if k == 0:\n",
    "            return node.val\n",
    "        \n",
    "        node = node.right"
   ]
  },
  {
   "cell_type": "markdown",
   "id": "7e64a5d0",
   "metadata": {},
   "source": [
    "### Complexity Analysis\n",
    "\n",
    "**Time Complexity:** `O(k + h)`, where:\n",
    "- `k` is the number of nodes we need to visit to reach the k<sup>th</sup> smallest.\n",
    "- `h` is the height of the tree (depth of the leftmost path).\n",
    "\n",
    "**Explanation:**\n",
    "- We may visit up to `k` nodes before finding the answer → `O(k)`.\n",
    "- Before we start counting, we first traverse down the leftmost path, which takes `O(h)` time.\n",
    "- In the worst-case scenario (e.g., a skewed tree), `h` could be up to `n`, so the total complexity becomes `O(n)`.\n",
    "\n",
    "**Space Complexity:** `O(h)`\n",
    "- The stack stores at most `h` nodes at any given time (one per level of depth).\n",
    "- In the worst case (e.g. a left-skewed tree), this is also `O(n)`.\n",
    "\n",
    "**Best Case:**\n",
    "- In a balanced BST with small `k`, time and space can approach `O(log n)`."
   ]
  }
 ],
 "metadata": {
  "kernelspec": {
   "display_name": "Python 3",
   "language": "python",
   "name": "python3"
  },
  "language_info": {
   "codemirror_mode": {
    "name": "ipython",
    "version": 3
   },
   "file_extension": ".py",
   "mimetype": "text/x-python",
   "name": "python",
   "nbconvert_exporter": "python",
   "pygments_lexer": "ipython3",
   "version": "3.11.9"
  }
 },
 "nbformat": 4,
 "nbformat_minor": 5
}
