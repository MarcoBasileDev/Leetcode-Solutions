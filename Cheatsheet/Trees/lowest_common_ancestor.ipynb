{
 "cells": [
  {
   "cell_type": "markdown",
   "metadata": {},
   "source": [
    "# Lowest Common Ancestor\n",
    "Return the lowest common ancestor (LCA) of two nodes, p and q, in a binary tree. The LCA is defined as the lowest node that has both p and q as descendants. A node can be considered an ancestor of itself.\n",
    "\n",
    "**Constraints**:<br/>\n",
    "- The tree contains at least two nodes.\n",
    "- All node values are unique.\n",
    "- p and q represent different nodes in the tree."
   ]
  },
  {
   "cell_type": "markdown",
   "metadata": {},
   "source": [
    "## Intuition\n",
    "\n",
    "To find the **Lowest Common Ancestor (LCA)** of two nodes `p` and `q` in a binary tree, we need to determine the **lowest** node in the tree that is an ancestor of both.\n",
    "\n",
    "---\n",
    "\n",
    "### Understanding When a Node is an Ancestor\n",
    "A node `x` is an **ancestor** of `p` and `q` if **both** `p` and `q` exist in its subtree (including itself).\n",
    "\n",
    "### Identifying the LCA\n",
    "As we traverse the tree, we check whether the current node:\n",
    "1. **Is itself** `p` or `q`\n",
    "2. Contains `p` or `q` in its **left subtree**\n",
    "3. Contains `p` or `q` in its **right subtree**\n",
    "\n",
    "If at least **two** of these conditions hold for a node, then that node is the **LCA**.\n",
    "\n",
    "---\n",
    "\n",
    "### Depth-First Search (DFS) Approach\n",
    "A **recursive DFS** traversal is ideal, as it allows us to efficiently check each node’s left and right subtrees.\n",
    "\n",
    "At each node, we compute three boolean values:\n",
    "- `node_is_p_or_q = (node == p or node == q)`\n",
    "- `left_contains_p_or_q = dfs(node.left)`\n",
    "- `right_contains_p_or_q = dfs(node.right)`\n",
    "\n",
    "The current node is the **LCA** if at least **two** of these values are `true`.\n",
    "\n",
    "---\n",
    "\n",
    "### Return Statement\n",
    "Each recursive `dfs(node)` call returns `true` if the subtree rooted at `node` contains either `p` or `q`. This ensures we propagate the existence of `p` and `q` upwards, allowing us to correctly identify the LCA."
   ]
  },
  {
   "cell_type": "code",
   "execution_count": 2,
   "metadata": {},
   "outputs": [],
   "source": [
    "class TreeNode:\n",
    "    def __init__(self, val):\n",
    "        self.val = val\n",
    "        self.left = None\n",
    "        self.right = None\n",
    "\n",
    "def lowest_common_ancestor(root: TreeNode, p: TreeNode, q: TreeNode) -> TreeNode:\n",
    "    dfs(root, p, q)\n",
    "    return lca\n",
    "\n",
    "def dfs(node: TreeNode, p: TreeNode, q: TreeNode) -> bool:\n",
    "    global lca\n",
    "    if not node:\n",
    "        return False\n",
    "\n",
    "    node_is_p_or_q = node == p or node == q\n",
    "    left_contains_p_or_q = dfs(node.left, p, q)\n",
    "    right_contains_p_or_q = dfs(node.right, p, q)\n",
    "\n",
    "    if (\n",
    "        node_is_p_or_q \n",
    "        + left_contains_p_or_q\n",
    "        + right_contains_p_or_q \n",
    "        == 2\n",
    "    ):\n",
    "        lca = node\n",
    "    \n",
    "    return (\n",
    "        node_is_p_or_q\n",
    "        or left_contains_p_or_q\n",
    "        or right_contains_p_or_q\n",
    "    )"
   ]
  },
  {
   "cell_type": "markdown",
   "metadata": {},
   "source": [
    "### Complexity Analysis\n",
    "The time complexity is O(n), where n denotes the number of nodes in the tree. This is because we traverses each node of the tree once.\n",
    "\n",
    "The space complexity is O(n) due to the space taken up by the recursive call stack, which can grow as large as the height of the binary tree. The largest possible height of a binary tree is n."
   ]
  }
 ],
 "metadata": {
  "kernelspec": {
   "display_name": "Python 3",
   "language": "python",
   "name": "python3"
  },
  "language_info": {
   "codemirror_mode": {
    "name": "ipython",
    "version": 3
   },
   "file_extension": ".py",
   "mimetype": "text/x-python",
   "name": "python",
   "nbconvert_exporter": "python",
   "pygments_lexer": "ipython3",
   "version": "3.11.9"
  }
 },
 "nbformat": 4,
 "nbformat_minor": 2
}
