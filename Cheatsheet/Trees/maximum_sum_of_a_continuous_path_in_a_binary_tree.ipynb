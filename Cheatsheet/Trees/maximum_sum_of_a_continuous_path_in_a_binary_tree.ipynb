{
 "cells": [
  {
   "cell_type": "markdown",
   "metadata": {},
   "source": [
    "# Maximum Sum of a Continuous Path in a Binary Tree\n",
    "Return the maximum sum of a continuous path in a binary tree. A path is defined by the following characteristics:\n",
    "- Consists of a sequence of nodes that can begin and end at any node in the tree\n",
    "- Each consecutive pair of nodes in the sequence is connected by an edge\n",
    "- The path must be a single continuous sequence of nodes that doesn't split into multiple paths"
   ]
  },
  {
   "cell_type": "markdown",
   "metadata": {},
   "source": [
    "## Intuition\n",
    "\n",
    "To find the maximum sum of a continuous path in a binary tree, we need to understand what constitutes a valid path. A path in a binary tree is defined as a sequence of nodes where each consecutive pair of nodes is connected by an edge. The path can start and end at any node in the tree, but it must be a single continuous sequence without any splits into multiple paths.\n",
    "\n",
    "Every path in a binary tree has a root node, which is the highest node in the path. \n",
    "\n",
    "---\n",
    "\n",
    "### Key Observations\n",
    "\n",
    "1. **Root Node of a Path**: Every path has a root node, and the maximum path sum for a given node can be calculated by considering the maximum sums from its left and right subtrees.\n",
    "\n",
    "2. **Invalid Paths**: When calculating the maximum path sum for a node, we must ensure that the path is continuous and does not split into multiple branches. For example, if we receive a path sum from a recursive call that includes multiple branches, it would result in an invalid path.\n",
    "\n",
    "3. **Valid Paths**: To form a valid path, we need to return the sum of a single continuous path from the left or right subtree, not a combination of both.\n",
    "\n",
    "---\n",
    "\n",
    "### Recursive Approach\n",
    "\n",
    "To find the maximum path sum, we can use a recursive approach:\n",
    "\n",
    "- For each node, calculate the maximum path sum that can be obtained from its left and right subtrees.\n",
    "- Ensure that the path sums returned from the subtrees are from single continuous paths (i.e., no branching).\n",
    "- The maximum path sum for the current node is the sum of the node's value and the maximum path sums from its left and right subtrees.\n",
    "- However, if either the left or right subtree returns a negative sum, it should be excluded from the calculation, as it would not contribute to the maximum sum.\n",
    "\n",
    "---\n",
    "\n",
    "### Handling Negative Sums\n",
    "\n",
    "If the maximum path sum from the left or right subtree is negative, it should be treated as zero. This is because including a negative sum would reduce the overall path sum, which is not desirable when trying to find the maximum sum.\n",
    "\n",
    "---\n",
    "\n",
    "### Summary of the Approach\n",
    "\n",
    "1. **Recursive Calculation**: For each node, recursively calculate the maximum path sum from its left and right subtrees.\n",
    "2. **Single Continuous Path**: Ensure that the path sums returned from the subtrees are from single continuous paths.\n",
    "3. **Exclude Negative Sums**: If the maximum path sum from a subtree is negative, exclude it by treating it as zero.\n",
    "4. **Global Maximum**: Keep track of the global maximum path sum encountered during the traversal."
   ]
  },
  {
   "cell_type": "code",
   "execution_count": 2,
   "metadata": {},
   "outputs": [],
   "source": [
    "class TreeNode:\n",
    "    def __init__(self, val):\n",
    "        self.val = val\n",
    "        self.left = None\n",
    "        self.right = None\n",
    "\n",
    "max_sum = float('-inf')\n",
    "\n",
    "def max_path_sum(root: TreeNode) -> int:\n",
    "    global max_sum\n",
    "    max_path_sum_helper(root)\n",
    "    return max_sum\n",
    "\n",
    "def max_path_sum_helper(node: TreeNode) -> int:\n",
    "    global max_sum\n",
    "\n",
    "    if not node:\n",
    "        return 0\n",
    "\n",
    "    left_sum = max(max_path_sum_helper(node.left), 0)\n",
    "    right_sum = max(max_path_sum_helper(node.right), 0)\n",
    "\n",
    "    max_sum = max(max_sum, node.val + left_sum + right_sum)\n",
    "\n",
    "    return node.val + max(left_sum, right_sum)\n",
    "\n"
   ]
  },
  {
   "cell_type": "markdown",
   "metadata": {},
   "source": [
    "### Complexity Analysis\n",
    "The time complexity is O(n), where n denotes the number of nodes in the tree. This is because it traverses each node of the tree once.\n",
    "\n",
    "The space complexity is O(n) due to the space taken up by the recursive call stack, which can grow as large as the height of the binary tree. The largest possibile height of a binary tree is n."
   ]
  }
 ],
 "metadata": {
  "kernelspec": {
   "display_name": "Python 3",
   "language": "python",
   "name": "python3"
  },
  "language_info": {
   "codemirror_mode": {
    "name": "ipython",
    "version": 3
   },
   "file_extension": ".py",
   "mimetype": "text/x-python",
   "name": "python",
   "nbconvert_exporter": "python",
   "pygments_lexer": "ipython3",
   "version": "3.12.6"
  }
 },
 "nbformat": 4,
 "nbformat_minor": 2
}
