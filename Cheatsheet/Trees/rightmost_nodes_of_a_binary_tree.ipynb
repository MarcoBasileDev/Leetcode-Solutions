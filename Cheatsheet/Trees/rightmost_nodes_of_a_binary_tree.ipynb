{
 "cells": [
  {
   "cell_type": "markdown",
   "metadata": {},
   "source": [
    "# Rightmost Nodes of a Binary Tree\n",
    "Return an array containing the values of the rightmost nodes at each level of a binary tree."
   ]
  },
  {
   "cell_type": "markdown",
   "metadata": {},
   "source": [
    "## Intuition\n",
    "At first glance, the solution to this problem might seem as simple as traversing the rightmost branch of the tree until we reach a leaf node. However, this approach is incorrect because we need to consider the entire tree to obtain the correct output, not just a single branch. \n",
    "\n",
    "A more effective approach is to traverse the tree **level by level**, allowing us to identify and retrieve the last (i.e., rightmost) node at each level.\n",
    "\n",
    "We know that **BFS (Breadth-First Search)** traverses nodes level by level. However, standard BFS does not provide explicit markers for when one level ends and another begins. Instead, we can use a variation called **level-order traversal**, which processes one level at a time.\n",
    "\n",
    "---\n",
    "\n",
    "## Level-Order Traversal\n",
    "The core idea is that at any given level of the tree, the children of the nodes at that level comprise the next level. This means:\n",
    "- The children of level 1's nodes make up level 2.\n",
    "- The children of level 2's nodes make up level 3.\n",
    "- This pattern continues until all levels are processed.\n",
    "\n",
    "### How It Works\n",
    "1. **Initialize the queue**  \n",
    "   - Start by placing the root node into a queue, as it represents the first level.\n",
    "   - Begin BFS using a `while` loop that runs until the queue is empty (i.e., all nodes have been visited).\n",
    "\n",
    "2. **Process each level**  \n",
    "   - **Determine the level size:** Store the current queue size (`level_size`), which represents the number of nodes in the current level. Initially, the queue contains only the root node, indicating a level size of 1.\n",
    "   - **Traverse the level:** Iterate through all nodes at this level:\n",
    "     - Remove (`pop`) each node from the queue.\n",
    "     - Add its children (left and right) to the queue for processing in the next iteration.\n",
    "\n",
    "3. **Repeat the process**  \n",
    "   - After processing all nodes of the current level, the queue will contain all nodes of the next level.\n",
    "   - Repeat steps 1 and 2 until the queue is empty.\n",
    "\n",
    "By following this approach, we can easily determine the **rightmost node** at each level by collecting the last node encountered in each iteration.\n",
    "\n",
    "---\n",
    "\n",
    "### Complexity Analysis\n",
    "The time complexity is O(n), where n denotes the number of nodes in the tree. This is because we process each node of the tree once during the level-order traversal.\n",
    "\n",
    "The space complexty is O(n) due to the space taken up by the queue. The queue's size will grow as large as the level with the most nodes. In the worst case, this occurs at the final level when all the last-level nodes are non-null, totaling approxiamately n/2 nodes."
   ]
  },
  {
   "cell_type": "code",
   "execution_count": 1,
   "metadata": {},
   "outputs": [],
   "source": [
    "from typing import List\n",
    "from collections import deque\n",
    "\n",
    "class TreeNode:\n",
    "    def __init__(self, val):\n",
    "        self.val = val\n",
    "        self.left = None\n",
    "        self.right = None\n",
    "\n",
    "def rightmost_nodes_of_a_binary_tree(root: TreeNode) -> List[int]:\n",
    "    if not root:\n",
    "        return []\n",
    "    \n",
    "    res = []\n",
    "    queue = deque([root])\n",
    "\n",
    "    while queue:\n",
    "        level_size = len(queue)\n",
    "        for i in range(level_size):\n",
    "            node = queue.popleft()\n",
    "\n",
    "            if node.left:\n",
    "                queue.append(node.left)\n",
    "            \n",
    "            if node.right:\n",
    "                queue.append(node.right)\n",
    "            \n",
    "            if i == level_size - 1:\n",
    "                res.append(node.val)\n",
    "    \n",
    "    return res"
   ]
  }
 ],
 "metadata": {
  "kernelspec": {
   "display_name": "Python 3",
   "language": "python",
   "name": "python3"
  },
  "language_info": {
   "codemirror_mode": {
    "name": "ipython",
    "version": 3
   },
   "file_extension": ".py",
   "mimetype": "text/x-python",
   "name": "python",
   "nbconvert_exporter": "python",
   "pygments_lexer": "ipython3",
   "version": "3.12.6"
  }
 },
 "nbformat": 4,
 "nbformat_minor": 2
}
