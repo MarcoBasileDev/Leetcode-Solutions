{
 "cells": [
  {
   "cell_type": "markdown",
   "metadata": {},
   "source": [
    "# Is Palindrome Valid\n",
    "\n",
    "A palindrome is a sequence of characters that reads the same forward and backward. <br/>\n",
    "Given a string, determine if it's a palindrome after removing all non-alphanumeric characters. A characters is alphanumeric if it's either a letter or a number.\n",
    "\n",
    "**Example 1:**<br/>\n",
    "Input: s = \"a dog! a panic in a pagoda.\" <br/>\n",
    "Output: True\n",
    "\n",
    "**Example 1:**<br/>\n",
    "Input: s = \"abc123\" <br/>\n",
    "Output: False\n",
    "\n",
    "\n",
    "**Constraints:**<br/>\n",
    "The string may include a combination of lowercase English letters, numbers,spaces, and punctuasions."
   ]
  },
  {
   "cell_type": "markdown",
   "metadata": {},
   "source": [
    "## Intuition\n",
    "\n",
    "A string is considered a palindrome if it remains the same when read both forward and backward. In other words, reversing the string results in the same sequence, disregarding spaces and punctuation. <br/>\n",
    "For a string to be a palindrome, the first character must match the last, the second must match the second-to-last, and so on.  <br/>\n",
    "If the string has an odd length, there will be a central character that does not need to be compared since it has no mirrored counterpart. <br/>\n",
    "Therefore, using a two-pointer approach is both an ideal and optimal strategy for checking palindromes.\n",
    "\n",
    "The logic can be summarized as follows:\n",
    "- If the alphanumeric characters at left and right are the same, move both pointers inward to process the next pair of characters.\n",
    "- If not, the string is not a palindrome: return False.\n",
    "\n",
    "If we successfully compare all character pairs without returning false, the string is palindrome.\n",
    "\n",
    "**What about non-alphanumeric characters?**\n",
    "\n",
    "Since non-alphanumeric characters don't affect whether a string is a palindrome, we should skip them.\n",
    "- Increment left until the character it points to is alphanumeric.\n",
    "- Increment right until the character it points to is alphanumeric."
   ]
  },
  {
   "cell_type": "code",
   "execution_count": 1,
   "metadata": {},
   "outputs": [],
   "source": [
    "def is_palindrome_valid(s: str) -> bool:\n",
    "    left, right = 0, len(s) - 1\n",
    "\n",
    "    while left < right:\n",
    "        \n",
    "        while left < right and not s[left].isalnum():\n",
    "            left += 1\n",
    "\n",
    "        while left < right and not s[right].isalnum():\n",
    "            right -= 1\n",
    "\n",
    "        if s[left] != s[right]:\n",
    "            return False\n",
    "        \n",
    "        left += 1\n",
    "        right -= 1\n",
    "        \n",
    "    return True"
   ]
  },
  {
   "cell_type": "markdown",
   "metadata": {},
   "source": [
    "The time complexity is O(n), where n denotes the length of the string. This is because we perform approximately n iterasions using the two-pointer technique.<br/>\n",
    "We only allocated a constat number of variables, so the space complexity is O(1)."
   ]
  },
  {
   "cell_type": "markdown",
   "metadata": {},
   "source": [
    "## Tests"
   ]
  },
  {
   "cell_type": "code",
   "execution_count": 2,
   "metadata": {},
   "outputs": [
    {
     "name": "stderr",
     "output_type": "stream",
     "text": [
      "........\n",
      "----------------------------------------------------------------------\n",
      "Ran 8 tests in 0.004s\n",
      "\n",
      "OK\n"
     ]
    }
   ],
   "source": [
    "import unittest\n",
    "class TestIsPalindromeValid(unittest.TestCase):\n",
    "    \n",
    "    def test_empty_string(self):\n",
    "        self.assertTrue(is_palindrome_valid(\"\"))\n",
    "    \n",
    "    def test_single_character(self):\n",
    "        self.assertTrue(is_palindrome_valid(\"a\"))\n",
    "    \n",
    "    def test_two_character_palindrome(self):\n",
    "        self.assertTrue(is_palindrome_valid(\"aa\"))\n",
    "    \n",
    "    def test_two_character_non_palindrome(self):\n",
    "        self.assertFalse(is_palindrome_valid(\"ab\"))\n",
    "    \n",
    "    def test_non_alphanumeric_string(self):\n",
    "        self.assertTrue(is_palindrome_valid(\"!@#$%^&*()\"))\n",
    "    \n",
    "    def test_palindrome_with_punctuation_and_numbers(self):\n",
    "        self.assertTrue(is_palindrome_valid(\"12.02.2021\"))\n",
    "    \n",
    "    def test_non_palindrome_with_punctuation_and_numbers(self):\n",
    "        self.assertFalse(is_palindrome_valid(\"21.02.2021\"))\n",
    "    \n",
    "    def test_non_palindrome_with_punctuation(self):\n",
    "        self.assertFalse(is_palindrome_valid(\"hello, world!\"))\n",
    "\n",
    "\n",
    "def run_tests():\n",
    "    suite = unittest.TestLoader().loadTestsFromTestCase(TestIsPalindromeValid)\n",
    "    unittest.TextTestRunner().run(suite)\n",
    "\n",
    "run_tests()"
   ]
  }
 ],
 "metadata": {
  "kernelspec": {
   "display_name": "Python 3",
   "language": "python",
   "name": "python3"
  },
  "language_info": {
   "codemirror_mode": {
    "name": "ipython",
    "version": 3
   },
   "file_extension": ".py",
   "mimetype": "text/x-python",
   "name": "python",
   "nbconvert_exporter": "python",
   "pygments_lexer": "ipython3",
   "version": "3.11.9"
  }
 },
 "nbformat": 4,
 "nbformat_minor": 2
}
