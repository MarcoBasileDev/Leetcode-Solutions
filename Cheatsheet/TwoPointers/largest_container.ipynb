{
 "cells": [
  {
   "cell_type": "markdown",
   "metadata": {},
   "source": [
    "# Largest Container\n",
    "\n",
    "You are given an array of numbers, each representing the height of a vertical line on a graph.<br/>\n",
    "A container can be formed with any pair of these lines, along with the x-axis of the graph. <br/>\n",
    "Return the amount of water which the largest container can hold.\n",
    "\n",
    "**Example:**<br/>\n",
    "Input: heights = [2, 7, 8, 3, 7, 6]<br/>\n",
    "Output: 24"
   ]
  },
  {
   "cell_type": "markdown",
   "metadata": {},
   "source": [
    "## Intuition\n",
    "We have two vertical lines, heights[i] and heights[j], so the amount of water that can be contained between these two lines is min(heights[i], heights[j]) * (j - i).<br/>\n",
    "In other words, the area of the container depends on two things:\n",
    "- The width of the rectangle.\n",
    "- The height of the rectangle, as dictated by the shorter of the two lines.\n",
    "\n",
    "The brute force approach involves checking all pairs of lines, and returning the larget area found between each pair:"
   ]
  },
  {
   "cell_type": "code",
   "execution_count": 9,
   "metadata": {},
   "outputs": [],
   "source": [
    "from typing import List\n",
    "\n",
    "def largest_container(heights: List[int]) -> int:\n",
    "    n = len(heights)\n",
    "    max_water = 0\n",
    "\n",
    "    for i in range(n):\n",
    "        for j in range(i + 1, n):\n",
    "            water = min(heights[i], heights[j]) * (j - i)\n",
    "            max_water = max(max_water, water)\n",
    "    \n",
    "    return max_water"
   ]
  },
  {
   "cell_type": "markdown",
   "metadata": {},
   "source": [
    "Searching through all possibile pairs of values takes O(n<sup>2</sup>) time, where n denotes the lenght of the array.<br/>\n",
    "Let's explore a more efficient solution. <br/>\n",
    "To maximize the container's area, we want both its height and width to be as large as possible. We know that the container with the maximum width spans from index <i>0</i> to index <i>n - 1</i>. Therefore, we can start by maximizing the width by placing a pointer at each end of the array. Then, by gradually moving these pointers inward, we aim to find a container with a greater height that potentially yields a larger area.\n",
    "\n",
    "This approach suggests that we can use the two-pointer technique to solve the problem efficiently.\n",
    "\n",
    "So, we could start by maximizing the width by setting a pointer at each end of the array. Then, we can gradyally reduce the width by moving these two pointers inward.\n",
    "\n",
    "**How do we decide which pointer to move?**<br/>\n",
    "Since we want to maximize the height, we should move the pointer that corresponds to the shorter height. This is because moving the taller one wouldn't help, as the water level is determined by the shorter height. If the new height at the moved pointer is greater, we may find a new maximum area.\n",
    "\n",
    "**What if both heights are the same?**<br/>\n",
    "Moving either pointer inward decreases the width, making height the determining factor. However, no matter which pointer we move, the other one remains fixed. This means that even if we move a pointer to a taller height, the other pointer still limits the water level, as we take the minimum of the two heights.<br/>\n",
    "Since we can't increase the height by moving just one pointer, the best approach is to move both pointers inward.\n",
    "\n",
    "Summary:\n",
    "- If the left line is smaller, move the left pointer inward.\n",
    "- If the right line is smaller, move the right pointer inward.\n",
    "- If both lines have the same height, move both pointers inward."
   ]
  },
  {
   "cell_type": "code",
   "execution_count": 10,
   "metadata": {},
   "outputs": [],
   "source": [
    "from typing import List\n",
    "\n",
    "def largest_container(heights: List[int]) -> int:\n",
    "        l, r = 0, len(heights) - 1\n",
    "        max_water = 0\n",
    "\n",
    "        while l < r:\n",
    "            water = min(heights[l], heights[r]) * (r - l)\n",
    "            max_water = max(max_water, water)\n",
    "\n",
    "            if heights[l] < heights[r]:\n",
    "                l += 1\n",
    "            elif heights[l] > heights[r]:\n",
    "                r -= 1\n",
    "            else:\n",
    "                l += 1\n",
    "                r -= 1\n",
    "        \n",
    "        return max_water"
   ]
  },
  {
   "cell_type": "markdown",
   "metadata": {},
   "source": [
    "The time complexity is O(n) because we perform approximately n interations using the two-pointers technique.<br/>\n",
    "The space complexity is O(1), because we only allocated a constant number of variables."
   ]
  },
  {
   "cell_type": "markdown",
   "metadata": {},
   "source": [
    "## Tests"
   ]
  },
  {
   "cell_type": "code",
   "execution_count": 11,
   "metadata": {},
   "outputs": [
    {
     "name": "stderr",
     "output_type": "stream",
     "text": [
      "......\n",
      "----------------------------------------------------------------------\n",
      "Ran 6 tests in 0.003s\n",
      "\n",
      "OK\n"
     ]
    }
   ],
   "source": [
    "import unittest\n",
    "\n",
    "class TestLargestContainer(unittest.TestCase):\n",
    "    \n",
    "    def test_empty_array(self):\n",
    "        result = largest_container([])\n",
    "        self.assertEqual(result, 0)\n",
    "    \n",
    "    def test_single_element_array(self):\n",
    "        result = largest_container([5])\n",
    "        self.assertEqual(result, 0)\n",
    "    \n",
    "    def test_no_container_possible(self):\n",
    "        result = largest_container([0, 1, 0])\n",
    "        self.assertEqual(result, 0)\n",
    "    \n",
    "    def test_all_heights_equal(self):\n",
    "        result = largest_container([3, 3, 3, 3])\n",
    "        self.assertEqual(result, 9)  # max area with width 3 and height 3\n",
    "    \n",
    "    def test_strictly_increasing_heights(self):\n",
    "        result = largest_container([1, 2, 3, 4])\n",
    "        self.assertEqual(result, 4)  # max area between index 0 and 3 (height 1 and 4)\n",
    "    \n",
    "    def test_strictly_decreasing_heights(self):\n",
    "        result = largest_container([4, 3, 2, 1])\n",
    "        self.assertEqual(result, 4)  # max area between index 0 and 3 (height 1 and 4)\n",
    "\n",
    "def run_tests():\n",
    "    suite = unittest.TestLoader().loadTestsFromTestCase(TestLargestContainer)\n",
    "    unittest.TextTestRunner().run(suite)\n",
    "\n",
    "run_tests()"
   ]
  }
 ],
 "metadata": {
  "kernelspec": {
   "display_name": "Python 3",
   "language": "python",
   "name": "python3"
  },
  "language_info": {
   "codemirror_mode": {
    "name": "ipython",
    "version": 3
   },
   "file_extension": ".py",
   "mimetype": "text/x-python",
   "name": "python",
   "nbconvert_exporter": "python",
   "pygments_lexer": "ipython3",
   "version": "3.11.9"
  }
 },
 "nbformat": 4,
 "nbformat_minor": 2
}
