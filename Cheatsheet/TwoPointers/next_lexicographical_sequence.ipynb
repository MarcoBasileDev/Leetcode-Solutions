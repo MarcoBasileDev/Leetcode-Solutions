{
 "cells": [
  {
   "cell_type": "markdown",
   "metadata": {},
   "source": [
    "# Next Lexicographical Sequence\n",
    "Given a string of lowercase English letters, rearrange the characters to form a new string representing the next immediate sequence in lexicographical (alphabetical) order. If the given string is already last in lexicographical order among all possible arrangements, return the arrangement that’s first in lexicographical order.\n",
    "\n",
    "**Example1:**<br/>\n",
    "Input: s = \"abcd\"<br/>\n",
    "Output:\"abdc\"<br/>\n",
    "Explanation: \"abdc\" is the next sequence in lexicographical order after rearranging \"abcd\".\n",
    "\n",
    "**Example2:**\n",
    "Input: s = \"dcba\"<br/>\n",
    "Output:\"abcd\"<br/>\n",
    "Explanation: Since \"dcba\" is the last sequence in lexicographical order, we return the first sequence:\"abcd\".\n",
    "\n",
    " **Constraints:**\n",
    " ● The string contains atleast one character."
   ]
  },
  {
   "cell_type": "markdown",
   "metadata": {},
   "source": [
    "## Intuition\n"
   ]
  }
 ],
 "metadata": {
  "language_info": {
   "name": "python"
  }
 },
 "nbformat": 4,
 "nbformat_minor": 2
}
