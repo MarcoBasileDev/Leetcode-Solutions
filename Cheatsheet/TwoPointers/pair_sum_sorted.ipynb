{
 "cells": [
  {
   "cell_type": "markdown",
   "id": "a4506f348f2e623c",
   "metadata": {},
   "source": [
    "# Pair Sum - Sorted\n",
    "Given an array of integers sorted in ascending order and a target value, return the indexes of any pair of numbers in the array that sum to the target. The order of the indexes in the result doesn't matter. If no pair is found, return an empty array.\n",
    "\n",
    "**Example 1** <br/>\n",
    "Input: nums = [-5, -2, 3, 4, 6], target = 7 <br/>\n",
    "Output: [2, 3] <br/>\n",
    "Explanation: nums[2] + nums[3] = 3 + 4 = 7 <br/>\n",
    "\n",
    "**Example 2** <br/>\n",
    "Input: nums = [1, 1, 1], target = 2 <br/>\n",
    "Output: [0, 1] <br/>\n",
    "Explanation: other valid outputs could be [1, 0], [0, 2], [2, 0], [1, 2] or [2, 1] <br/>"
   ]
  },
  {
   "cell_type": "markdown",
   "id": "013d381d",
   "metadata": {},
   "source": [
    "## Intuition\n",
    "With the brute force solution, it’s possible to check all possible pairs. This is done using two nested loops:\n",
    "- The outer loop traverses the array for the first element of the pair.\n",
    "- The inner loop traverses the rest of the array to find the second element."
   ]
  },
  {
   "cell_type": "code",
   "execution_count": 10,
   "id": "e78bd055",
   "metadata": {},
   "outputs": [],
   "source": [
    "from typing import List\n",
    "\n",
    "def pair_sum_sorted(nums: List[int], target: int) -> List[int]:\n",
    "    n = len(nums)\n",
    "    for i in range(n):\n",
    "        for j in range(i + 1, n):\n",
    "            if nums[i] + nums[j] == target:\n",
    "                return [i, j]\n",
    "    return []"
   ]
  },
  {
   "cell_type": "markdown",
   "id": "d8e7d087",
   "metadata": {},
   "source": [
    "This approach has a time complexity of O(n<sup>2</sup>), where n denotes the lenght of the array. <br/>\n",
    "While this approach works, it doesn’t take into account that the input array is sorted. A two-pointer approach is more efficient here because a sorted array allows us to move the pointers logically. <br/> By starting with the smallest and largest values, we can take advantage of the sorted input. <br/>\n",
    "- If nums[left] + nums[right] > target, we need to decrease the right pointer, aiming to reduce the sum towards the target value.\n",
    "- nums[left] + nums[right] < target, we need to increase the left pointer, aiming to increase the sum towards the target value.\n",
    "- If nums[left] + nums[right] equals the target, we’ve found the solution.\n",
    "\n",
    "Using this approach that leverages the sorted array, we can improve the time complexity to O(n).\n",
    "\n",
    "In both cases, the space complexity is O(1), because we only allocate a constant number of variables."
   ]
  },
  {
   "cell_type": "code",
   "execution_count": 27,
   "id": "4777a06a",
   "metadata": {},
   "outputs": [],
   "source": [
    "from typing import List\n",
    "\n",
    "def pair_sum_sorted(nums: List[int], target: int) -> List[int]:    \n",
    "    l, r  = 0, len(nums) - 1\n",
    "\n",
    "    while l < r:\n",
    "        summ = nums[l] + nums[r]\n",
    "\n",
    "        if summ > target:\n",
    "            r -= 1        \n",
    "        elif summ < target:\n",
    "            l += 1        \n",
    "        else:\n",
    "            return [l, r]\n",
    "        \n",
    "    return []"
   ]
  },
  {
   "cell_type": "markdown",
   "id": "3e00e61a",
   "metadata": {},
   "source": [
    "## Tests"
   ]
  },
  {
   "cell_type": "code",
   "execution_count": 35,
   "id": "15b7bbbb",
   "metadata": {},
   "outputs": [
    {
     "name": "stderr",
     "output_type": "stream",
     "text": [
      ".......\n",
      "----------------------------------------------------------------------\n",
      "Ran 7 tests in 0.003s\n",
      "\n",
      "OK\n"
     ]
    }
   ],
   "source": [
    "import unittest\n",
    "class TestPairSumSorted(unittest.TestCase):\n",
    "    \n",
    "    def test_pair_sum_found(self):\n",
    "        result = pair_sum_sorted([1, 2, 3, 4, 5], 9)\n",
    "        self.assertListEqual(result, [3, 4])\n",
    "    \n",
    "    def test_pair_sum_not_found(self):\n",
    "        result = pair_sum_sorted([1, 2, 3, 4, 5], 10)\n",
    "        self.assertListEqual(result, [])\n",
    "    \n",
    "    def test_pair_sum_single_element(self):\n",
    "        result = pair_sum_sorted([3], 3)\n",
    "        self.assertListEqual(result, [])\n",
    "    \n",
    "    def test_pair_sum_empty_list(self):\n",
    "        result = pair_sum_sorted([], 5)\n",
    "        self.assertListEqual(result, [])\n",
    "\n",
    "    def test_pair_sum_same_values(self):\n",
    "        result = pair_sum_sorted([1, 1, 3, 3], 6)\n",
    "        self.assertListEqual(result, [2, 3])\n",
    "\n",
    "    def test_with_negative_numbers(self):\n",
    "        result = pair_sum_sorted([-1, 2, 3], 2)\n",
    "        self.assertListEqual(result, [0, 2])\n",
    "    \n",
    "    def test_with_negative_target(self):\n",
    "        result = pair_sum_sorted([-4, -3, -2, -1, 1], -7)\n",
    "        self.assertListEqual(result, [0, 1])\n",
    "\n",
    "def run_tests():\n",
    "    suite = unittest.TestLoader().loadTestsFromTestCase(TestPairSumSorted)\n",
    "    unittest.TextTestRunner().run(suite)\n",
    "\n",
    "run_tests()\n"
   ]
  }
 ],
 "metadata": {
  "kernelspec": {
   "display_name": "Python 3",
   "language": "python",
   "name": "python3"
  },
  "language_info": {
   "codemirror_mode": {
    "name": "ipython",
    "version": 3
   },
   "file_extension": ".py",
   "mimetype": "text/x-python",
   "name": "python",
   "nbconvert_exporter": "python",
   "pygments_lexer": "ipython3",
   "version": "3.12.6"
  }
 },
 "nbformat": 5,
 "nbformat_minor": 9
}
