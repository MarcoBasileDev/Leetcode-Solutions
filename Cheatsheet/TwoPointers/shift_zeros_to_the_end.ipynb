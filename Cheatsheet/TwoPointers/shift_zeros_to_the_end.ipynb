{
 "cells": [
  {
   "cell_type": "markdown",
   "metadata": {},
   "source": [
    "#  Shift Zeros to the End\n",
    "Given an array of integers, modify the array in place to move all zeros to the end while maintaining the relative order of non-zero elements.\n",
    "\n",
    "**Example:**<br/>\n",
    "Input: nums = [0, 1, 0, 3, 2]<br/>\n",
    "Output:[1, 3, 2, 0, 0]"
   ]
  },
  {
   "cell_type": "markdown",
   "metadata": {},
   "source": [
    "## Intuition\n",
    "A naive approach to this problem is to build output using a separate array (temp). But, this solution is not applicable as we have to modify the array in place.<br/>\n",
    "We can try to focus on moving all non-zeros elements to the left of the array.<br/>\n",
    "We can use two pointers:\n",
    "- A left pointer to iterate over the array where the non-zero elements should be placed.\n",
    "- A right pointer to find non-zero elements."
   ]
  },
  {
   "cell_type": "code",
   "execution_count": 1,
   "metadata": {},
   "outputs": [],
   "source": [
    "from typing import List\n",
    "\n",
    "def shift_zeros_to_the_end(nums: List[int]) -> None:\n",
    "      l = 0\n",
    "\n",
    "      for r in range(len(nums)):\n",
    "        if nums[r] != 0:\n",
    "            nums[l], nums[r] = nums[r], nums[l]\n",
    "            l += 1"
   ]
  },
  {
   "cell_type": "markdown",
   "metadata": {},
   "source": [
    "The time complexity is O(n), where n denotes the length of the array, because we iterate through the input array once.<br/>\n",
    "The space complexity is O(1) because shifting is done in place."
   ]
  },
  {
   "cell_type": "markdown",
   "metadata": {},
   "source": [
    "## Tests"
   ]
  },
  {
   "cell_type": "code",
   "execution_count": 3,
   "metadata": {},
   "outputs": [
    {
     "name": "stderr",
     "output_type": "stream",
     "text": [
      ".......\n",
      "----------------------------------------------------------------------\n",
      "Ran 7 tests in 0.004s\n",
      "\n",
      "OK\n"
     ]
    }
   ],
   "source": [
    "import unittest\n",
    "\n",
    "class TestShiftZeros(unittest.TestCase):\n",
    "    \n",
    "    def test_empty_array(self):\n",
    "        nums = []\n",
    "        shift_zeros_to_the_end(nums)\n",
    "        self.assertListEqual(nums, [])\n",
    "    \n",
    "    def test_single_zero(self):\n",
    "        nums = [0]\n",
    "        shift_zeros_to_the_end(nums)\n",
    "        self.assertListEqual(nums, [0])\n",
    "    \n",
    "    def test_single_one(self):\n",
    "        nums = [1]\n",
    "        shift_zeros_to_the_end(nums)\n",
    "        self.assertListEqual(nums, [1])\n",
    "    \n",
    "    def test_all_zeros(self):\n",
    "        nums = [0, 0, 0]\n",
    "        shift_zeros_to_the_end(nums)\n",
    "        self.assertListEqual(nums, [0, 0, 0])\n",
    "    \n",
    "    def test_all_non_zeros(self):\n",
    "        nums = [1, 3, 2]\n",
    "        shift_zeros_to_the_end(nums)\n",
    "        self.assertListEqual(nums, [1, 3, 2])\n",
    "    \n",
    "    def test_mixed_with_zeros_at_end(self):\n",
    "        nums = [1, 1, 1, 0, 0]\n",
    "        shift_zeros_to_the_end(nums)\n",
    "        self.assertListEqual(nums, [1, 1, 1, 0, 0])\n",
    "    \n",
    "    def test_mixed_with_zeros_at_start(self):\n",
    "        nums = [0, 0, 1, 1, 1]\n",
    "        shift_zeros_to_the_end(nums)\n",
    "        self.assertListEqual(nums, [1, 1, 1, 0, 0])\n",
    "\n",
    "def run_tests():\n",
    "    suite = unittest.TestLoader().loadTestsFromTestCase(TestShiftZeros)\n",
    "    unittest.TextTestRunner().run(suite)\n",
    "\n",
    "run_tests()\n"
   ]
  }
 ],
 "metadata": {
  "kernelspec": {
   "display_name": "Python 3",
   "language": "python",
   "name": "python3"
  },
  "language_info": {
   "codemirror_mode": {
    "name": "ipython",
    "version": 3
   },
   "file_extension": ".py",
   "mimetype": "text/x-python",
   "name": "python",
   "nbconvert_exporter": "python",
   "pygments_lexer": "ipython3",
   "version": "3.11.9"
  }
 },
 "nbformat": 4,
 "nbformat_minor": 2
}
