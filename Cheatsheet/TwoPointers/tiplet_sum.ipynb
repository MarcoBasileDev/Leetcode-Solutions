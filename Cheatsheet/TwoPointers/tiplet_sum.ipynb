{
 "cells": [
  {
   "cell_type": "markdown",
   "metadata": {},
   "source": [
    "# Tiplet Sum\n",
    "Given an array of integers, return all triplets [a, b, c] such that a + b + c = 0. The solution must not contain duplicate triplets (e.g. [1, 2, 3] and [2, 3, 1] are considered duplicate triplets). If no such triplets are found, return an empty array.\n",
    "\n",
    "Each triplet can be arranged in any order, and the output can be returned in any order.\n",
    "\n",
    "**Example:**\n",
    "Input: nums = [0, -1, 2, -3, 1] <br/>\n",
    "Output: [[-3, 1, 2], [-1, 0, 1]]"
   ]
  },
  {
   "cell_type": "markdown",
   "metadata": {},
   "source": [
    "## Intuition\n",
    "A brute force solution involves checking every possibile triplet in the array to see if they sum to zero.<br/>\n",
    "Three nested loops, iterating through each combination of three elements. <br/>\n",
    "Duplicate triplets can be avoided by sorting each triplet and then add these triplets to a hash set."
   ]
  },
  {
   "cell_type": "code",
   "execution_count": 20,
   "metadata": {},
   "outputs": [],
   "source": [
    "from typing import List\n",
    "\n",
    "def triplet_sum(nums: List[int]) -> List[List[int]]:\n",
    "    n = len(nums)\n",
    "    triplets = set()\n",
    "\n",
    "    for i in range(n):\n",
    "        for j in range(i + 1, n):\n",
    "            for k in range(j + 1, n):\n",
    "                if nums[i] + nums[j] + nums[k] == 0:\n",
    "                    triplet = tuple(sorted([nums[i], nums[j], nums[k]]))\n",
    "                    triplets.add(triplet)\n",
    "    \n",
    "    return [list(triplet) for triplet in triplets]"
   ]
  },
  {
   "cell_type": "markdown",
   "metadata": {},
   "source": [
    "This solution is quite inefficient as it has a time complexity of O(n<sup>3</sup>), where n denotes the length of the input array.<br/>\n",
    "If we fix one of the numbers in the triplet, the problem is simply reduced to finding the other two. In other words, if we fix one of the numbers in the triplet, the problem is reduced to pair_sum_sorted. <br/> \n",
    "However, we can only use that algorithm on a sorted array. So, we start by sorting the input. <br/>\n",
    "The main difference is that we don't stop when we find one pair; we keep going until all target pairs are found. After calling the function on a fixed i and pair_sum_sorted, we recall it with i + 1 and pair_sum_sorted until i reaches the last element of the array."
   ]
  },
  {
   "cell_type": "markdown",
   "metadata": {},
   "source": [
    "**How to handle duplicates?** <br/><br/>\n",
    "Case 1: duplicate <i>i</i> values. <br/>\n",
    "If we have an array [-4, -4, 0, 4], in both <i>i</i> instances (i = 0 and i = 1) we'd naturally end up with the same triplets. <br/>\n",
    "To avoid picking the same <i>i</i> value, we keep increasing <i>i</i> by 1 when nums[i] == nums[i - 1].<br/><br/>\n",
    "Case 2: duplicate <i>j</i> values. <br/>\n",
    "The same problem that occurs with duplicate <i>i</i> values also applies to <i>j</i>. The remedy is the same as before: ensure the current <i>j</i> value isn't the same as the previous one.\n",
    "By automatically avoiding duplicate <i>i</i> and <i>j</i> values, we ensure that each pair [i, j] is unique, making it unnecessary to handle duplicate <i>k</i> values.<br/><br/>\n",
    "**Additional optimization** <br/>\n",
    "Triplets that sum to 0 cannot be formed using positive numbers alone. Therefore, we can stop trying to find triplets once we reach a positive <i>i</i> value since this implies that <i>j</i> and <i>k</i> would also be positive."
   ]
  },
  {
   "cell_type": "code",
   "execution_count": 21,
   "metadata": {},
   "outputs": [],
   "source": [
    "from typing import List\n",
    "\n",
    "def triplet_sum(nums: List[int]) -> List[List[int]]:\n",
    "    res = []\n",
    "    nums.sort()\n",
    "    \n",
    "    for i, a in enumerate(nums):\n",
    "        if a > 0:\n",
    "            break\n",
    "        \n",
    "        if i > 0 and a == nums[i - 1]:\n",
    "            continue\n",
    "        \n",
    "        l, r = i + 1, len(nums) - 1\n",
    "        while l < r:\n",
    "            threeSum = a + nums[l] + nums[r]\n",
    "            if threeSum > 0:\n",
    "                r -= 1\n",
    "            elif threeSum < 0:\n",
    "                l += 1\n",
    "            else:\n",
    "                res.append([a, nums[l], nums[r]])\n",
    "                l += 1\n",
    "                r -= 1\n",
    "                while nums[l] == nums[l - 1] and l < r:\n",
    "                    l += 1\n",
    "\n",
    "    return res"
   ]
  },
  {
   "cell_type": "markdown",
   "metadata": {},
   "source": [
    "**Time Complexity**: O(n<sup>2</sup>)\n",
    "- Sorting the array takes O(n log n) time.\n",
    "- Then, for each of the n elements in the array we \"call\" pair_sum_sorted_all_pairs at most once, which runs in O(n) time.\n",
    "\n",
    "Therefore, the overall time complexity is O(n log n) + O(n<sup>2</sup>) = O(n<sup>2</sup>).<br/>\n",
    "Technically, the space complexity is O(n) due to the sorting algorithm. Additionally, it can be O(n<sup>2</sup>) if we include the output array.\n"
   ]
  },
  {
   "cell_type": "code",
   "execution_count": 22,
   "metadata": {},
   "outputs": [
    {
     "name": "stderr",
     "output_type": "stream",
     "text": [
      ".......\n",
      "----------------------------------------------------------------------\n",
      "Ran 7 tests in 0.004s\n",
      "\n",
      "OK\n"
     ]
    }
   ],
   "source": [
    "import unittest\n",
    "class TestTripletSum(unittest.TestCase):\n",
    "    \n",
    "    def test_sum_found(self):\n",
    "        result = triplet_sum([0, -1, 2, -3, 1])\n",
    "        self.assertCountEqual(result, [[-3, 1, 2], [-1, 0, 1]])\n",
    "\n",
    "    def test_sum_not_found(self):\n",
    "        result = triplet_sum([0, 1, 2, 1, 1])\n",
    "        self.assertListEqual(result, [])\n",
    "    \n",
    "    def test_duplicat(self):\n",
    "        result = triplet_sum([0, 0, 1, -1, 1, -1])\n",
    "        self.assertListEqual(result, [[-1, 0, 1]])\n",
    "\n",
    "    def test_all_the_same(self):\n",
    "        result = triplet_sum([0, 0, 0])\n",
    "        self.assertListEqual(result, [[0, 0, 0]])\n",
    "\n",
    "    def test_empty(self):\n",
    "        result = triplet_sum([])\n",
    "        self.assertListEqual(result, [])\n",
    "\n",
    "    def test_one_element(self):\n",
    "        result = triplet_sum([0])\n",
    "        self.assertListEqual(result, [])\n",
    "\n",
    "    def test_two_elements(self):\n",
    "        result = triplet_sum([0])\n",
    "        self.assertListEqual(result, [])\n",
    "\n",
    "    \n",
    "def run_tests():\n",
    "    suite = unittest.TestLoader().loadTestsFromTestCase(TestTripletSum)\n",
    "    unittest.TextTestRunner().run(suite)\n",
    "\n",
    "run_tests()"
   ]
  }
 ],
 "metadata": {
  "kernelspec": {
   "display_name": "Python 3",
   "language": "python",
   "name": "python3"
  },
  "language_info": {
   "codemirror_mode": {
    "name": "ipython",
    "version": 3
   },
   "file_extension": ".py",
   "mimetype": "text/x-python",
   "name": "python",
   "nbconvert_exporter": "python",
   "pygments_lexer": "ipython3",
   "version": "3.11.9"
  }
 },
 "nbformat": 4,
 "nbformat_minor": 2
}
